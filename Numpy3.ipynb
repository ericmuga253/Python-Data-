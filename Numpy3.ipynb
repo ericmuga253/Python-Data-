{
  "cells": [
    {
      "cell_type": "markdown",
      "metadata": {
        "id": "view-in-github",
        "colab_type": "text"
      },
      "source": [
        "<a href=\"https://colab.research.google.com/github/ericmuga253/Python-Data-/blob/main/Numpy3.ipynb\" target=\"_parent\"><img src=\"https://colab.research.google.com/assets/colab-badge.svg\" alt=\"Open In Colab\"/></a>"
      ]
    },
    {
      "cell_type": "markdown",
      "metadata": {
        "id": "jCFr3r7iR2_X"
      },
      "source": [
        "# Numpy Exercise 3\n",
        "\n",
        "### All of the questions in this exercise are attributed to rougier/numpy-100"
      ]
    },
    {
      "cell_type": "code",
      "execution_count": null,
      "metadata": {
        "id": "uXXfV2PDR2_d"
      },
      "outputs": [],
      "source": [
        "import numpy as np"
      ]
    },
    {
      "cell_type": "markdown",
      "metadata": {
        "id": "z48NiIeWR2_k"
      },
      "source": [
        "#### 31. How to ignore all numpy warnings (not recommended)? (★☆☆)"
      ]
    },
    {
      "cell_type": "code",
      "execution_count": null,
      "metadata": {
        "colab": {
          "base_uri": "https://localhost:8080/"
        },
        "id": "HKQy9R3gR2_l",
        "outputId": "ff0138d3-b824-4419-a3aa-8ecf7d3e99a6"
      },
      "outputs": [
        {
          "output_type": "stream",
          "name": "stdout",
          "text": [
            "Result after division: [inf nan inf nan]\n"
          ]
        }
      ],
      "source": [
        "\n",
        "\n",
        "\n",
        "# Create an array with zeros\n",
        "arr = np.array([1, 0, 2, 0])\n",
        "\n",
        "# Save current numpy error settings\n",
        "old_settings = np.seterr(all='ignore')\n",
        "\n",
        "# Perform division by zero\n",
        "result = np.divide(arr, 0)\n",
        "\n",
        "# Restore the previous numpy error settings\n",
        "np.seterr(**old_settings)\n",
        "\n",
        "print(\"Result after division:\", result)\n"
      ]
    },
    {
      "cell_type": "markdown",
      "metadata": {
        "id": "YXs3e9J1R2_l"
      },
      "source": [
        "#### 32. Is the following expressions true? (★☆☆)\n",
        "```python\n",
        "np.sqrt(-1) == np.emath.sqrt(-1)\n",
        "```"
      ]
    },
    {
      "cell_type": "code",
      "execution_count": null,
      "metadata": {
        "colab": {
          "base_uri": "https://localhost:8080/"
        },
        "id": "mM2ueGwJR2_m",
        "outputId": "a89c1d08-5179-49c8-ac15-85ddbe096070"
      },
      "outputs": [
        {
          "output_type": "stream",
          "name": "stdout",
          "text": [
            "False\n"
          ]
        },
        {
          "output_type": "stream",
          "name": "stderr",
          "text": [
            "<ipython-input-6-c6ff0ad7fd7b>:1: RuntimeWarning: invalid value encountered in sqrt\n",
            "  print(np.sqrt(-1) == np.emath.sqrt(-1))\n"
          ]
        }
      ],
      "source": [
        "print(np.sqrt(-1) == np.emath.sqrt(-1))"
      ]
    },
    {
      "cell_type": "markdown",
      "metadata": {
        "id": "DwBvhCsmR2_m"
      },
      "source": [
        "#### 33. How to get the dates of yesterday, today and tomorrow? (★☆☆)"
      ]
    },
    {
      "cell_type": "code",
      "execution_count": null,
      "metadata": {
        "colab": {
          "base_uri": "https://localhost:8080/"
        },
        "id": "gB8K3-acR2_n",
        "outputId": "62effa57-90b3-4e69-e969-3d6a0e8572bf"
      },
      "outputs": [
        {
          "output_type": "stream",
          "name": "stdout",
          "text": [
            "Yesterday: 2024-04-24\n",
            "Today: 2024-04-25\n",
            "Tomorrow: 2024-04-26\n"
          ]
        }
      ],
      "source": [
        "from datetime import datetime, timedelta\n",
        "\n",
        "# Get today's date\n",
        "today = datetime.now().date()\n",
        "\n",
        "# Get yesterday's date\n",
        "yesterday = today - timedelta(days=1)\n",
        "\n",
        "# Get tomorrow's date\n",
        "tomorrow = today + timedelta(days=1)\n",
        "\n",
        "print(\"Yesterday:\", yesterday)\n",
        "print(\"Today:\", today)\n",
        "print(\"Tomorrow:\", tomorrow)"
      ]
    },
    {
      "cell_type": "markdown",
      "metadata": {
        "id": "RsFrbkBAR2_o"
      },
      "source": [
        "#### 34. How to get all the dates corresponding to the month of July 2016? (★★☆)"
      ]
    },
    {
      "cell_type": "code",
      "execution_count": null,
      "metadata": {
        "colab": {
          "base_uri": "https://localhost:8080/"
        },
        "id": "yoRiuxajR2_o",
        "outputId": "f7128a4f-aa13-409e-f7e4-c12e770e2ea1"
      },
      "outputs": [
        {
          "output_type": "stream",
          "name": "stdout",
          "text": [
            "2016-07-01 00:00:00\n",
            "2016-07-02 00:00:00\n",
            "2016-07-03 00:00:00\n",
            "2016-07-04 00:00:00\n",
            "2016-07-05 00:00:00\n",
            "2016-07-06 00:00:00\n",
            "2016-07-07 00:00:00\n",
            "2016-07-08 00:00:00\n",
            "2016-07-09 00:00:00\n",
            "2016-07-10 00:00:00\n",
            "2016-07-11 00:00:00\n",
            "2016-07-12 00:00:00\n",
            "2016-07-13 00:00:00\n",
            "2016-07-14 00:00:00\n",
            "2016-07-15 00:00:00\n",
            "2016-07-16 00:00:00\n",
            "2016-07-17 00:00:00\n",
            "2016-07-18 00:00:00\n",
            "2016-07-19 00:00:00\n",
            "2016-07-20 00:00:00\n",
            "2016-07-21 00:00:00\n",
            "2016-07-22 00:00:00\n",
            "2016-07-23 00:00:00\n",
            "2016-07-24 00:00:00\n",
            "2016-07-25 00:00:00\n",
            "2016-07-26 00:00:00\n",
            "2016-07-27 00:00:00\n",
            "2016-07-28 00:00:00\n",
            "2016-07-29 00:00:00\n",
            "2016-07-30 00:00:00\n",
            "2016-07-31 00:00:00\n"
          ]
        }
      ],
      "source": [
        "from datetime import datetime, timedelta\n",
        "\n",
        "# Define the start date as July 1, 2016\n",
        "start_date = datetime(2016, 7, 1)\n",
        "\n",
        "# Define the end date as July 31, 2016\n",
        "end_date = datetime(2016, 7, 31)\n",
        "\n",
        "# Initialize a list to store the dates\n",
        "dates_in_july_2016 = []\n",
        "\n",
        "# Loop through each date from start_date to end_date\n",
        "current_date = start_date\n",
        "while current_date <= end_date:\n",
        "    # Add the current date to the list\n",
        "    dates_in_july_2016.append(current_date)\n",
        "    # Move to the next day\n",
        "    current_date =current_date + timedelta(days=1)\n",
        "\n",
        "# Print the list of dates\n",
        "for date in dates_in_july_2016:\n",
        "    print(date)\n"
      ]
    },
    {
      "cell_type": "markdown",
      "metadata": {
        "id": "7f5m52kqR2_o"
      },
      "source": [
        "#### 35. How to compute ((A+B)*(-A/2)) in place (without copy)? (★★☆)"
      ]
    },
    {
      "cell_type": "code",
      "execution_count": 3,
      "metadata": {
        "colab": {
          "base_uri": "https://localhost:8080/"
        },
        "id": "vgGPukgUR2_p",
        "outputId": "b8b25195-d8aa-4ad9-89b6-82ef4b92e7a0"
      },
      "outputs": [
        {
          "output_type": "stream",
          "name": "stdout",
          "text": [
            "[ 8 10 14]\n",
            "[-3 -8 -6]\n",
            "[-1.5 -4.  -3. ]\n",
            "[-12. -40. -42.]\n"
          ]
        }
      ],
      "source": [
        "import numpy as np\n",
        "A=np.array([3, 8, 6])\n",
        "B=np.array([5, 2 ,8])\n",
        "\n",
        "\n",
        "#Computing (A + B)\n",
        "F = (A + B)\n",
        "print(F)\n",
        "\n",
        "#Compute (-A/2)\n",
        "C = (A * -1)\n",
        "print(C)\n",
        "D = (C/2)\n",
        "print(D)\n",
        "\n",
        "# Compute ((A+B)*(-A/2))\n",
        "E = (F * D)\n",
        "print(E)"
      ]
    },
    {
      "cell_type": "markdown",
      "metadata": {
        "id": "nqnzy9srR2_p"
      },
      "source": [
        "#### 36. Extract the integer part of a random array of positive numbers using 4 different methods (★★☆)"
      ]
    },
    {
      "cell_type": "code",
      "execution_count": null,
      "metadata": {
        "id": "PIZbsh5QR2_p"
      },
      "outputs": [],
      "source": []
    },
    {
      "cell_type": "markdown",
      "metadata": {
        "id": "o6A6oxtVR2_p"
      },
      "source": [
        "#### 37. Create a 5x5 matrix with row values ranging from 0 to 4 (★★☆)"
      ]
    },
    {
      "cell_type": "code",
      "execution_count": null,
      "metadata": {
        "colab": {
          "base_uri": "https://localhost:8080/"
        },
        "id": "FqwEMX95R2_q",
        "outputId": "84fdf1d0-e7b8-42c0-d086-dc10b1687136"
      },
      "outputs": [
        {
          "output_type": "stream",
          "name": "stdout",
          "text": [
            "[[1 3 2 2 1]\n",
            " [3 2 1 2 0]\n",
            " [0 2 0 1 0]\n",
            " [0 1 3 2 1]\n",
            " [2 2 2 1 0]]\n"
          ]
        }
      ],
      "source": [
        "\n",
        "\n",
        "array = np.random.randint(0, 4, size=(5, 5))  # Generate a 5x5 array of random numbers between 0 and 1\n",
        "print(array)\n"
      ]
    },
    {
      "cell_type": "markdown",
      "metadata": {
        "id": "wO-1Jff7R2_q"
      },
      "source": [
        "#### 38. Consider a generator function that generates 10 integers and use it to build an array (★☆☆)"
      ]
    },
    {
      "cell_type": "code",
      "execution_count": null,
      "metadata": {
        "colab": {
          "base_uri": "https://localhost:8080/"
        },
        "id": "Wz09pXI_R2_q",
        "outputId": "af5ce38b-f374-463b-f49a-662f9b794c16"
      },
      "outputs": [
        {
          "output_type": "stream",
          "name": "stdout",
          "text": [
            "[0 1 2 3 4 5 6 7 8 9]\n"
          ]
        }
      ],
      "source": [
        "def integer_generator():\n",
        "  array = np.arange(0, 10)\n",
        "  print(np.array(array))\n",
        "integer_generator()"
      ]
    },
    {
      "cell_type": "markdown",
      "metadata": {
        "id": "fVbCBlmmR2_q"
      },
      "source": [
        "#### 39. Create a vector of size 10 with values ranging from 0 to 1, both excluded (★★☆)"
      ]
    },
    {
      "cell_type": "code",
      "execution_count": null,
      "metadata": {
        "colab": {
          "base_uri": "https://localhost:8080/"
        },
        "id": "Ka_vgywZR2_r",
        "outputId": "5e114f6f-48fe-4177-c8d6-281aec5ba20d"
      },
      "outputs": [
        {
          "output_type": "stream",
          "name": "stdout",
          "text": [
            "[0.51809328 0.63271981 0.7728076  0.52789365 0.75780244 0.14046758\n",
            " 0.37870378 0.32178024 0.57315516 0.7960702 ]\n"
          ]
        }
      ],
      "source": [
        "array=np.random.random(10)\n",
        "print(array)"
      ]
    },
    {
      "cell_type": "markdown",
      "metadata": {
        "id": "UqxrRUFaR2_r"
      },
      "source": [
        "#### 40. Create a random vector of size 10 and sort it (★★☆)"
      ]
    },
    {
      "cell_type": "code",
      "execution_count": null,
      "metadata": {
        "colab": {
          "base_uri": "https://localhost:8080/"
        },
        "id": "hLhd-uPjR2_r",
        "outputId": "d2910ec1-5baa-460d-8bd3-81f3ec45f3e2"
      },
      "outputs": [
        {
          "output_type": "stream",
          "name": "stdout",
          "text": [
            "[0.10381303 0.13459774 0.2428309  0.29651324 0.30003072 0.59223913\n",
            " 0.65402778 0.85864196 0.91747393 0.92704271]\n"
          ]
        }
      ],
      "source": [
        "array=np.random.random(10)\n",
        "array_sorted=np.sort(array)\n",
        "print(array_sorted)"
      ]
    },
    {
      "cell_type": "markdown",
      "metadata": {
        "id": "S9RrBZaCR2_r"
      },
      "source": [
        "#### 41. How to sum a small array faster than np.sum? (★★☆)"
      ]
    },
    {
      "cell_type": "code",
      "execution_count": null,
      "metadata": {
        "colab": {
          "base_uri": "https://localhost:8080/"
        },
        "id": "2MoVNSHER2_r",
        "outputId": "ec752a5a-221a-4222-a6d2-41bbce568167"
      },
      "outputs": [
        {
          "output_type": "stream",
          "name": "stdout",
          "text": [
            "Sum of the array: 15\n"
          ]
        }
      ],
      "source": [
        "\n",
        "\n",
        "# Define a small array\n",
        "small_array = np.array([1, 2, 3, 4, 5])\n",
        "\n",
        "# Sum the elements using Python's built-in sum() function\n",
        "sum_result = sum(small_array)\n",
        "\n",
        "print(\"Sum of the array:\", sum_result)\n"
      ]
    },
    {
      "cell_type": "markdown",
      "metadata": {
        "id": "YK2gcXVVR2_r"
      },
      "source": [
        "#### 42. Consider two random array A and B, check if they are equal (★★☆)"
      ]
    },
    {
      "cell_type": "code",
      "execution_count": null,
      "metadata": {
        "colab": {
          "base_uri": "https://localhost:8080/"
        },
        "id": "0GBYp6pDR2_r",
        "outputId": "ace33710-5285-4935-aa36-3d9d165eaa17"
      },
      "outputs": [
        {
          "output_type": "stream",
          "name": "stdout",
          "text": [
            "[False False False False False False False False False False]\n"
          ]
        }
      ],
      "source": [
        "array1=np.random.random(10)\n",
        "array2=np.random.random(10)\n",
        "print(array1==array2)"
      ]
    },
    {
      "cell_type": "code",
      "source": [],
      "metadata": {
        "id": "f_Ww8OfYyi5y"
      },
      "execution_count": null,
      "outputs": []
    },
    {
      "cell_type": "markdown",
      "metadata": {
        "id": "e_wD5CFqR2_r"
      },
      "source": [
        "#### 43. Make an array immutable (read-only) (★★☆)"
      ]
    },
    {
      "cell_type": "code",
      "execution_count": null,
      "metadata": {
        "id": "DltPL7G0R2_s"
      },
      "outputs": [],
      "source": []
    },
    {
      "cell_type": "markdown",
      "metadata": {
        "id": "HNnMimzOR2_s"
      },
      "source": [
        "#### 44. Consider a random 10x2 matrix representing cartesian coordinates, convert them to polar coordinates (★★☆)"
      ]
    },
    {
      "cell_type": "code",
      "execution_count": null,
      "metadata": {
        "colab": {
          "base_uri": "https://localhost:8080/"
        },
        "id": "GB4f3FSvR2_s",
        "outputId": "b1360eb5-3681-4703-d28c-4deb7b5663d6"
      },
      "outputs": [
        {
          "output_type": "stream",
          "name": "stdout",
          "text": [
            "Cartesian coordinates:\n",
            "[[0.0238784  0.01172711]\n",
            " [0.95947391 0.73410084]\n",
            " [0.81254196 0.8874579 ]\n",
            " [0.56788233 0.88428885]\n",
            " [0.9609403  0.98058029]\n",
            " [0.95733999 0.8330715 ]\n",
            " [0.11406528 0.97167806]\n",
            " [0.7899816  0.62524855]\n",
            " [0.94836492 0.9839703 ]\n",
            " [0.54223107 0.40903929]]\n",
            "\n",
            "Polar coordinates:\n",
            "[[0.02660268 0.45651665]\n",
            " [1.20809529 0.6531001 ]\n",
            " [1.20324809 0.82943787]\n",
            " [1.05093155 0.99993035]\n",
            " [1.37293261 0.7955136 ]\n",
            " [1.26905791 0.71610152]\n",
            " [0.97835022 1.45394114]\n",
            " [1.0074754  0.66951945]\n",
            " [1.36659927 0.80382217]\n",
            " [0.67921107 0.64628787]]\n"
          ]
        }
      ],
      "source": [
        "\n",
        "\n",
        "# Generate random Cartesian coordinates (10x2 matrix)\n",
        "cartesian_coords = np.random.rand(10, 2)\n",
        "\n",
        "# Extract x and y coordinates\n",
        "x = cartesian_coords[:, 0]\n",
        "y = cartesian_coords[:, 1]\n",
        "\n",
        "# Convert to polar coordinates\n",
        "rho = np.hypot(x, y)\n",
        "theta = np.arctan2(y, x)\n",
        "\n",
        "# Combine rho and theta into a 10x2 matrix of polar coordinates\n",
        "polar_coords = np.column_stack((rho, theta))\n",
        "\n",
        "print(\"Cartesian coordinates:\")\n",
        "print(cartesian_coords)\n",
        "print(\"\\nPolar coordinates:\")\n",
        "print(polar_coords)\n"
      ]
    },
    {
      "cell_type": "markdown",
      "metadata": {
        "id": "JsTPSbRPR2_s"
      },
      "source": [
        "#### 45. Create random vector of size 10 and replace the maximum value by 0 (★★☆)"
      ]
    },
    {
      "cell_type": "code",
      "execution_count": null,
      "metadata": {
        "colab": {
          "base_uri": "https://localhost:8080/"
        },
        "id": "fD2Q6pxmR2_s",
        "outputId": "ca764cdc-16bf-4ae7-8ba8-dc1940b4c29d"
      },
      "outputs": [
        {
          "output_type": "stream",
          "name": "stdout",
          "text": [
            "[0.25286856 0.33632947 0.43538561 0.29030719 0.53547052 0.22119588\n",
            " 0.03517391 0.18966376 0.85238617 0.09620788]\n"
          ]
        }
      ],
      "source": [
        "from re import A\n",
        "array=np.random.rand(10)\n",
        "print(array)"
      ]
    },
    {
      "cell_type": "code",
      "source": [
        "maximum_value=np.max(array)\n",
        "array[array == maximum_value] = 10\n",
        "print(array)\n",
        "\n",
        "\n"
      ],
      "metadata": {
        "colab": {
          "base_uri": "https://localhost:8080/"
        },
        "id": "K6lcYUVEpNuC",
        "outputId": "0965e63c-e51e-4694-a5b4-7c11ac2628d3"
      },
      "execution_count": null,
      "outputs": [
        {
          "output_type": "stream",
          "name": "stdout",
          "text": [
            "[ 0.25286856  0.33632947  0.43538561  0.29030719  0.53547052  0.22119588\n",
            "  0.03517391  0.18966376 10.          0.09620788]\n"
          ]
        }
      ]
    },
    {
      "cell_type": "code",
      "source": [],
      "metadata": {
        "id": "05pWtYU2siRF"
      },
      "execution_count": null,
      "outputs": []
    }
  ],
  "metadata": {
    "kernelspec": {
      "display_name": "Python 3",
      "language": "python",
      "name": "python3"
    },
    "language_info": {
      "codemirror_mode": {
        "name": "ipython",
        "version": 3
      },
      "file_extension": ".py",
      "mimetype": "text/x-python",
      "name": "python",
      "nbconvert_exporter": "python",
      "pygments_lexer": "ipython3",
      "version": "3.7.4"
    },
    "colab": {
      "provenance": [],
      "include_colab_link": true
    }
  },
  "nbformat": 4,
  "nbformat_minor": 0
}