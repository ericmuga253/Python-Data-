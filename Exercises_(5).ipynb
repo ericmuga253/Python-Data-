{
  "cells": [
    {
      "cell_type": "markdown",
      "metadata": {
        "id": "view-in-github",
        "colab_type": "text"
      },
      "source": [
        "<a href=\"https://colab.research.google.com/github/ericmuga253/Python-Data-/blob/main/Exercises_(5).ipynb\" target=\"_parent\"><img src=\"https://colab.research.google.com/assets/colab-badge.svg\" alt=\"Open In Colab\"/></a>"
      ]
    },
    {
      "cell_type": "markdown",
      "metadata": {
        "id": "SweHB4xG7IV2"
      },
      "source": [
        "# Ex1 - Filtering and Sorting Data"
      ]
    },
    {
      "cell_type": "markdown",
      "metadata": {
        "id": "hX_FoU_G7IV7"
      },
      "source": [
        "This time we are going to pull data directly from the internet.\n",
        "Special thanks to: https://github.com/justmarkham for sharing the dataset and materials.\n",
        "\n",
        "### Step 1. Import the necessary libraries"
      ]
    },
    {
      "cell_type": "code",
      "execution_count": 1,
      "metadata": {
        "id": "Y7jh5WGz7IV8"
      },
      "outputs": [],
      "source": [
        "import pandas as pd\n"
      ]
    },
    {
      "cell_type": "markdown",
      "metadata": {
        "id": "oYsWNPBY7IV9"
      },
      "source": [
        "### Step 2. Import the dataset from this [address](https://raw.githubusercontent.com/justmarkham/DAT8/master/data/chipotle.tsv)."
      ]
    },
    {
      "cell_type": "markdown",
      "metadata": {
        "id": "EoXZrdEq7IV9"
      },
      "source": [
        "### Step 3. Assign it to a variable called chipo."
      ]
    },
    {
      "cell_type": "code",
      "source": [
        "from google.colab import drive\n",
        "drive.mount('/content/drive')"
      ],
      "metadata": {
        "colab": {
          "base_uri": "https://localhost:8080/"
        },
        "id": "YweBk2SELwQR",
        "outputId": "dd0e9a8d-a7b1-409f-fd87-5eb23d18a9a6"
      },
      "execution_count": 3,
      "outputs": [
        {
          "output_type": "stream",
          "name": "stdout",
          "text": [
            "Mounted at /content/drive\n"
          ]
        }
      ]
    },
    {
      "cell_type": "code",
      "source": [
        "chipo=pd.read_csv('/content/drive/MyDrive/commissary-prices-20240417.csv')"
      ],
      "metadata": {
        "id": "1kvRhITGMHaI"
      },
      "execution_count": 6,
      "outputs": []
    },
    {
      "cell_type": "markdown",
      "metadata": {
        "id": "RXz4biKj7IV-"
      },
      "source": [
        "### Step 4. How many products cost more than $10.00?"
      ]
    },
    {
      "cell_type": "code",
      "source": [
        "import pandas as pd\n",
        "\n",
        "# Convert 'price' column to numeric data type\n",
        "chipo['price'] = pd.to_numeric(chipo['price'], errors='coerce')\n",
        "\n",
        "# Filter rows where the price is above $10\n",
        "prices_above_10 = chipo[chipo['price'] > 10]\n",
        "\n",
        "# Display the filtered DataFrame\n",
        "print(prices_above_10)\n"
      ],
      "metadata": {
        "colab": {
          "base_uri": "https://localhost:8080/"
        },
        "id": "F7Ishil6NB7d",
        "outputId": "1e0dbc75-5025-4853-dda5-925afcd78b75"
      },
      "execution_count": 11,
      "outputs": [
        {
          "output_type": "stream",
          "name": "stdout",
          "text": [
            "Empty DataFrame\n",
            "Columns: [state, product_category, product_type, description, price, price_source]\n",
            "Index: []\n"
          ]
        }
      ]
    },
    {
      "cell_type": "markdown",
      "metadata": {
        "id": "2jwH7oIQ7IWA"
      },
      "source": [
        "### Step 5. What is the price of each item?\n",
        "###### print a data frame with only two columns item_name and item_price"
      ]
    },
    {
      "cell_type": "code",
      "execution_count": 17,
      "metadata": {
        "colab": {
          "base_uri": "https://localhost:8080/"
        },
        "id": "MsUA_ShR7IWA",
        "outputId": "65c4646c-f9fc-42fa-fd82-055d0b3397c8"
      },
      "outputs": [
        {
          "output_type": "stream",
          "name": "stdout",
          "text": [
            "          product_type  price\n",
            "0                Ramen    NaN\n",
            "1                Ramen    NaN\n",
            "2                Beans    NaN\n",
            "3                Beans    NaN\n",
            "4        Peanut Butter    NaN\n",
            "...                ...    ...\n",
            "2256  Hair Conditioner    NaN\n",
            "2257  Hair Conditioner    NaN\n",
            "2258           Relaxer    NaN\n",
            "2259      Electric Fan    NaN\n",
            "2260      Electric Fan    NaN\n",
            "\n",
            "[2261 rows x 2 columns]\n"
          ]
        }
      ],
      "source": [
        "item_name_df=chipo[['product_type','price']]\n",
        "print(item_name_df)"
      ]
    },
    {
      "cell_type": "markdown",
      "metadata": {
        "id": "XCeMWxL27IWA"
      },
      "source": [
        "### Step 6. Sort by the name of the item"
      ]
    },
    {
      "cell_type": "code",
      "execution_count": 18,
      "metadata": {
        "colab": {
          "base_uri": "https://localhost:8080/"
        },
        "id": "9vM818u77IWB",
        "outputId": "988d40c3-bce8-4b04-980b-35dd0be633ae"
      },
      "outputs": [
        {
          "output_type": "stream",
          "name": "stdout",
          "text": [
            "               state product_category product_type  \\\n",
            "720         Kentucky             Food        Beans   \n",
            "815         Maryland             Food        Beans   \n",
            "2127   West Virginia             Food        Beans   \n",
            "2128   West Virginia             Food        Beans   \n",
            "1799  South Carolina             Food        Beans   \n",
            "...              ...              ...          ...   \n",
            "158         Colorado        Religious     Yarmulke   \n",
            "1795  South Carolina        Religious     Yarmulke   \n",
            "421            Idaho        Religious     Yarmulke   \n",
            "1988        Virginia        Religious     Yarmulke   \n",
            "1170          Nevada        Religious     Yarmulke   \n",
            "\n",
            "                                       description  price price_source  \n",
            "720   SAN MIGUEL REFRIED BEANS WITH JALAPENOS 8 OZ    NaN    Statewide  \n",
            "815            SELVILLA REFRIED BEANS REGULAR 8 OZ    NaN    Statewide  \n",
            "2127       BACK COUNTRY CHILI WITH BEANS, 11.25 OZ    NaN    Statewide  \n",
            "2128    BACK COUNTRY CHICKEN CHILI WITH BEANS 8 OZ    NaN    Statewide  \n",
            "1799                            RED BEANS AND RICE    NaN    Statewide  \n",
            "...                                            ...    ...          ...  \n",
            "158                                YARMULKE, WHITE    NaN    Statewide  \n",
            "1795                           YARMULKE CAP, BLACK    NaN    Statewide  \n",
            "421                       SKULL CAP/YARMULKE (WHT)    NaN    Statewide  \n",
            "1988                              YARMULKE - WHITE    NaN    Statewide  \n",
            "1170             SKULL CAP YARMULKE - WHITE, BLACK    NaN    Statewide  \n",
            "\n",
            "[2261 rows x 6 columns]\n"
          ]
        }
      ],
      "source": [
        "sorted_chipo=chipo.sort_values(by='product_type')\n",
        "print(sorted_chipo)"
      ]
    },
    {
      "cell_type": "markdown",
      "metadata": {
        "id": "HZQJv2rP7IWB"
      },
      "source": [
        "### Step 7. What was the quantity of the most expensive item ordered?"
      ]
    },
    {
      "cell_type": "code",
      "execution_count": null,
      "metadata": {
        "id": "goR5YQuF7IWB"
      },
      "outputs": [],
      "source": []
    },
    {
      "cell_type": "markdown",
      "metadata": {
        "id": "90nlfVoo7IWB"
      },
      "source": [
        "### Step 8. How many times was a Veggie Salad Bowl ordered?"
      ]
    },
    {
      "cell_type": "code",
      "execution_count": null,
      "metadata": {
        "id": "9HRzcr1j7IWC"
      },
      "outputs": [],
      "source": []
    },
    {
      "cell_type": "markdown",
      "metadata": {
        "id": "1Y4KqMv27IWC"
      },
      "source": [
        "### Step 9. How many times did someone order more than one Canned Soda?"
      ]
    },
    {
      "cell_type": "code",
      "execution_count": null,
      "metadata": {
        "id": "NOLH26Vr7IWC"
      },
      "outputs": [],
      "source": []
    }
  ],
  "metadata": {
    "kernelspec": {
      "display_name": "Python 2",
      "language": "python",
      "name": "python2"
    },
    "language_info": {
      "codemirror_mode": {
        "name": "ipython",
        "version": 2
      },
      "file_extension": ".py",
      "mimetype": "text/x-python",
      "name": "python",
      "nbconvert_exporter": "python",
      "pygments_lexer": "ipython2",
      "version": "2.7.11"
    },
    "colab": {
      "provenance": [],
      "include_colab_link": true
    }
  },
  "nbformat": 4,
  "nbformat_minor": 0
}