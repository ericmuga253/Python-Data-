{
  "cells": [
    {
      "cell_type": "markdown",
      "metadata": {
        "id": "view-in-github",
        "colab_type": "text"
      },
      "source": [
        "<a href=\"https://colab.research.google.com/github/ericmuga253/Python-Data-/blob/main/Numpy5.ipynb\" target=\"_parent\"><img src=\"https://colab.research.google.com/assets/colab-badge.svg\" alt=\"Open In Colab\"/></a>"
      ]
    },
    {
      "cell_type": "markdown",
      "metadata": {
        "id": "svTzbtMc7eib"
      },
      "source": [
        "# Numpy Exercise 5\n",
        "\n",
        "### All of the questions in this exercise are attributed to rougier/numpy-100"
      ]
    },
    {
      "cell_type": "code",
      "execution_count": null,
      "metadata": {
        "id": "5Bs_vRdB7eig"
      },
      "outputs": [],
      "source": []
    },
    {
      "cell_type": "markdown",
      "metadata": {
        "id": "V1UBMBtV7eii"
      },
      "source": [
        "#### 61. Find the nearest value from a given value in an array (★★☆)"
      ]
    },
    {
      "cell_type": "code",
      "execution_count": null,
      "metadata": {
        "colab": {
          "base_uri": "https://localhost:8080/"
        },
        "id": "3tuSEqUk7eik",
        "outputId": "f0e07632-a04c-4aa4-8509-b2761a2c1b98"
      },
      "outputs": [
        {
          "output_type": "stream",
          "name": "stdout",
          "text": [
            "array [3 7 1 2 6 3]\n",
            "given value 4\n",
            "nearest value 3\n"
          ]
        }
      ],
      "source": [
        "import numpy as np\n",
        "array=np.array([3,7,1,2,6,3])\n",
        "given_value=4\n",
        "\n",
        "absolute_diff=np.abs(array-given_value)\n",
        "nearest_index=np.argmin(absolute_diff)\n",
        "\n",
        "nearest_value=array[nearest_index]\n",
        "\n",
        "print('array', array)\n",
        "print('given value', given_value)\n",
        "print('nearest value', nearest_value)"
      ]
    },
    {
      "cell_type": "markdown",
      "metadata": {
        "id": "4hjrLA0e7eik"
      },
      "source": [
        "#### 62. Considering two arrays with shape (1,3) and (3,1), how to compute their sum using an iterator? (★★☆)"
      ]
    },
    {
      "cell_type": "code",
      "execution_count": null,
      "metadata": {
        "colab": {
          "base_uri": "https://localhost:8080/"
        },
        "id": "QORRN0rp7eil",
        "outputId": "ebe7ba07-c76a-41fe-b2a5-93270bbd40e7"
      },
      "outputs": [
        {
          "output_type": "stream",
          "name": "stdout",
          "text": [
            "Total number of blocks: 21\n"
          ]
        }
      ],
      "source": [
        "# Define the two arrays representing the piles of building blocks\n",
        "pile1 = [[1, 2, 3]]\n",
        "pile2 = [[4], [5], [6]]\n",
        "\n",
        "# Initialize the total number of blocks to 0\n",
        "total_blocks = 0\n",
        "\n",
        "# Iterate through each block in the first pile\n",
        "for block in pile1[0]:\n",
        "    # Add the value of the block to the total number of blocks\n",
        "    total_blocks += block\n",
        "\n",
        "# Iterate through each block in the second pile\n",
        "for row in pile2:\n",
        "    for block in row:\n",
        "        # Add the value of the block to the total number of blocks\n",
        "\n",
        "        total_blocks += block\n",
        "\n",
        "print(\"Total number of blocks:\", total_blocks)"
      ]
    },
    {
      "cell_type": "markdown",
      "metadata": {
        "id": "ABMF2UFD7eil"
      },
      "source": [
        "#### 63. Create an array class that has a name attribute (★★☆)"
      ]
    },
    {
      "cell_type": "code",
      "execution_count": null,
      "metadata": {
        "id": "c9AWFWqL7eim"
      },
      "outputs": [],
      "source": [
        "class Array_class:\n",
        "  def __init__(self, name):\n",
        "    self.name = name"
      ]
    },
    {
      "cell_type": "markdown",
      "metadata": {
        "id": "2qfnc6Hx7eim"
      },
      "source": [
        "#### 64. Consider a given vector, how to add 1 to each element indexed by a second vector (be careful with repeated indices)? (★★★)"
      ]
    },
    {
      "cell_type": "code",
      "execution_count": null,
      "metadata": {
        "id": "VHV63KlP7ein"
      },
      "outputs": [],
      "source": []
    },
    {
      "cell_type": "markdown",
      "metadata": {
        "id": "KK8klkIo7ein"
      },
      "source": [
        "#### 65. How to accumulate elements of a vector (X) to an array (F) based on an index list (I)? (★★★)"
      ]
    },
    {
      "cell_type": "code",
      "source": [
        "import numpy as np\n",
        "\n",
        "# Given vector X\n",
        "X = np.array([1, 2, 3, 4, 5])\n",
        "\n",
        "# Index list I\n",
        "I = np.array([0, 1, 1, 3, 4])\n",
        "\n",
        "# Initialize array F with zeros\n",
        "F = np.zeros(np.max(I) + 1)\n",
        "\n",
        "# Accumulate elements of X into F based on index list I\n",
        "np.add.at(F, I, X)\n",
        "\n",
        "print(\"Accumulated array F:\", F)\n"
      ],
      "metadata": {
        "colab": {
          "base_uri": "https://localhost:8080/"
        },
        "id": "fLBEPDVdN_DS",
        "outputId": "e0f58f43-3c52-468f-aed3-a50a9c6c89a8"
      },
      "execution_count": null,
      "outputs": [
        {
          "output_type": "stream",
          "name": "stdout",
          "text": [
            "Accumulated array F: [1. 5. 0. 4. 5.]\n"
          ]
        }
      ]
    },
    {
      "cell_type": "code",
      "execution_count": null,
      "metadata": {
        "id": "gFr8qQ2U7eio"
      },
      "outputs": [],
      "source": []
    },
    {
      "cell_type": "markdown",
      "metadata": {
        "id": "16pLYXFQ7eip"
      },
      "source": [
        "#### 66. Considering a (w,h,3) image of (dtype=ubyte), compute the number of unique colors (★★☆)"
      ]
    },
    {
      "cell_type": "code",
      "execution_count": null,
      "metadata": {
        "id": "R4bkr4Gc7eip"
      },
      "outputs": [],
      "source": []
    },
    {
      "cell_type": "markdown",
      "metadata": {
        "id": "V2L4eRl07eiq"
      },
      "source": [
        "#### 67. Considering a four dimensions array, how to get sum over the last two axis at once? (★★★)"
      ]
    },
    {
      "cell_type": "code",
      "execution_count": null,
      "metadata": {
        "colab": {
          "base_uri": "https://localhost:8080/"
        },
        "id": "RYL5bW2L7eiq",
        "outputId": "cdd40c05-8c32-4730-a072-ae078b0fe852"
      },
      "outputs": [
        {
          "output_type": "stream",
          "name": "stdout",
          "text": [
            "Original array shape: (2, 3, 4, 5)\n",
            "Sum over the last two axes shape: (2, 3)\n",
            "Sum over the last two axes:\n",
            "[[100  98  91]\n",
            " [ 88  93  81]]\n"
          ]
        }
      ],
      "source": [
        "import numpy as np\n",
        "\n",
        "# Assuming 'array' is your four-dimensional array\n",
        "# Create a sample 4D array for demonstration\n",
        "array = np.random.randint(0, 10, (2, 3, 4, 5))\n",
        "\n",
        "# Get the sum over the last two axes\n",
        "sum_last_two_axes = np.sum(array, axis=(-1, -2))\n",
        "\n",
        "print(\"Original array shape:\", array.shape)\n",
        "print(\"Sum over the last two axes shape:\", sum_last_two_axes.shape)\n",
        "print(\"Sum over the last two axes:\")\n",
        "print(sum_last_two_axes)\n"
      ]
    },
    {
      "cell_type": "markdown",
      "metadata": {
        "id": "UP09YE1W7eir"
      },
      "source": [
        "#### 68. Considering a one-dimensional vector D, how to compute means of subsets of D using a vector S of same size describing subset  indices? (★★★)"
      ]
    },
    {
      "cell_type": "code",
      "execution_count": null,
      "metadata": {
        "id": "O-o20ik07eir",
        "colab": {
          "base_uri": "https://localhost:8080/"
        },
        "outputId": "72ca449f-c75d-4223-aca8-dafd9253e37d"
      },
      "outputs": [
        {
          "output_type": "stream",
          "name": "stdout",
          "text": [
            "One-dimensional vector D: [ 1  2  3  4  5  6  7  8  9 10]\n",
            "Subset indices vector S: [0 0 1 1 2 2 3 3 3 3]\n",
            "Means of subsets: [1.5 3.5 5.5 8.5]\n"
          ]
        }
      ],
      "source": [
        "import numpy as np\n",
        "\n",
        "# Example one-dimensional vector D\n",
        "D = np.array([1, 2, 3, 4, 5, 6, 7, 8, 9, 10])\n",
        "\n",
        "# Example subset indices vector S\n",
        "S = np.array([0, 0, 1, 1, 2, 2, 3, 3, 3, 3])\n",
        "\n",
        "# Find unique subset indices\n",
        "unique_indices = np.unique(S)\n",
        "\n",
        "# Initialize an empty list to store subset means\n",
        "subset_means = []\n",
        "\n",
        "# Iterate over unique indices and compute mean for each subset\n",
        "for index in unique_indices:\n",
        "    subset = D[S == index]  # Select elements of D where S equals the current index\n",
        "    subset_mean = np.mean(subset)  # Compute mean of the subset\n",
        "    subset_means.append(subset_mean)\n",
        "\n",
        "# Convert the list of subset means to a NumPy array\n",
        "subset_means = np.array(subset_means)\n",
        "\n",
        "print(\"One-dimensional vector D:\", D)\n",
        "print(\"Subset indices vector S:\", S)\n",
        "print(\"Means of subsets:\", subset_means)\n"
      ]
    },
    {
      "cell_type": "markdown",
      "metadata": {
        "id": "yzrN6_tU7eis"
      },
      "source": [
        "#### 69. How to get the diagonal of a dot product? (★★★)"
      ]
    },
    {
      "cell_type": "code",
      "execution_count": null,
      "metadata": {
        "id": "jytXuI9t7eit",
        "colab": {
          "base_uri": "https://localhost:8080/"
        },
        "outputId": "d14e26ea-4f7d-4482-9b61-660c1fa51cfa"
      },
      "outputs": [
        {
          "output_type": "stream",
          "name": "stdout",
          "text": [
            "Diagonal of the dot product: [30 69 90]\n"
          ]
        }
      ],
      "source": [
        "import numpy as np\n",
        "\n",
        "# Define matrices A and B\n",
        "A = np.array([[1, 2, 3],\n",
        "              [4, 5, 6],\n",
        "              [7, 8, 9]])\n",
        "\n",
        "B = np.array([[9, 8, 7],\n",
        "              [6, 5, 4],\n",
        "              [3, 2, 1]])\n",
        "\n",
        "# Compute dot product\n",
        "C = np.dot(A, B)\n",
        "\n",
        "# Extract diagonal elements\n",
        "diagonal = np.diag(C)\n",
        "\n",
        "print(\"Diagonal of the dot product:\", diagonal)\n"
      ]
    },
    {
      "cell_type": "markdown",
      "metadata": {
        "id": "TneDUuJ87eit"
      },
      "source": [
        "#### 70. Consider the vector [1, 2, 3, 4, 5], how to build a new vector with 3 consecutive zeros interleaved between each value? (★★★)"
      ]
    },
    {
      "cell_type": "code",
      "execution_count": null,
      "metadata": {
        "id": "Nyhwkpme7eit",
        "colab": {
          "base_uri": "https://localhost:8080/"
        },
        "outputId": "b6ff1ed7-2ab8-45e5-d0d7-126605dfdb84"
      },
      "outputs": [
        {
          "output_type": "stream",
          "name": "stdout",
          "text": [
            "Original vector: [1 2 3 4 5]\n",
            "New vector with 3 consecutive zeros interleaved: [1. 0. 0. 0. 2. 0. 0. 0. 3. 0. 0. 0. 4. 0. 0. 0. 5.]\n"
          ]
        }
      ],
      "source": [
        "import numpy as np\n",
        "\n",
        "# Original vector\n",
        "original_vector = np.array([1, 2, 3, 4, 5])\n",
        "\n",
        "# Insert 3 consecutive zeros between each value\n",
        "new_vector = np.zeros(len(original_vector) * 4 - 3)\n",
        "new_vector[::4] = original_vector\n",
        "\n",
        "print(\"Original vector:\", original_vector)\n",
        "print(\"New vector with 3 consecutive zeros interleaved:\", new_vector)\n"
      ]
    },
    {
      "cell_type": "markdown",
      "metadata": {
        "id": "9uu60Q2t7eit"
      },
      "source": [
        "#### 71. Consider an array of dimension (5,5,3), how to mulitply it by an array with dimensions (5,5)? (★★★)"
      ]
    },
    {
      "cell_type": "code",
      "execution_count": null,
      "metadata": {
        "id": "FGcxxP1O7eiu",
        "colab": {
          "base_uri": "https://localhost:8080/"
        },
        "outputId": "b9c9e8cd-ad72-4618-ae9a-4c17ee8bd39d"
      },
      "outputs": [
        {
          "output_type": "stream",
          "name": "stdout",
          "text": [
            "Array of dimension (5, 5, 3):\n",
            " [[[0.192713   0.0191257  0.66920715]\n",
            "  [0.43912184 0.72049578 0.64138374]\n",
            "  [0.13585139 0.10277201 0.70850456]\n",
            "  [0.82296397 0.84203241 0.60894159]\n",
            "  [0.81160916 0.05807878 0.45993051]]\n",
            "\n",
            " [[0.86280522 0.38409385 0.10855624]\n",
            "  [0.02445408 0.44852746 0.30191437]\n",
            "  [0.61877457 0.17502505 0.21666487]\n",
            "  [0.74169143 0.64890732 0.22953997]\n",
            "  [0.16087853 0.62368476 0.35912484]]\n",
            "\n",
            " [[0.64726441 0.29606958 0.75076519]\n",
            "  [0.57561755 0.88193216 0.68671815]\n",
            "  [0.43634337 0.39092166 0.41207735]\n",
            "  [0.51118232 0.67564226 0.85848314]\n",
            "  [0.73096241 0.37874698 0.14163614]]\n",
            "\n",
            " [[0.1928654  0.59848116 0.83904496]\n",
            "  [0.29310409 0.48148524 0.65152928]\n",
            "  [0.8593478  0.99030568 0.79681841]\n",
            "  [0.64392696 0.7273001  0.17230177]\n",
            "  [0.33910825 0.37403173 0.39960101]]\n",
            "\n",
            " [[0.36947593 0.76496998 0.99756236]\n",
            "  [0.75906625 0.20681268 0.74432049]\n",
            "  [0.09492195 0.97418082 0.07017703]\n",
            "  [0.22949154 0.81199411 0.86858886]\n",
            "  [0.87485123 0.69269078 0.52280473]]]\n",
            "\n",
            "Array with dimensions (5, 5):\n",
            " [[0.56162583 0.33810126 0.03292099 0.3057994  0.40544337]\n",
            " [0.58256014 0.44328197 0.76186626 0.12945432 0.62180981]\n",
            " [0.69182741 0.73202124 0.67593858 0.87559037 0.03257212]\n",
            " [0.93884629 0.86668709 0.58587849 0.81365386 0.58180871]\n",
            " [0.22803985 0.3807701  0.2896883  0.57045143 0.12698865]]\n",
            "\n",
            "Result after multiplication:\n",
            " [[[0.1082326  0.01074149 0.37584402]\n",
            "  [0.14846765 0.24360053 0.21685265]\n",
            "  [0.00447236 0.00338336 0.02332467]\n",
            "  [0.25166189 0.25749301 0.18621397]\n",
            "  [0.32906156 0.02354766 0.18647578]]\n",
            "\n",
            " [[0.50263593 0.22375777 0.06324054]\n",
            "  [0.01084005 0.19882414 0.1338332 ]\n",
            "  [0.47142347 0.13334568 0.16506965]\n",
            "  [0.09601516 0.08400386 0.02971494]\n",
            "  [0.10003585 0.3878133  0.22330735]]\n",
            "\n",
            " [[0.44779527 0.20482905 0.51939994]\n",
            "  [0.42136427 0.64559307 0.50269227]\n",
            "  [0.29494132 0.26423903 0.27853898]\n",
            "  [0.44758631 0.59158585 0.75167957]\n",
            "  [0.023809   0.01233659 0.00461339]]\n",
            "\n",
            " [[0.18107097 0.56188182 0.78773425]\n",
            "  [0.25402954 0.41729704 0.56467202]\n",
            "  [0.50347339 0.58019879 0.46683876]\n",
            "  [0.52393365 0.59177053 0.140194  ]\n",
            "  [0.19729613 0.21761492 0.23249135]]\n",
            "\n",
            " [[0.08425524 0.17444364 0.22748397]\n",
            "  [0.28902974 0.07874808 0.28341499]\n",
            "  [0.02749778 0.28220878 0.02032946]\n",
            "  [0.13091378 0.4632032  0.49548776]\n",
            "  [0.11109617 0.08796386 0.06639027]]]\n"
          ]
        }
      ],
      "source": [
        "import numpy as np\n",
        "\n",
        "# Create a 3D array of dimension (5, 5, 3)\n",
        "array_3d = np.random.rand(5, 5, 3)\n",
        "\n",
        "# Create a 2D array of dimension (5, 5)\n",
        "array_2d = np.random.rand(5, 5)\n",
        "\n",
        "# Multiply the 3D array by the 2D array using broadcasting\n",
        "result = array_3d * array_2d[:,:,np.newaxis]\n",
        "\n",
        "print(\"Array of dimension (5, 5, 3):\\n\", array_3d)\n",
        "print(\"\\nArray with dimensions (5, 5):\\n\", array_2d)\n",
        "print(\"\\nResult after multiplication:\\n\", result)\n"
      ]
    },
    {
      "cell_type": "markdown",
      "metadata": {
        "id": "PUu9_nq77eiu"
      },
      "source": [
        "#### 72. How to swap two rows of an array? (★★★)"
      ]
    },
    {
      "cell_type": "code",
      "execution_count": null,
      "metadata": {
        "id": "uVF9QBC47eiu",
        "colab": {
          "base_uri": "https://localhost:8080/"
        },
        "outputId": "f931a6f5-438b-40e7-c08b-155957a3d654"
      },
      "outputs": [
        {
          "output_type": "stream",
          "name": "stdout",
          "text": [
            "[[4 5 6]\n",
            " [2 3 4]]\n"
          ]
        }
      ],
      "source": [
        "array=np.array([[2,3,4],\n",
        "\n",
        "                [4,5,6]])\n",
        "\n",
        "array[[1, 0]]=array[[0, 1]]\n",
        "print(array)"
      ]
    },
    {
      "cell_type": "markdown",
      "metadata": {
        "id": "_CZ9hFlJ7eiv"
      },
      "source": [
        "#### 73. Consider a set of 10 triplets describing 10 triangles (with shared vertices), find the set of unique line segments composing all the  triangles (★★★)"
      ]
    },
    {
      "cell_type": "code",
      "execution_count": null,
      "metadata": {
        "id": "FXk661sy7eiv",
        "colab": {
          "base_uri": "https://localhost:8080/"
        },
        "outputId": "7398697c-9652-4b74-fdc0-1f48cc5f0c88"
      },
      "outputs": [
        {
          "output_type": "stream",
          "name": "stdout",
          "text": [
            "Unique line segments composing all the triangles:\n",
            "((1, 2), (1, 3))\n",
            "((0, 3), (1, 2))\n",
            "((2, 2), (3, 1))\n",
            "((1, 3), (2, 2))\n",
            "((2, 2), (3, 2))\n",
            "((1, 1), (2, 1))\n",
            "((2, 1), (2, 2))\n",
            "((1, 2), (2, 1))\n",
            "((0, 1), (0, 2))\n",
            "((1, 1), (1, 2))\n",
            "((0, 2), (0, 3))\n",
            "((0, 0), (1, 0))\n",
            "((1, 2), (2, 2))\n",
            "((0, 1), (1, 0))\n",
            "((2, 1), (3, 1))\n",
            "((0, 2), (1, 1))\n",
            "((0, 1), (1, 1))\n",
            "((1, 0), (1, 1))\n",
            "((0, 0), (0, 1))\n",
            "((0, 2), (1, 2))\n",
            "((3, 1), (3, 2))\n"
          ]
        }
      ],
      "source": [
        "import numpy as np\n",
        "\n",
        "# Example set of 10 triplets describing 10 triangles (with shared vertices)\n",
        "triplets = np.array([\n",
        "    [(0, 0), (1, 0), (0, 1)],\n",
        "    [(1, 0), (1, 1), (0, 1)],\n",
        "    [(1, 1), (2, 1), (1, 2)],\n",
        "    [(2, 1), (2, 2), (1, 2)],\n",
        "    [(0, 1), (1, 1), (0, 2)],\n",
        "    [(1, 1), (2, 1), (1, 2)],\n",
        "    [(2, 1), (3, 1), (2, 2)],\n",
        "    [(3, 1), (3, 2), (2, 2)],\n",
        "    [(0, 2), (1, 2), (0, 3)],\n",
        "    [(1, 2), (2, 2), (1, 3)]\n",
        "])\n",
        "\n",
        "# Extract unique line segments\n",
        "line_segments = set()\n",
        "for triplet in triplets:\n",
        "    for i in range(3):\n",
        "        # Convert numpy arrays to tuples before sorting\n",
        "        line_segments.add(tuple(sorted([tuple(triplet[i]), tuple(triplet[(i + 1) % 3])])))\n",
        "\n",
        "print(\"Unique line segments composing all the triangles:\")\n",
        "for segment in line_segments:\n",
        "    print(segment)\n",
        "\n",
        "\n"
      ]
    },
    {
      "cell_type": "markdown",
      "metadata": {
        "id": "bBijbH6j7eiv"
      },
      "source": [
        "#### 74. Given a sorted array C that corresponds to a bincount, how to produce an array A such that np.bincount(A) == C? (★★★)"
      ]
    },
    {
      "cell_type": "code",
      "execution_count": null,
      "metadata": {
        "id": "ZF1HYZqu7eiw",
        "colab": {
          "base_uri": "https://localhost:8080/"
        },
        "outputId": "1c799587-80f6-474e-89e4-6c734b84cb14"
      },
      "outputs": [
        {
          "output_type": "stream",
          "name": "stdout",
          "text": [
            "Original bincount array: [0 2 2 0 1]\n",
            "Reconstructed array A: [1 1 2 2 4]\n",
            "Result of np.bincount(A): [0 2 2 0 1]\n"
          ]
        }
      ],
      "source": [
        "import numpy as np\n",
        "\n",
        "def reconstruct_array(C):\n",
        "    # Generate array indices based on bin counts\n",
        "    indices = np.repeat(np.arange(len(C)), C)\n",
        "    return indices\n",
        "\n",
        "# Example usage\n",
        "C = np.array([0, 2, 2, 0, 1])  # Example bincount array\n",
        "A = reconstruct_array(C)\n",
        "\n",
        "print(\"Original bincount array:\", C)\n",
        "print(\"Reconstructed array A:\", A)\n",
        "print(\"Result of np.bincount(A):\", np.bincount(A))\n"
      ]
    },
    {
      "cell_type": "markdown",
      "metadata": {
        "id": "Dya9Hm6d7eiw"
      },
      "source": [
        "#### 75. How to compute averages using a sliding window over an array? (★★★)"
      ]
    },
    {
      "cell_type": "code",
      "execution_count": null,
      "metadata": {
        "id": "Scp8p3qe7eix",
        "colab": {
          "base_uri": "https://localhost:8080/"
        },
        "outputId": "e9e65941-74b6-47fe-aeba-7b0cf31675af"
      },
      "outputs": [
        {
          "output_type": "stream",
          "name": "stdout",
          "text": [
            "Array A: [0 1 1 2 2 4]\n",
            "Result of np.bincount(A): [1 2 2 0 1]\n",
            "Sorted array C: [0 1 1 2 2]\n"
          ]
        }
      ],
      "source": [
        "import numpy as np\n",
        "\n",
        "# Example sorted array C corresponding to bincount\n",
        "C = np.array([1, 2, 2, 0, 1])\n",
        "\n",
        "# Generate array A\n",
        "A = np.repeat(np.arange(len(C)), C)\n",
        "\n",
        "print(\"Array A:\", A)\n",
        "print(\"Result of np.bincount(A):\", np.bincount(A))\n",
        "print(\"Sorted array C:\", np.sort(C))\n"
      ]
    },
    {
      "cell_type": "markdown",
      "metadata": {
        "id": "G1Cvbhcy7eiy"
      },
      "source": [
        "#### 76. Consider a one-dimensional array Z, build a two-dimensional array whose first row is (Z[0],Z[1],Z[2]) and each subsequent row is  shifted by 1 (last row should be (Z[-3],Z[-2],Z[-1]) (★★★)"
      ]
    },
    {
      "cell_type": "code",
      "execution_count": null,
      "metadata": {
        "id": "qIsm49Ho7eiy"
      },
      "outputs": [],
      "source": [
        "import numpy as np\n",
        "\n",
        "# Example one-dimensional array Z\n",
        "Z = np.array([1, 2, 3, 4, 5, 6, 7])\n",
        "\n",
        "# Number of elements to shift for each subsequent row\n",
        "shift_amount = 1\n",
        "\n",
        "# Calculate the number of rows needed\n",
        "num_rows = len(Z) - shift_amount\n",
        "\n",
        "# Initialize the two-dimensional array with zeros\n",
        "result = np.zeros((num_rows, len(Z) - shift_amount))\n",
        "\n",
        "# Fill the first row with the first elements of Z\n",
        "result[0] = Z[:-shift_amount]\n",
        "\n",
        "# Fill subsequent rows by shifting Z\n",
        "for i in range(1, num_rows):\n",
        "    result[i] = Z[i:i+len(Z)-shift_amount]\n",
        "\n",
        "print(\"Original one-dimensional array Z:\\n\", Z)\n",
        "print(\"\\nTwo-dimensional array with shifted rows:\\n\", result)\n",
        "\n"
      ]
    },
    {
      "cell_type": "markdown",
      "metadata": {
        "id": "pZTIoXGK7eiz"
      },
      "source": [
        "#### 77. How to negate a boolean, or to change the sign of a float inplace? (★★★)"
      ]
    },
    {
      "cell_type": "code",
      "execution_count": null,
      "metadata": {
        "id": "wkG0fN967eiz",
        "colab": {
          "base_uri": "https://localhost:8080/"
        },
        "outputId": "b88dfac9-9248-46ec-df16-bf8be60be91b"
      },
      "outputs": [
        {
          "output_type": "stream",
          "name": "stdout",
          "text": [
            "Original boolean: True\n",
            "Negated boolean: False\n"
          ]
        }
      ],
      "source": [
        "# Negate a Boolean\n",
        "boolean_value = True\n",
        "negated_boolean = not boolean_value\n",
        "print(\"Original boolean:\", boolean_value)\n",
        "print(\"Negated boolean:\", negated_boolean)\n"
      ]
    },
    {
      "cell_type": "code",
      "source": [
        "# Change the Sign of a Float Inplace\n",
        "float_value = 3.14\n",
        "float_value *= -1\n",
        "print(\"Original float:\", float_value)\n"
      ],
      "metadata": {
        "colab": {
          "base_uri": "https://localhost:8080/"
        },
        "id": "T1ufIaRTHAzr",
        "outputId": "0178f242-0e36-4f3c-9879-1adc1a68d40c"
      },
      "execution_count": null,
      "outputs": [
        {
          "output_type": "stream",
          "name": "stdout",
          "text": [
            "Original float: -3.14\n"
          ]
        }
      ]
    },
    {
      "cell_type": "markdown",
      "metadata": {
        "id": "WD70jC6k7ei0"
      },
      "source": [
        "#### 78. Consider 2 sets of points P0,P1 describing lines (2d) and a point p, how to compute distance from p to each line i (P0[i],P1[i])? (★★★)"
      ]
    },
    {
      "cell_type": "code",
      "execution_count": null,
      "metadata": {
        "id": "4d2zemA37ei0"
      },
      "outputs": [],
      "source": [
        "import numpy as np\n",
        "\n",
        "# Define two sets of points representing line segments (P0 and P1)\n",
        "P0 = np.array([[1, 1], [2, 3], [4, 5]])\n",
        "P1 = np.array([[4, 5], [5, 1], [7, 2]])\n",
        "\n",
        "# Define the point p\n",
        "p = np.array([2, 4])\n",
        "\n",
        "# Vector from P0 to P1\n",
        "v = P1 - P0\n",
        "\n",
        "# Vector from P0 to p\n",
        "w = p - P0\n",
        "\n",
        "# Compute the dot product of w and v\n",
        "dot_product = np.dot(w, v.T)\n",
        "\n",
        "# Compute the squared length of each line segment\n",
        "squared_length = np.sum(v**2, axis=1)\n",
        "\n",
        "# Find the parameter t where t = dot_product / squared_length\n",
        "t = np.clip(dot_product / squared_length, 0, 1)\n",
        "\n",
        "# Reshape t to (3, 1, 1) to align with the shape of v\n",
        "t = t[:, np.newaxis, np.newaxis]\n",
        "\n",
        "# Compute the closest points on the line segments to the point p\n",
        "closest_points = P0 + t * v[:, np.newaxis]\n",
        "\n",
        "# Compute the distance between each closest point and p\n",
        "distance = np.linalg.norm(closest_points - p, axis=2)\n",
        "\n",
        "print(\"Distances from point p to each line segment:\", distance)\n",
        "\n",
        "\n"
      ]
    },
    {
      "cell_type": "markdown",
      "metadata": {
        "id": "wz4KHeNk7ei1"
      },
      "source": [
        "#### 79. Consider 2 sets of points P0,P1 describing lines (2d) and a set of points P, how to compute distance from each point j (P[j]) to each line i (P0[i],P1[i])? (★★★)"
      ]
    },
    {
      "cell_type": "markdown",
      "metadata": {
        "id": "ZCfkCReg7ejQ"
      },
      "source": [
        "#### 80. Consider an arbitrary array, write a function that extract a subpart with a fixed shape and centered on a given element (pad with a `fill` value when necessary) (★★★)"
      ]
    },
    {
      "cell_type": "code",
      "execution_count": null,
      "metadata": {
        "id": "MqGDn5Dl7ejQ",
        "colab": {
          "base_uri": "https://localhost:8080/"
        },
        "outputId": "a15c5704-ee31-446a-bc90-de1c0337ec7b"
      },
      "outputs": [
        {
          "output_type": "stream",
          "name": "stdout",
          "text": [
            "Original Array:\n",
            " [[ 1  2  3  4]\n",
            " [ 5  6  7  8]\n",
            " [ 9 10 11 12]]\n",
            "\n",
            "Subpart Centered at (1, 2) with Shape (3, 3) :\n",
            " [[ 1  2  3]\n",
            " [ 5  6  7]\n",
            " [ 9 10 11]]\n"
          ]
        }
      ],
      "source": [
        "import numpy as np\n",
        "\n",
        "def extract_subpart(array, center, shape, fill_value=0):\n",
        "    \"\"\"\n",
        "    Extracts a subpart with a fixed shape centered on a given element.\n",
        "\n",
        "    Parameters:\n",
        "        array (numpy.ndarray): Input array.\n",
        "        center (tuple): Coordinates of the center element.\n",
        "        shape (tuple): Shape of the subpart to extract.\n",
        "        fill_value (optional): Value used to fill elements outside the array boundaries.\n",
        "\n",
        "    Returns:\n",
        "        numpy.ndarray: Subpart of the array with the specified shape centered on the given element.\n",
        "    \"\"\"\n",
        "    # Calculate the indices of the subpart\n",
        "    start_indices = tuple(np.subtract(center, np.divide(shape, 2)).astype(int))\n",
        "    end_indices = tuple(np.add(start_indices, shape))\n",
        "\n",
        "    # Initialize the subpart array with fill values\n",
        "    subpart = np.full(shape, fill_value)\n",
        "\n",
        "    # Calculate the indices within the array boundaries\n",
        "    clipped_start_indices = np.maximum(start_indices, 0)\n",
        "    clipped_end_indices = np.minimum(end_indices, array.shape)\n",
        "\n",
        "    # Calculate the indices within the subpart array\n",
        "    subpart_start_indices = np.maximum(-np.array(start_indices), 0)\n",
        "    subpart_end_indices = np.minimum(shape, np.array(shape) + (array.shape - np.array(end_indices)))\n",
        "\n",
        "    # Copy the overlapping elements from the array to the subpart\n",
        "    subpart[subpart_start_indices[0]:subpart_end_indices[0], subpart_start_indices[1]:subpart_end_indices[1]] = \\\n",
        "        array[clipped_start_indices[0]:clipped_end_indices[0], clipped_start_indices[1]:clipped_end_indices[1]]\n",
        "\n",
        "    return subpart\n",
        "\n",
        "# Example\n",
        "array = np.array([[1, 2, 3, 4],\n",
        "                  [5, 6, 7, 8],\n",
        "                  [9, 10, 11, 12]])\n",
        "\n",
        "center = (1, 2)\n",
        "shape = (3, 3)\n",
        "subpart = extract_subpart(array, center, shape, fill_value=-1)\n",
        "\n",
        "print(\"Original Array:\\n\", array)\n",
        "print(\"\\nSubpart Centered at\", center, \"with Shape\", shape, \":\\n\", subpart)\n"
      ]
    },
    {
      "cell_type": "markdown",
      "metadata": {
        "id": "km1GbAOM7ejR"
      },
      "source": [
        "#### 81. Consider an array Z = [1,2,3,4,5,6,7,8,9,10,11,12,13,14], how to generate an array R = [[1,2,3,4], [2,3,4,5], [3,4,5,6], ..., [11,12,13,14]]? (★★★)"
      ]
    },
    {
      "cell_type": "code",
      "source": [
        "Z = [1,2,3,4,5,6,7,8,9,10,11,12,13,14]\n",
        "window_size = 4  # Define the size of the sliding window\n",
        "\n",
        "R = [Z[i:i+window_size] for i in range(len(Z) - window_size + 1)]\n",
        "\n",
        "print(R)\n",
        "\n"
      ],
      "metadata": {
        "colab": {
          "base_uri": "https://localhost:8080/"
        },
        "id": "kEpaVTzqzmPp",
        "outputId": "07ac0a2a-c90a-459f-b28d-e96a0cccbbad"
      },
      "execution_count": 1,
      "outputs": [
        {
          "output_type": "stream",
          "name": "stdout",
          "text": [
            "[[1, 2, 3, 4], [2, 3, 4, 5], [3, 4, 5, 6], [4, 5, 6, 7], [5, 6, 7, 8], [6, 7, 8, 9], [7, 8, 9, 10], [8, 9, 10, 11], [9, 10, 11, 12], [10, 11, 12, 13], [11, 12, 13, 14]]\n"
          ]
        }
      ]
    },
    {
      "cell_type": "markdown",
      "metadata": {
        "id": "YtuFPNr37ejS"
      },
      "source": [
        "#### 82. Compute a matrix rank (★★★)"
      ]
    },
    {
      "cell_type": "code",
      "execution_count": 2,
      "metadata": {
        "id": "SHpzkKz87ejS",
        "colab": {
          "base_uri": "https://localhost:8080/"
        },
        "outputId": "02614859-3af9-4eb6-bf4b-3a975929df91"
      },
      "outputs": [
        {
          "output_type": "stream",
          "name": "stdout",
          "text": [
            "Rank of the matrix: 2\n"
          ]
        }
      ],
      "source": [
        "import numpy as np\n",
        "\n",
        "# Define your matrix A\n",
        "A = np.array([[1, 2, 3],\n",
        "              [4, 5, 6],\n",
        "              [7, 8, 9]])\n",
        "\n",
        "# Compute SVD\n",
        "U, S, V = np.linalg.svd(A)\n",
        "\n",
        "# Rank is the number of non-zero singular values\n",
        "rank = np.sum(S > 1e-10)  # A very small threshold is used to handle numerical precision issues\n",
        "\n",
        "print(\"Rank of the matrix:\", rank)\n"
      ]
    },
    {
      "cell_type": "markdown",
      "metadata": {
        "id": "dZShi5GJ7ejS"
      },
      "source": [
        "#### 83. How to find the most frequent value in an array?"
      ]
    },
    {
      "cell_type": "code",
      "execution_count": 3,
      "metadata": {
        "id": "o5D0bG6G7ejT",
        "colab": {
          "base_uri": "https://localhost:8080/"
        },
        "outputId": "1dc1db30-a270-478d-d5f9-e438576295f8"
      },
      "outputs": [
        {
          "output_type": "stream",
          "name": "stdout",
          "text": [
            "Most frequent value: 4\n"
          ]
        }
      ],
      "source": [
        "from collections import Counter\n",
        "\n",
        "# Example array\n",
        "arr = [1, 2, 3, 4, 2, 2, 3, 3, 3, 4, 4, 4, 4]\n",
        "\n",
        "# Count the occurrences of each element\n",
        "counter = Counter(arr)\n",
        "\n",
        "# Find the most common element(s)\n",
        "most_common = counter.most_common(1)\n",
        "\n",
        "# If there are multiple elements with the same highest frequency, most_common returns a list of tuples\n",
        "# where each tuple contains the value and its frequency\n",
        "# If you want only the value(s), you can extract them from the list\n",
        "most_frequent_value = most_common[0][0] if most_common else None\n",
        "\n",
        "print(\"Most frequent value:\", most_frequent_value)\n"
      ]
    },
    {
      "cell_type": "markdown",
      "metadata": {
        "id": "UjGAo07a7ejT"
      },
      "source": [
        "#### 84. Extract all the contiguous 3x3 blocks from a random 10x10 matrix (★★★)"
      ]
    },
    {
      "cell_type": "code",
      "execution_count": 4,
      "metadata": {
        "id": "GxYaWovf7ejU",
        "colab": {
          "base_uri": "https://localhost:8080/"
        },
        "outputId": "8cc6df40-8601-4634-b7ce-adaa7932b488"
      },
      "outputs": [
        {
          "output_type": "stream",
          "name": "stdout",
          "text": [
            "Block 1:\n",
            "[[7 0 4]\n",
            " [3 0 9]\n",
            " [6 1 1]]\n",
            "\n",
            "Block 2:\n",
            "[[0 4 1]\n",
            " [0 9 9]\n",
            " [1 1 8]]\n",
            "\n",
            "Block 3:\n",
            "[[4 1 6]\n",
            " [9 9 5]\n",
            " [1 8 7]]\n",
            "\n",
            "Block 4:\n",
            "[[1 6 2]\n",
            " [9 5 6]\n",
            " [8 7 4]]\n",
            "\n",
            "Block 5:\n",
            "[[6 2 8]\n",
            " [5 6 3]\n",
            " [7 4 0]]\n",
            "\n",
            "Block 6:\n",
            "[[2 8 5]\n",
            " [6 3 7]\n",
            " [4 0 8]]\n",
            "\n",
            "Block 7:\n",
            "[[8 5 3]\n",
            " [3 7 6]\n",
            " [0 8 3]]\n",
            "\n",
            "Block 8:\n",
            "[[5 3 1]\n",
            " [7 6 1]\n",
            " [8 3 2]]\n",
            "\n",
            "Block 9:\n",
            "[[3 0 9]\n",
            " [6 1 1]\n",
            " [6 2 0]]\n",
            "\n",
            "Block 10:\n",
            "[[0 9 9]\n",
            " [1 1 8]\n",
            " [2 0 8]]\n",
            "\n",
            "Block 11:\n",
            "[[9 9 5]\n",
            " [1 8 7]\n",
            " [0 8 2]]\n",
            "\n",
            "Block 12:\n",
            "[[9 5 6]\n",
            " [8 7 4]\n",
            " [8 2 1]]\n",
            "\n",
            "Block 13:\n",
            "[[5 6 3]\n",
            " [7 4 0]\n",
            " [2 1 8]]\n",
            "\n",
            "Block 14:\n",
            "[[6 3 7]\n",
            " [4 0 8]\n",
            " [1 8 7]]\n",
            "\n",
            "Block 15:\n",
            "[[3 7 6]\n",
            " [0 8 3]\n",
            " [8 7 3]]\n",
            "\n",
            "Block 16:\n",
            "[[7 6 1]\n",
            " [8 3 2]\n",
            " [7 3 7]]\n",
            "\n",
            "Block 17:\n",
            "[[6 1 1]\n",
            " [6 2 0]\n",
            " [5 1 4]]\n",
            "\n",
            "Block 18:\n",
            "[[1 1 8]\n",
            " [2 0 8]\n",
            " [1 4 7]]\n",
            "\n",
            "Block 19:\n",
            "[[1 8 7]\n",
            " [0 8 2]\n",
            " [4 7 6]]\n",
            "\n",
            "Block 20:\n",
            "[[8 7 4]\n",
            " [8 2 1]\n",
            " [7 6 5]]\n",
            "\n",
            "Block 21:\n",
            "[[7 4 0]\n",
            " [2 1 8]\n",
            " [6 5 4]]\n",
            "\n",
            "Block 22:\n",
            "[[4 0 8]\n",
            " [1 8 7]\n",
            " [5 4 7]]\n",
            "\n",
            "Block 23:\n",
            "[[0 8 3]\n",
            " [8 7 3]\n",
            " [4 7 8]]\n",
            "\n",
            "Block 24:\n",
            "[[8 3 2]\n",
            " [7 3 7]\n",
            " [7 8 0]]\n",
            "\n",
            "Block 25:\n",
            "[[6 2 0]\n",
            " [5 1 4]\n",
            " [5 9 1]]\n",
            "\n",
            "Block 26:\n",
            "[[2 0 8]\n",
            " [1 4 7]\n",
            " [9 1 2]]\n",
            "\n",
            "Block 27:\n",
            "[[0 8 2]\n",
            " [4 7 6]\n",
            " [1 2 1]]\n",
            "\n",
            "Block 28:\n",
            "[[8 2 1]\n",
            " [7 6 5]\n",
            " [2 1 6]]\n",
            "\n",
            "Block 29:\n",
            "[[2 1 8]\n",
            " [6 5 4]\n",
            " [1 6 5]]\n",
            "\n",
            "Block 30:\n",
            "[[1 8 7]\n",
            " [5 4 7]\n",
            " [6 5 9]]\n",
            "\n",
            "Block 31:\n",
            "[[8 7 3]\n",
            " [4 7 8]\n",
            " [5 9 3]]\n",
            "\n",
            "Block 32:\n",
            "[[7 3 7]\n",
            " [7 8 0]\n",
            " [9 3 1]]\n",
            "\n",
            "Block 33:\n",
            "[[5 1 4]\n",
            " [5 9 1]\n",
            " [8 0 7]]\n",
            "\n",
            "Block 34:\n",
            "[[1 4 7]\n",
            " [9 1 2]\n",
            " [0 7 8]]\n",
            "\n",
            "Block 35:\n",
            "[[4 7 6]\n",
            " [1 2 1]\n",
            " [7 8 1]]\n",
            "\n",
            "Block 36:\n",
            "[[7 6 5]\n",
            " [2 1 6]\n",
            " [8 1 6]]\n",
            "\n",
            "Block 37:\n",
            "[[6 5 4]\n",
            " [1 6 5]\n",
            " [1 6 1]]\n",
            "\n",
            "Block 38:\n",
            "[[5 4 7]\n",
            " [6 5 9]\n",
            " [6 1 7]]\n",
            "\n",
            "Block 39:\n",
            "[[4 7 8]\n",
            " [5 9 3]\n",
            " [1 7 7]]\n",
            "\n",
            "Block 40:\n",
            "[[7 8 0]\n",
            " [9 3 1]\n",
            " [7 7 1]]\n",
            "\n",
            "Block 41:\n",
            "[[5 9 1]\n",
            " [8 0 7]\n",
            " [6 2 6]]\n",
            "\n",
            "Block 42:\n",
            "[[9 1 2]\n",
            " [0 7 8]\n",
            " [2 6 7]]\n",
            "\n",
            "Block 43:\n",
            "[[1 2 1]\n",
            " [7 8 1]\n",
            " [6 7 3]]\n",
            "\n",
            "Block 44:\n",
            "[[2 1 6]\n",
            " [8 1 6]\n",
            " [7 3 0]]\n",
            "\n",
            "Block 45:\n",
            "[[1 6 5]\n",
            " [1 6 1]\n",
            " [3 0 7]]\n",
            "\n",
            "Block 46:\n",
            "[[6 5 9]\n",
            " [6 1 7]\n",
            " [0 7 6]]\n",
            "\n",
            "Block 47:\n",
            "[[5 9 3]\n",
            " [1 7 7]\n",
            " [7 6 8]]\n",
            "\n",
            "Block 48:\n",
            "[[9 3 1]\n",
            " [7 7 1]\n",
            " [6 8 2]]\n",
            "\n",
            "Block 49:\n",
            "[[8 0 7]\n",
            " [6 2 6]\n",
            " [9 7 2]]\n",
            "\n",
            "Block 50:\n",
            "[[0 7 8]\n",
            " [2 6 7]\n",
            " [7 2 6]]\n",
            "\n",
            "Block 51:\n",
            "[[7 8 1]\n",
            " [6 7 3]\n",
            " [2 6 4]]\n",
            "\n",
            "Block 52:\n",
            "[[8 1 6]\n",
            " [7 3 0]\n",
            " [6 4 3]]\n",
            "\n",
            "Block 53:\n",
            "[[1 6 1]\n",
            " [3 0 7]\n",
            " [4 3 5]]\n",
            "\n",
            "Block 54:\n",
            "[[6 1 7]\n",
            " [0 7 6]\n",
            " [3 5 8]]\n",
            "\n",
            "Block 55:\n",
            "[[1 7 7]\n",
            " [7 6 8]\n",
            " [5 8 2]]\n",
            "\n",
            "Block 56:\n",
            "[[7 7 1]\n",
            " [6 8 2]\n",
            " [8 2 8]]\n",
            "\n",
            "Block 57:\n",
            "[[6 2 6]\n",
            " [9 7 2]\n",
            " [0 3 1]]\n",
            "\n",
            "Block 58:\n",
            "[[2 6 7]\n",
            " [7 2 6]\n",
            " [3 1 6]]\n",
            "\n",
            "Block 59:\n",
            "[[6 7 3]\n",
            " [2 6 4]\n",
            " [1 6 6]]\n",
            "\n",
            "Block 60:\n",
            "[[7 3 0]\n",
            " [6 4 3]\n",
            " [6 6 6]]\n",
            "\n",
            "Block 61:\n",
            "[[3 0 7]\n",
            " [4 3 5]\n",
            " [6 6 9]]\n",
            "\n",
            "Block 62:\n",
            "[[0 7 6]\n",
            " [3 5 8]\n",
            " [6 9 3]]\n",
            "\n",
            "Block 63:\n",
            "[[7 6 8]\n",
            " [5 8 2]\n",
            " [9 3 4]]\n",
            "\n",
            "Block 64:\n",
            "[[6 8 2]\n",
            " [8 2 8]\n",
            " [3 4 5]]\n",
            "\n"
          ]
        }
      ],
      "source": [
        "import numpy as np\n",
        "\n",
        "# Create a random 10x10 matrix\n",
        "matrix = np.random.randint(0, 10, size=(10, 10))\n",
        "\n",
        "# Initialize a list to store the 3x3 blocks\n",
        "blocks = []\n",
        "\n",
        "# Iterate over each possible starting position for the top-left corner of the 3x3 block\n",
        "for i in range(8):  # Loop through rows\n",
        "    for j in range(8):  # Loop through columns\n",
        "        # Extract the 3x3 block starting from position (i, j)\n",
        "        block = matrix[i:i+3, j:j+3]\n",
        "        # Append the block to the list\n",
        "        blocks.append(block)\n",
        "\n",
        "# Convert the list of blocks to a NumPy array for easier manipulation\n",
        "blocks = np.array(blocks)\n",
        "\n",
        "# Print the extracted blocks\n",
        "for idx, block in enumerate(blocks):\n",
        "    print(f\"Block {idx+1}:\\n{block}\\n\")\n"
      ]
    },
    {
      "cell_type": "markdown",
      "metadata": {
        "id": "gXLKbJJW7ejU"
      },
      "source": [
        "#### 85. Create a 2D array subclass such that Z[i,j] == Z[j,i] (★★★)"
      ]
    },
    {
      "cell_type": "code",
      "execution_count": 7,
      "metadata": {
        "id": "2y01V0sb7ejU",
        "colab": {
          "base_uri": "https://localhost:8080/"
        },
        "outputId": "b3db0dc6-8004-44ca-a958-6384f44907d0"
      },
      "outputs": [
        {
          "output_type": "stream",
          "name": "stdout",
          "text": [
            "2\n",
            "2\n",
            "5\n",
            "5\n"
          ]
        }
      ],
      "source": [
        "import numpy as np\n",
        "\n",
        "class SymmetricArray(np.ndarray):\n",
        "    def __new__(cls, input_array):\n",
        "        obj = np.asarray(input_array).view(cls)\n",
        "        return obj\n",
        "\n",
        "    def __getitem__(self, index):\n",
        "        # If index is a tuple\n",
        "        if isinstance(index, tuple):\n",
        "            i, j = index\n",
        "            # If i is an integer (single index)\n",
        "            if isinstance(i, int):\n",
        "                # Return the transposed value if i != j\n",
        "                if i != j:\n",
        "                    return super().__getitem__((j, i))\n",
        "            # If i is a slice or array of indices\n",
        "            elif isinstance(i, slice) or isinstance(i, np.ndarray):\n",
        "                # Handle indexing for slices or arrays\n",
        "                return super().__getitem__((index[1], index[0]))\n",
        "        # Return the original value if i == j or index is not a tuple\n",
        "        return super().__getitem__(index)\n",
        "\n",
        "# Create a 3x3 symmetric array\n",
        "arr = SymmetricArray([[1, 2, 3],\n",
        "                      [2, 4, 5],\n",
        "                      [3, 5, 6]])\n",
        "\n",
        "# Test access\n",
        "print(arr[0, 1])  # Should print 2\n",
        "print(arr[1, 0])  # Should print 2\n",
        "print(arr[1, 2])  # Should print 5\n",
        "print(arr[2, 1])  # Should print 5\n",
        "\n"
      ]
    },
    {
      "cell_type": "markdown",
      "metadata": {
        "id": "1x_yp3mx7ejV"
      },
      "source": [
        "#### 86. Consider a set of p matrices wich shape (n,n) and a set of p vectors with shape (n,1). How to compute the sum of of the p matrix products at once? (result has shape (n,1)) (★★★)"
      ]
    },
    {
      "cell_type": "code",
      "source": [
        "import numpy as np\n",
        "\n",
        "def sum_of_matrix_products(matrices, vectors):\n",
        "    # Convert matrices and vectors to NumPy arrays\n",
        "    matrices = np.array(matrices)\n",
        "    vectors = np.array(vectors)\n",
        "\n",
        "    # Ensure matrices and vectors have compatible shapes\n",
        "    if matrices.shape[0] != vectors.shape[0] or matrices.shape[2] != vectors.shape[1]:\n",
        "        raise ValueError(\"Shapes of matrices and vectors are not compatible\")\n",
        "\n",
        "    # Compute the matrix products\n",
        "    products = np.matmul(matrices, vectors)\n",
        "\n",
        "    # Sum the matrix products along the first axis (axis=0)\n",
        "    sum_of_products = np.sum(products, axis=0)\n",
        "\n",
        "    return sum_of_products\n",
        "\n",
        "# Example matrices and vectors\n",
        "p = 3  # Number of matrices/vectors\n",
        "n = 4  # Size of matrices/vectors\n",
        "\n",
        "# Generate random matrices and vectors\n",
        "matrices = np.random.randint(1, 10, size=(p, n, n))\n",
        "vectors = np.random.randint(1, 10, size=(p, n, 1))\n",
        "\n",
        "# Compute the sum of matrix products\n",
        "result = sum_of_matrix_products(matrices, vectors)\n",
        "\n",
        "print(\"Result:\")\n",
        "print(result)\n"
      ],
      "metadata": {
        "colab": {
          "base_uri": "https://localhost:8080/"
        },
        "id": "GCD0aMuA8w2h",
        "outputId": "61a3a6f6-23fb-46fe-bec4-760f7e2e092a"
      },
      "execution_count": 8,
      "outputs": [
        {
          "output_type": "stream",
          "name": "stdout",
          "text": [
            "Result:\n",
            "[[418]\n",
            " [404]\n",
            " [503]\n",
            " [315]]\n"
          ]
        }
      ]
    },
    {
      "cell_type": "markdown",
      "metadata": {
        "id": "mD5oyUeE7ejW"
      },
      "source": [
        "#### 87. Consider a 16x16 array, how to get the block-sum (block size is 4x4)? (★★★)"
      ]
    },
    {
      "cell_type": "code",
      "execution_count": 9,
      "metadata": {
        "id": "yDk3eWtE7ejX",
        "colab": {
          "base_uri": "https://localhost:8080/"
        },
        "outputId": "71a5c091-7f12-4075-aa2e-0d3fd54113ce"
      },
      "outputs": [
        {
          "output_type": "stream",
          "name": "stdout",
          "text": [
            "Block-sum (4x4):\n",
            "[[ 71  83 106  59]\n",
            " [ 83  82  84  70]\n",
            " [ 72  91  91  84]\n",
            " [ 59  84  70 114]]\n"
          ]
        }
      ],
      "source": [
        "import numpy as np\n",
        "\n",
        "# Create a 16x16 array (example)\n",
        "array_16x16 = np.random.randint(1, 10, size=(16, 16))\n",
        "\n",
        "# Reshape the array into a 4D array of shape (4, 4, 4, 4)\n",
        "blocks = array_16x16.reshape(4, 4, 4, 4)\n",
        "\n",
        "# Sum along the axes (0, 1) to get the block-sum\n",
        "block_sum = np.sum(blocks, axis=(0, 1))\n",
        "\n",
        "print(\"Block-sum (4x4):\")\n",
        "print(block_sum)\n"
      ]
    },
    {
      "cell_type": "markdown",
      "metadata": {
        "id": "OuZ1MAny7ejX"
      },
      "source": [
        "#### 88. How to implement the Game of Life using numpy arrays? (★★★)"
      ]
    },
    {
      "cell_type": "code",
      "execution_count": 10,
      "metadata": {
        "id": "J84zPhiW7ejX",
        "colab": {
          "base_uri": "https://localhost:8080/",
          "height": 432
        },
        "outputId": "66d7fcca-4980-4966-deba-52abbc4befd6"
      },
      "outputs": [
        {
          "output_type": "display_data",
          "data": {
            "text/plain": [
              "<Figure size 640x480 with 1 Axes>"
            ],
            "image/png": "[encoded data removed]"
          },
          "metadata": {}
        }
      ],
      "source": [
        "import numpy as np\n",
        "import matplotlib.pyplot as plt\n",
        "import matplotlib.animation as animation\n",
        "\n",
        "def update_grid(grid):\n",
        "    # Count neighbors using 2D convolution\n",
        "    neighbor_count = np.convolve(np.convolve(grid, [[1, 1, 1], [1, 0, 1], [1, 1, 1]], mode='same'), [[1, 1, 1], [1, 0, 1], [1, 1, 1]], mode='same')\n",
        "\n",
        "    # Apply the rules of the game\n",
        "    new_grid = np.where((grid == 1) & ((neighbor_count < 2) | (neighbor_count > 3)), 0, grid)\n",
        "    new_grid = np.where((grid == 0) & (neighbor_count == 3), 1, new_grid)\n",
        "\n",
        "    return new_grid\n",
        "\n",
        "# Initial configuration\n",
        "initial_grid = np.random.choice([0, 1], size=(50, 50), p=[0.5, 0.5])\n",
        "\n",
        "# Create a figure and axis for plotting\n",
        "fig, ax = plt.subplots()\n",
        "\n",
        "# Display the initial grid\n",
        "img = ax.imshow(initial_grid, cmap='binary')\n",
        "\n",
        "# Update function for animation\n",
        "def update(frame):\n",
        "    global initial_grid\n",
        "    initial_grid = update_grid(initial_grid)\n",
        "    img.set_array(initial_grid)\n",
        "    return img,\n",
        "\n",
        "# Create animation\n",
        "ani = animation.FuncAnimation(fig, update, frames=100, interval=200)\n",
        "\n",
        "plt.show()\n"
      ]
    },
    {
      "cell_type": "markdown",
      "metadata": {
        "id": "cWbS3DNI7ejY"
      },
      "source": [
        "#### 89. How to get the n largest values of an array (★★★)"
      ]
    },
    {
      "cell_type": "code",
      "execution_count": 11,
      "metadata": {
        "id": "9JxIvLuk7ejY",
        "colab": {
          "base_uri": "https://localhost:8080/"
        },
        "outputId": "9793526d-e78f-4dee-ce9f-35afcc879e51"
      },
      "outputs": [
        {
          "output_type": "stream",
          "name": "stdout",
          "text": [
            "The 3 largest values of the array are: [9 8 7]\n"
          ]
        }
      ],
      "source": [
        "import numpy as np\n",
        "\n",
        "# Example array\n",
        "arr = np.array([1, 5, 2, 7, 3, 9, 4, 8, 6])\n",
        "\n",
        "# Number of largest values to retrieve\n",
        "n = 3\n",
        "\n",
        "# Sort the array in descending order\n",
        "sorted_arr = np.sort(arr)[::-1]\n",
        "\n",
        "# Get the n largest values\n",
        "n_largest_values = sorted_arr[:n]\n",
        "\n",
        "print(\"The\", n, \"largest values of the array are:\", n_largest_values)\n",
        "\n"
      ]
    },
    {
      "cell_type": "markdown",
      "metadata": {
        "id": "coXreVNP7ejY"
      },
      "source": [
        "#### 90. Given an arbitrary number of vectors, build the cartesian product (every combinations of every item) (★★★)"
      ]
    },
    {
      "cell_type": "code",
      "source": [
        "from itertools import product\n",
        "\n",
        "def cartesian_product(*vectors):\n",
        "    return list(product(*vectors))\n",
        "\n",
        "# Example vectors\n",
        "vector1 = [1, 2, 3]\n",
        "vector2 = ['a', 'b', 'c']\n",
        "vector3 = ['x', 'y']\n",
        "\n",
        "# Compute the Cartesian product\n",
        "result = cartesian_product(vector1, vector2, vector3)\n",
        "\n",
        "print(\"Cartesian product:\")\n",
        "for item in result:\n",
        "    print(item)\n"
      ],
      "metadata": {
        "colab": {
          "base_uri": "https://localhost:8080/"
        },
        "id": "TJszRePYECBV",
        "outputId": "b87272d4-3b04-4114-ea3d-9599bd1972bf"
      },
      "execution_count": 12,
      "outputs": [
        {
          "output_type": "stream",
          "name": "stdout",
          "text": [
            "Cartesian product:\n",
            "(1, 'a', 'x')\n",
            "(1, 'a', 'y')\n",
            "(1, 'b', 'x')\n",
            "(1, 'b', 'y')\n",
            "(1, 'c', 'x')\n",
            "(1, 'c', 'y')\n",
            "(2, 'a', 'x')\n",
            "(2, 'a', 'y')\n",
            "(2, 'b', 'x')\n",
            "(2, 'b', 'y')\n",
            "(2, 'c', 'x')\n",
            "(2, 'c', 'y')\n",
            "(3, 'a', 'x')\n",
            "(3, 'a', 'y')\n",
            "(3, 'b', 'x')\n",
            "(3, 'b', 'y')\n",
            "(3, 'c', 'x')\n",
            "(3, 'c', 'y')\n"
          ]
        }
      ]
    },
    {
      "cell_type": "markdown",
      "metadata": {
        "id": "yfQEOxgR7ejZ"
      },
      "source": [
        "#### 91. How to create a record array from a regular array? (★★★)"
      ]
    },
    {
      "cell_type": "code",
      "source": [
        "import numpy as np\n",
        "\n",
        "# Regular array\n",
        "regular_array = np.array([(1, 'a', 0.5), (2, 'b', 0.8), (3, 'c', 0.3)],\n",
        "                         dtype=[('index', int), ('label', 'U1'), ('value', float)])\n",
        "\n",
        "# Create a record array using numpy.rec.fromarrays\n",
        "record_array = np.rec.fromarrays(regular_array.T, names=regular_array.dtype.names)\n",
        "\n",
        "print(\"Regular array:\")\n",
        "print(regular_array)\n",
        "\n",
        "print(\"\\nRecord array:\")\n",
        "print(record_array)\n"
      ],
      "metadata": {
        "colab": {
          "base_uri": "https://localhost:8080/"
        },
        "id": "2dJi5WwgEZi7",
        "outputId": "8910493c-ddf8-49cf-85bd-8c6381148b5b"
      },
      "execution_count": 13,
      "outputs": [
        {
          "output_type": "stream",
          "name": "stdout",
          "text": [
            "Regular array:\n",
            "[(1, 'a', 0.5) (2, 'b', 0.8) (3, 'c', 0.3)]\n",
            "\n",
            "Record array:\n",
            "((1, 'a', 0.5), (2, 'b', 0.8), (3, 'c', 0.3))\n"
          ]
        }
      ]
    },
    {
      "cell_type": "markdown",
      "metadata": {
        "id": "oUQELoRd7eja"
      },
      "source": [
        "#### 92. Consider a large vector Z, compute Z to the power of 3 using 3 different methods (★★★)"
      ]
    },
    {
      "cell_type": "code",
      "execution_count": 14,
      "metadata": {
        "id": "4K5YCSVJ7eja"
      },
      "outputs": [],
      "source": [
        "import numpy as np\n",
        "\n",
        "# Define your large vector Z\n",
        "Z = np.random.rand(1000000)\n",
        "\n",
        "# Method 1: Using NumPy's power operator\n",
        "result_method1 = Z ** 3\n"
      ]
    },
    {
      "cell_type": "code",
      "source": [
        "# Method 2: Using NumPy's power function\n",
        "result_method2 = np.power(Z, 3)\n"
      ],
      "metadata": {
        "id": "HgI7pGiDGyEF"
      },
      "execution_count": 15,
      "outputs": []
    },
    {
      "cell_type": "code",
      "source": [
        "# Method 3: Using NumPy's element-wise multiplication\n",
        "result_method3 = np.multiply(np.multiply(Z, Z), Z)\n"
      ],
      "metadata": {
        "id": "nukmW5aHG0lI"
      },
      "execution_count": 16,
      "outputs": []
    },
    {
      "cell_type": "markdown",
      "metadata": {
        "id": "U7oKFxPB7eja"
      },
      "source": [
        "#### 93. Consider two arrays A and B of shape (8,3) and (2,2). How to find rows of A that contain elements of each row of B regardless of the order of the elements in B? (★★★)"
      ]
    },
    {
      "cell_type": "code",
      "execution_count": null,
      "metadata": {
        "id": "SmRnqeGO7ejb"
      },
      "outputs": [],
      "source": []
    },
    {
      "cell_type": "markdown",
      "metadata": {
        "id": "BQhqDhyY7ejc"
      },
      "source": [
        "#### 94. Considering a 10x3 matrix, extract rows with unequal values (e.g. [2,2,3]) (★★★)"
      ]
    },
    {
      "cell_type": "code",
      "source": [
        "import numpy as np\n",
        "\n",
        "# Create a 10x3 matrix (example)\n",
        "matrix = np.array([[1, 2, 3],\n",
        "                   [2, 2, 2],\n",
        "                   [4, 5, 4],\n",
        "                   [6, 6, 6],\n",
        "                   [7, 8, 9],\n",
        "                   [3, 3, 3],\n",
        "                   [4, 4, 4],\n",
        "                   [5, 5, 5],\n",
        "                   [1, 2, 2],\n",
        "                   [3, 4, 5]])\n",
        "\n",
        "# Extract rows with unequal values\n",
        "unequal_rows = matrix[~np.all(matrix == matrix[0], axis=1)]\n",
        "\n",
        "print(\"Rows with unequal values:\")\n",
        "print(unequal_rows)\n"
      ],
      "metadata": {
        "colab": {
          "base_uri": "https://localhost:8080/"
        },
        "id": "Tkpz80j8KM4o",
        "outputId": "24c443c3-3b11-45b2-be1a-ea7f5749f613"
      },
      "execution_count": 17,
      "outputs": [
        {
          "output_type": "stream",
          "name": "stdout",
          "text": [
            "Rows with unequal values:\n",
            "[[2 2 2]\n",
            " [4 5 4]\n",
            " [6 6 6]\n",
            " [7 8 9]\n",
            " [3 3 3]\n",
            " [4 4 4]\n",
            " [5 5 5]\n",
            " [1 2 2]\n",
            " [3 4 5]]\n"
          ]
        }
      ]
    },
    {
      "cell_type": "markdown",
      "metadata": {
        "id": "aeobdaLa7ejd"
      },
      "source": [
        "#### 95. Convert a vector of ints into a matrix binary representation (★★★)"
      ]
    },
    {
      "cell_type": "code",
      "execution_count": 19,
      "metadata": {
        "id": "6DshTSWJ7eje",
        "colab": {
          "base_uri": "https://localhost:8080/"
        },
        "outputId": "8d1a3744-cbb7-4bf3-cc2a-bc4d3e3e7f13"
      },
      "outputs": [
        {
          "output_type": "stream",
          "name": "stdout",
          "text": [
            "Matrix binary representation:\n",
            "[[0 0 0 0 0 0 1 1]\n",
            " [0 0 0 0 0 1 0 1]\n",
            " [0 0 0 0 0 1 1 0]]\n"
          ]
        }
      ],
      "source": [
        "import numpy as np\n",
        "\n",
        "# Example vector of integers\n",
        "vector = np.array([3, 5, 6])\n",
        "\n",
        "# Convert integers to binary representation\n",
        "binary_matrix = np.unpackbits(vector.astype(np.uint8)[:, np.newaxis], axis=1)\n",
        "\n",
        "print(\"Matrix binary representation:\")\n",
        "print(binary_matrix)\n",
        "\n"
      ]
    },
    {
      "cell_type": "markdown",
      "metadata": {
        "id": "s0FsSZA97eje"
      },
      "source": [
        "#### 96. Given a two dimensional array, how to extract unique rows? (★★★)"
      ]
    },
    {
      "cell_type": "code",
      "execution_count": null,
      "metadata": {
        "id": "9R6oYOsK7ejf"
      },
      "outputs": [],
      "source": []
    },
    {
      "cell_type": "markdown",
      "metadata": {
        "id": "K3C5IZUo7ejf"
      },
      "source": [
        "#### 97. Considering 2 vectors A & B, write the einsum equivalent of inner, outer, sum, and mul function (★★★)"
      ]
    },
    {
      "cell_type": "code",
      "execution_count": null,
      "metadata": {
        "id": "VMJRNRBS7ejg"
      },
      "outputs": [],
      "source": []
    },
    {
      "cell_type": "markdown",
      "metadata": {
        "id": "zuzBDw-87ejg"
      },
      "source": [
        "#### 98. Considering a path described by two vectors (X,Y), how to sample it using equidistant samples (★★★)?"
      ]
    },
    {
      "cell_type": "code",
      "execution_count": null,
      "metadata": {
        "id": "SDlSf5wx7ejg"
      },
      "outputs": [],
      "source": []
    },
    {
      "cell_type": "markdown",
      "metadata": {
        "id": "zfRIwBPt7ejh"
      },
      "source": [
        "#### 99. Given an integer n and a 2D array X, select from X the rows which can be interpreted as draws from a multinomial distribution with n degrees, i.e., the rows which only contain integers and which sum to n. (★★★)"
      ]
    },
    {
      "cell_type": "code",
      "execution_count": null,
      "metadata": {
        "id": "ZG_oPJtR7ejh"
      },
      "outputs": [],
      "source": []
    },
    {
      "cell_type": "markdown",
      "metadata": {
        "id": "zBndebgA7ejh"
      },
      "source": [
        "#### 100. Compute bootstrapped 95% confidence intervals for the mean of a 1D array X (i.e., resample the elements of an array with replacement N times, compute the mean of each sample, and then compute percentiles over the means). (★★★)"
      ]
    },
    {
      "cell_type": "code",
      "execution_count": null,
      "metadata": {
        "id": "JYAqf4Fu7eji"
      },
      "outputs": [],
      "source": []
    },
    {
      "cell_type": "code",
      "execution_count": null,
      "metadata": {
        "id": "AEM27m9r7eji"
      },
      "outputs": [],
      "source": []
    }
  ],
  "metadata": {
    "kernelspec": {
      "display_name": "Python 3",
      "language": "python",
      "name": "python3"
    },
    "language_info": {
      "codemirror_mode": {
        "name": "ipython",
        "version": 3
      },
      "file_extension": ".py",
      "mimetype": "text/x-python",
      "name": "python",
      "nbconvert_exporter": "python",
      "pygments_lexer": "ipython3",
      "version": "3.7.4"
    },
    "colab": {
      "provenance": [],
      "include_colab_link": true
    }
  },
  "nbformat": 4,
  "nbformat_minor": 0
}