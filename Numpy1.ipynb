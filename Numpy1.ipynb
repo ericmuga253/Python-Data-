{
  "cells": [
    {
      "cell_type": "markdown",
      "metadata": {
        "id": "view-in-github",
        "colab_type": "text"
      },
      "source": [
        "<a href=\"https://colab.research.google.com/github/ericmuga253/Python-Data-/blob/main/Numpy1.ipynb\" target=\"_parent\"><img src=\"https://colab.research.google.com/assets/colab-badge.svg\" alt=\"Open In Colab\"/></a>"
      ]
    },
    {
      "cell_type": "markdown",
      "metadata": {
        "id": "ThpB5DCNsyu-"
      },
      "source": [
        "# Numpy Exercise 1\n",
        "\n",
        "### All of the questions in this exercise are attributed to rougier/numpy-100"
      ]
    },
    {
      "cell_type": "code",
      "execution_count": null,
      "metadata": {
        "id": "gt1lIzmdsyvB"
      },
      "outputs": [],
      "source": []
    },
    {
      "cell_type": "markdown",
      "metadata": {
        "id": "dxi20CS6syvC"
      },
      "source": [
        "#### 1. Import the numpy package under the name `np` (★☆☆)"
      ]
    },
    {
      "cell_type": "code",
      "execution_count": 1,
      "metadata": {
        "id": "krh_RpDRsyvR"
      },
      "outputs": [],
      "source": [
        "import numpy as np"
      ]
    },
    {
      "cell_type": "markdown",
      "metadata": {
        "id": "uAfJGevhsyvR"
      },
      "source": [
        "#### 2. Print the numpy version and the configuration (★☆☆)"
      ]
    },
    {
      "cell_type": "code",
      "execution_count": 2,
      "metadata": {
        "id": "kO0QzXfxsyvS",
        "outputId": "89d4797d-b8f0-4b93-980e-613b525dfbe4",
        "colab": {
          "base_uri": "https://localhost:8080/"
        }
      },
      "outputs": [
        {
          "output_type": "stream",
          "name": "stdout",
          "text": [
            "1.25.2\n"
          ]
        }
      ],
      "source": [
        "print(np.__version__)"
      ]
    },
    {
      "cell_type": "code",
      "source": [
        "print(np.show_config())"
      ],
      "metadata": {
        "id": "ilyi8f99RqGP",
        "outputId": "46a14263-df05-4916-de91-883170f12eeb",
        "colab": {
          "base_uri": "https://localhost:8080/"
        }
      },
      "execution_count": 3,
      "outputs": [
        {
          "output_type": "stream",
          "name": "stdout",
          "text": [
            "openblas64__info:\n",
            "    libraries = ['openblas64_', 'openblas64_']\n",
            "    library_dirs = ['/usr/local/lib']\n",
            "    language = c\n",
            "    define_macros = [('HAVE_CBLAS', None), ('BLAS_SYMBOL_SUFFIX', '64_'), ('HAVE_BLAS_ILP64', None)]\n",
            "    runtime_library_dirs = ['/usr/local/lib']\n",
            "blas_ilp64_opt_info:\n",
            "    libraries = ['openblas64_', 'openblas64_']\n",
            "    library_dirs = ['/usr/local/lib']\n",
            "    language = c\n",
            "    define_macros = [('HAVE_CBLAS', None), ('BLAS_SYMBOL_SUFFIX', '64_'), ('HAVE_BLAS_ILP64', None)]\n",
            "    runtime_library_dirs = ['/usr/local/lib']\n",
            "openblas64__lapack_info:\n",
            "    libraries = ['openblas64_', 'openblas64_']\n",
            "    library_dirs = ['/usr/local/lib']\n",
            "    language = c\n",
            "    define_macros = [('HAVE_CBLAS', None), ('BLAS_SYMBOL_SUFFIX', '64_'), ('HAVE_BLAS_ILP64', None), ('HAVE_LAPACKE', None)]\n",
            "    runtime_library_dirs = ['/usr/local/lib']\n",
            "lapack_ilp64_opt_info:\n",
            "    libraries = ['openblas64_', 'openblas64_']\n",
            "    library_dirs = ['/usr/local/lib']\n",
            "    language = c\n",
            "    define_macros = [('HAVE_CBLAS', None), ('BLAS_SYMBOL_SUFFIX', '64_'), ('HAVE_BLAS_ILP64', None), ('HAVE_LAPACKE', None)]\n",
            "    runtime_library_dirs = ['/usr/local/lib']\n",
            "Supported SIMD extensions in this NumPy install:\n",
            "    baseline = SSE,SSE2,SSE3\n",
            "    found = SSSE3,SSE41,POPCNT,SSE42,AVX,F16C,FMA3,AVX2\n",
            "    not found = AVX512F,AVX512CD,AVX512_KNL,AVX512_KNM,AVX512_SKX,AVX512_CLX,AVX512_CNL,AVX512_ICL\n",
            "None\n"
          ]
        }
      ]
    },
    {
      "cell_type": "markdown",
      "metadata": {
        "id": "hKti-AfVsyvS"
      },
      "source": [
        "#### 3. Create a null vector of size 10 (★☆☆)"
      ]
    },
    {
      "cell_type": "code",
      "execution_count": 4,
      "metadata": {
        "id": "h-zYeEhAsyvS",
        "outputId": "9f65adcd-c908-494c-c4fe-1d1dce56266e",
        "colab": {
          "base_uri": "https://localhost:8080/"
        }
      },
      "outputs": [
        {
          "output_type": "stream",
          "name": "stdout",
          "text": [
            "[0. 0. 0. 0. 0. 0. 0. 0. 0. 0.]\n"
          ]
        }
      ],
      "source": [
        "zeros=np.zeros(10)\n",
        "print(zeros)"
      ]
    },
    {
      "cell_type": "markdown",
      "metadata": {
        "id": "6F5VxEvgsyvT"
      },
      "source": [
        "#### 4. How to find the memory size of any array (★☆☆)"
      ]
    },
    {
      "cell_type": "code",
      "source": [
        "print(zeros.nbytes)"
      ],
      "metadata": {
        "id": "R1QKTZJgR3pQ",
        "outputId": "bc850cae-1e05-4d2c-e950-86c39312ad58",
        "colab": {
          "base_uri": "https://localhost:8080/"
        }
      },
      "execution_count": 5,
      "outputs": [
        {
          "output_type": "stream",
          "name": "stdout",
          "text": [
            "80\n"
          ]
        }
      ]
    },
    {
      "cell_type": "markdown",
      "metadata": {
        "id": "oOhAumFSsyvU"
      },
      "source": [
        "#### 5. How to get the documentation of the numpy add function from the command line? (★☆☆)"
      ]
    },
    {
      "cell_type": "code",
      "execution_count": 6,
      "metadata": {
        "id": "3GuWERy_syvU"
      },
      "outputs": [],
      "source": [
        "np?"
      ]
    },
    {
      "cell_type": "markdown",
      "metadata": {
        "id": "NMAASH3rsyvU"
      },
      "source": [
        "#### 6. Create a null vector of size 10 but the fifth value which is 1 (★☆☆)"
      ]
    },
    {
      "cell_type": "code",
      "execution_count": 7,
      "metadata": {
        "id": "un-w7LIgsyvV",
        "outputId": "bc8e9fb1-f36e-4a99-b940-cfd0577515e4",
        "colab": {
          "base_uri": "https://localhost:8080/"
        }
      },
      "outputs": [
        {
          "output_type": "stream",
          "name": "stdout",
          "text": [
            "[0. 0. 0. 0. 1. 0. 0. 0. 0. 0.]\n"
          ]
        }
      ],
      "source": [
        "zeros=np.zeros(10)\n",
        "zeros[4]=1\n",
        "print(zeros)"
      ]
    },
    {
      "cell_type": "markdown",
      "metadata": {
        "id": "fEl7aLq7syvV"
      },
      "source": [
        "#### 7. Create a vector with values ranging from 10 to 49 (★☆☆)"
      ]
    },
    {
      "cell_type": "code",
      "execution_count": 8,
      "metadata": {
        "id": "_lbcWRbwsyvV",
        "outputId": "61d8f309-69d2-44d2-8060-a221e926a3da",
        "colab": {
          "base_uri": "https://localhost:8080/"
        }
      },
      "outputs": [
        {
          "output_type": "stream",
          "name": "stdout",
          "text": [
            "[10 11 12 13 14 15 16 17 18 19 20 21 22 23 24 25 26 27 28 29 30 31 32 33\n",
            " 34 35 36 37 38 39 40 41 42 43 44 45 46 47 48]\n"
          ]
        }
      ],
      "source": [
        "vector=np.arange(10,49)\n",
        "print(vector)"
      ]
    },
    {
      "cell_type": "markdown",
      "metadata": {
        "id": "JjjfW89msyvV"
      },
      "source": [
        "#### 8. Reverse a vector (first element becomes last) (★☆☆)"
      ]
    },
    {
      "cell_type": "code",
      "execution_count": 9,
      "metadata": {
        "id": "z3xYPokCsyvW",
        "outputId": "af60f7bb-2a19-428d-e2ac-14a9733fdbd1",
        "colab": {
          "base_uri": "https://localhost:8080/"
        }
      },
      "outputs": [
        {
          "output_type": "stream",
          "name": "stdout",
          "text": [
            "[48 47 46 45 44 43 42 41 40 39 38 37 36 35 34 33 32 31 30 29 28 27 26 25\n",
            " 24 23 22 21 20 19 18 17 16 15 14 13 12 11 10]\n"
          ]
        }
      ],
      "source": [
        "vector=np.arange(10,49)\n",
        "print(np.flip(vector))"
      ]
    },
    {
      "cell_type": "markdown",
      "metadata": {
        "id": "3Hb6MVnNsyvW"
      },
      "source": [
        "#### 9. Create a 3x3 matrix with values ranging from 0 to 8 (★☆☆)"
      ]
    },
    {
      "cell_type": "code",
      "execution_count": 10,
      "metadata": {
        "id": "p-Rq9GhjsyvW",
        "outputId": "1f5720e1-b877-4b39-a822-5d439734b3da",
        "colab": {
          "base_uri": "https://localhost:8080/"
        }
      },
      "outputs": [
        {
          "output_type": "stream",
          "name": "stdout",
          "text": [
            "[[2 1 5]\n",
            " [1 2 1]\n",
            " [3 7 3]]\n"
          ]
        }
      ],
      "source": [
        "array=np.random.randint(0,8, size=(3,3))\n",
        "print(array)"
      ]
    },
    {
      "cell_type": "code",
      "source": [
        "array=np.arange(0,9).reshape(3,3)\n",
        "print(array)"
      ],
      "metadata": {
        "id": "Y_a1em1nSl5J",
        "outputId": "45ca444f-d750-4e45-c200-9c47d88187d8",
        "colab": {
          "base_uri": "https://localhost:8080/"
        }
      },
      "execution_count": 11,
      "outputs": [
        {
          "output_type": "stream",
          "name": "stdout",
          "text": [
            "[[0 1 2]\n",
            " [3 4 5]\n",
            " [6 7 8]]\n"
          ]
        }
      ]
    },
    {
      "cell_type": "markdown",
      "metadata": {
        "id": "BMPjQHapsyvW"
      },
      "source": [
        "#### 10. Find indices of non-zero elements from [1,2,0,0,4,0] (★☆☆)"
      ]
    },
    {
      "cell_type": "code",
      "source": [
        "array=np.array([1,2,0,0,4,0])\n",
        "for values in array:\n",
        "    if values != 0:\n",
        "        print(values)\n"
      ],
      "metadata": {
        "id": "j8g_xoYXSktS",
        "outputId": "b7a23253-29db-4dcc-af52-e71df19be4c8",
        "colab": {
          "base_uri": "https://localhost:8080/"
        }
      },
      "execution_count": 12,
      "outputs": [
        {
          "output_type": "stream",
          "name": "stdout",
          "text": [
            "1\n",
            "2\n",
            "4\n"
          ]
        }
      ]
    },
    {
      "cell_type": "code",
      "execution_count": 13,
      "metadata": {
        "id": "ieUn1Uu6syvX",
        "outputId": "367fb276-05bf-4391-ae41-17376cd155c0",
        "colab": {
          "base_uri": "https://localhost:8080/"
        }
      },
      "outputs": [
        {
          "output_type": "stream",
          "name": "stdout",
          "text": [
            "(array([0, 1, 4]),)\n"
          ]
        }
      ],
      "source": [
        "array=np.array([1,2,0,0,4,0])\n",
        "print(np.nonzero(array))"
      ]
    },
    {
      "cell_type": "markdown",
      "metadata": {
        "id": "zyiGCuaKsyvX"
      },
      "source": [
        "#### 11. Create a 3x3 identity matrix (★☆☆)"
      ]
    },
    {
      "cell_type": "code",
      "execution_count": 14,
      "metadata": {
        "id": "UjacAwQ5syvX",
        "outputId": "ad1e2cfd-81fb-4a7e-f774-416442fea144",
        "colab": {
          "base_uri": "https://localhost:8080/"
        }
      },
      "outputs": [
        {
          "output_type": "stream",
          "name": "stdout",
          "text": [
            "[[1. 0. 0.]\n",
            " [0. 1. 0.]\n",
            " [0. 0. 1.]]\n"
          ]
        }
      ],
      "source": [
        "identity=np.eye(3,3)\n",
        "print(identity)\n"
      ]
    },
    {
      "cell_type": "markdown",
      "metadata": {
        "id": "IXy91dehsyvX"
      },
      "source": [
        "#### 12. Create a 3x3x3 array with random values (★☆☆)"
      ]
    },
    {
      "cell_type": "code",
      "execution_count": 15,
      "metadata": {
        "id": "QHJCFev-syvY",
        "outputId": "b893732a-de55-436d-ebb3-009c5437c4ff",
        "colab": {
          "base_uri": "https://localhost:8080/"
        }
      },
      "outputs": [
        {
          "output_type": "stream",
          "name": "stdout",
          "text": [
            "[[[0.75277608 0.27598091 0.84433975]\n",
            "  [0.836508   0.48574814 0.54034036]\n",
            "  [0.7866053  0.15588681 0.35045629]]\n",
            "\n",
            " [[0.76821549 0.24601862 0.24609543]\n",
            "  [0.39415135 0.37194306 0.61185157]\n",
            "  [0.05135365 0.43424503 0.93480245]]\n",
            "\n",
            " [[0.52305891 0.63569912 0.506484  ]\n",
            "  [0.87989373 0.10137697 0.61675047]\n",
            "  [0.34726652 0.68135635 0.53884717]]]\n"
          ]
        }
      ],
      "source": [
        "array=np.random.random((3,3,3))\n",
        "print(array)"
      ]
    },
    {
      "cell_type": "markdown",
      "metadata": {
        "id": "-ehWPZ0asyvY"
      },
      "source": [
        "#### 13. Create a 10x10 array with random values and find the minimum and maximum values (★☆☆)"
      ]
    },
    {
      "cell_type": "code",
      "execution_count": 16,
      "metadata": {
        "id": "tGBDyn4psyvY",
        "outputId": "9fa5652b-958b-4e9d-92e7-1b448e04b7e9",
        "colab": {
          "base_uri": "https://localhost:8080/"
        }
      },
      "outputs": [
        {
          "output_type": "stream",
          "name": "stdout",
          "text": [
            "[[0.47931801 0.57481233 0.93247651 0.50303631 0.27735953 0.9698188\n",
            "  0.73155571 0.43970863 0.5571116  0.96188356]\n",
            " [0.88685992 0.69155866 0.52239597 0.87086622 0.43964082 0.64297552\n",
            "  0.99855037 0.96758686 0.26739724 0.38197216]\n",
            " [0.65833284 0.00516593 0.99393114 0.5531009  0.93235273 0.10533275\n",
            "  0.82794519 0.01462638 0.41379538 0.96124618]\n",
            " [0.54350277 0.45354466 0.07171868 0.58062885 0.41808154 0.84055538\n",
            "  0.92969272 0.37523833 0.00228266 0.56724665]\n",
            " [0.17656806 0.7768486  0.08116692 0.68939462 0.98866289 0.71340841\n",
            "  0.72890263 0.08525009 0.77143419 0.99908333]\n",
            " [0.23350756 0.37982642 0.2823008  0.4207729  0.60478415 0.72265591\n",
            "  0.4307791  0.28195281 0.32948354 0.51458788]\n",
            " [0.90950799 0.89207682 0.12950756 0.30793948 0.44732133 0.61844677\n",
            "  0.93297425 0.14309803 0.3066475  0.13486483]\n",
            " [0.48361745 0.97747741 0.11019758 0.9699982  0.30792024 0.45264585\n",
            "  0.0492793  0.50582931 0.24522728 0.4123265 ]\n",
            " [0.15983295 0.21425292 0.19038633 0.37957349 0.92574316 0.22127455\n",
            "  0.37534174 0.63966841 0.68200454 0.07313213]\n",
            " [0.60618724 0.39703918 0.30277825 0.35923012 0.46940809 0.04249962\n",
            "  0.8266361  0.5011051  0.3096359  0.03534839]]\n"
          ]
        }
      ],
      "source": [
        "array=np.random.random((10,10))\n",
        "print(array)"
      ]
    },
    {
      "cell_type": "markdown",
      "metadata": {
        "id": "fYwcltbGsyvY"
      },
      "source": [
        "#### 14. Create a random vector of size 30 and find the mean value (★☆☆)"
      ]
    },
    {
      "cell_type": "code",
      "execution_count": 17,
      "metadata": {
        "id": "OxTCB_qxsyvZ",
        "outputId": "7a3584c6-59fc-47a4-c874-fc745dffc9f5",
        "colab": {
          "base_uri": "https://localhost:8080/"
        }
      },
      "outputs": [
        {
          "output_type": "stream",
          "name": "stdout",
          "text": [
            "[0.86057923 0.03347599 0.82258673 0.19694184 0.39726601 0.58519383\n",
            " 0.10367301 0.20594853 0.25924543 0.82887097 0.13909903 0.32107254\n",
            " 0.35610927 0.47205809 0.84546997 0.17273994 0.63750732 0.7946119\n",
            " 0.93326084 0.15876719 0.39260834 0.57412755 0.1053578  0.51582943\n",
            " 0.95486007 0.28366288 0.03014322 0.4393122  0.5708132  0.04349749]\n"
          ]
        }
      ],
      "source": [
        "vector=np.random.random(30)\n",
        "print(vector)"
      ]
    },
    {
      "cell_type": "code",
      "source": [
        "vector.mean()\n"
      ],
      "metadata": {
        "id": "CVVQ8GNaTRjC",
        "outputId": "febbf215-cd34-485b-c2e8-071ca007e2f8",
        "colab": {
          "base_uri": "https://localhost:8080/"
        }
      },
      "execution_count": 18,
      "outputs": [
        {
          "output_type": "execute_result",
          "data": {
            "text/plain": [
              "0.4344896608855628"
            ]
          },
          "metadata": {},
          "execution_count": 18
        }
      ]
    },
    {
      "cell_type": "markdown",
      "metadata": {
        "id": "qDTDFVtRsyvZ"
      },
      "source": [
        "#### 15. Create a 2d array with 1 on the border and 0 inside (★☆☆)"
      ]
    },
    {
      "cell_type": "code",
      "execution_count": 19,
      "metadata": {
        "id": "ZA0ZXAAwsyvZ",
        "outputId": "e6d08c2a-b17a-4baf-d129-88b680537ebc",
        "colab": {
          "base_uri": "https://localhost:8080/"
        }
      },
      "outputs": [
        {
          "output_type": "stream",
          "name": "stdout",
          "text": [
            "[[1 0 1]\n",
            " [1 0 1]\n",
            " [1 0 1]]\n"
          ]
        }
      ],
      "source": [
        "values = [\n",
        "    [1, 0, 1],\n",
        "    [1, 0, 1],\n",
        "    [1, 0, 1],\n",
        "]\n",
        "matrix = np.array(values)\n",
        "print(matrix)"
      ]
    },
    {
      "cell_type": "code",
      "source": [],
      "metadata": {
        "id": "r56m7pRaTYLS"
      },
      "execution_count": null,
      "outputs": []
    }
  ],
  "metadata": {
    "kernelspec": {
      "display_name": "Python 3",
      "language": "python",
      "name": "python3"
    },
    "language_info": {
      "codemirror_mode": {
        "name": "ipython",
        "version": 3
      },
      "file_extension": ".py",
      "mimetype": "text/x-python",
      "name": "python",
      "nbconvert_exporter": "python",
      "pygments_lexer": "ipython3",
      "version": "3.7.4"
    },
    "colab": {
      "provenance": [],
      "include_colab_link": true
    }
  },
  "nbformat": 4,
  "nbformat_minor": 0
}