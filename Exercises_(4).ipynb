{
  "cells": [
    {
      "cell_type": "markdown",
      "metadata": {
        "id": "view-in-github",
        "colab_type": "text"
      },
      "source": [
        "<a href=\"https://colab.research.google.com/github/ericmuga253/Python-Data-/blob/main/Exercises_(4).ipynb\" target=\"_parent\"><img src=\"https://colab.research.google.com/assets/colab-badge.svg\" alt=\"Open In Colab\"/></a>"
      ]
    },
    {
      "cell_type": "markdown",
      "metadata": {
        "id": "uu2_SgivTCw8"
      },
      "source": [
        "# Pokemon"
      ]
    },
    {
      "cell_type": "markdown",
      "metadata": {
        "id": "VLZMcTboTCw_"
      },
      "source": [
        "### Introduction:\n",
        "\n",
        "This time you will create the data.\n",
        "\n",
        "\n",
        "\n",
        "### Step 1. Import the necessary libraries"
      ]
    },
    {
      "cell_type": "code",
      "execution_count": 1,
      "metadata": {
        "id": "iy22jAdeTCxB"
      },
      "outputs": [],
      "source": [
        "import pandas as pd"
      ]
    },
    {
      "cell_type": "markdown",
      "metadata": {
        "id": "aiV-Jz9VTCxB"
      },
      "source": [
        "### Step 2. Create a data dictionary that looks like the DataFrame below"
      ]
    },
    {
      "cell_type": "code",
      "execution_count": 1,
      "metadata": {
        "collapsed": true,
        "colab": {
          "base_uri": "https://localhost:8080/"
        },
        "id": "Kp8sE0YdTCxC",
        "outputId": "798d5b62-c6d5-46ae-951a-8fd8ebc35271"
      },
      "outputs": [
        {
          "output_type": "stream",
          "name": "stdout",
          "text": [
            "    evolution  hp        name pokedex   type\n",
            "0     Ivysaur  45   Bulbasaur     yes  grass\n",
            "1  Charmeleon  39  Charmander      no   fire\n",
            "2   Wartortle  44    Squirtle     yes  water\n",
            "3     Metapod  45    Caterpie      no    bug\n"
          ]
        }
      ],
      "source": [
        "import pandas as pd\n",
        "data={\n",
        "    'evolution':['Ivysaur','Charmeleon', 'Wartortle', 'Metapod'],\n",
        "    'hp':[45, 39, 44, 45],\n",
        "    'name':['Bulbasaur', 'Charmander', 'Squirtle', 'Caterpie'],\n",
        "    'pokedex':['yes', 'no', 'yes', 'no'],\n",
        "    'type':['grass', 'fire', 'water', 'bug']\n",
        "}\n",
        "df=pd.DataFrame(data)\n",
        "print(df)"
      ]
    },
    {
      "cell_type": "markdown",
      "metadata": {
        "id": "8kCGFgb3TCxC"
      },
      "source": [
        "### Step 3. Assign it to a variable called pokemon"
      ]
    },
    {
      "cell_type": "code",
      "execution_count": 3,
      "metadata": {
        "colab": {
          "base_uri": "https://localhost:8080/"
        },
        "id": "lhTDCVbBTCxC",
        "outputId": "93f5b5e9-a1c9-421d-f4fb-6d7eb1f8bbc4"
      },
      "outputs": [
        {
          "output_type": "stream",
          "name": "stdout",
          "text": [
            "    evolution  hp        name pokedex   type\n",
            "0     Ivysaur  45   Bulbasaur     yes  grass\n",
            "1  Charmeleon  39  Charmander      no   fire\n",
            "2   Wartortle  44    Squirtle     yes  water\n",
            "3     Metapod  45    Caterpie      no    bug\n"
          ]
        }
      ],
      "source": [
        "import pandas as pd\n",
        "data={\n",
        "    'evolution':['Ivysaur','Charmeleon', 'Wartortle', 'Metapod'],\n",
        "    'hp':[45, 39, 44, 45],\n",
        "    'name':['Bulbasaur', 'Charmander', 'Squirtle', 'Caterpie'],\n",
        "    'pokedex':['yes', 'no', 'yes', 'no'],\n",
        "    'type':['grass', 'fire', 'water', 'bug']\n",
        "}\n",
        "pokemon=pd.DataFrame(data)\n",
        "print(pokemon)\n"
      ]
    },
    {
      "cell_type": "markdown",
      "metadata": {
        "id": "a3yo-53FTCxY"
      },
      "source": [
        "### Step 4. Ops...it seems the DataFrame columns are in alphabetical order. Place  the order of the columns as name, type, hp, evolution, pokedex"
      ]
    },
    {
      "cell_type": "code",
      "execution_count": 4,
      "metadata": {
        "colab": {
          "base_uri": "https://localhost:8080/"
        },
        "id": "7RvcwpqzTCxZ",
        "outputId": "d70dc40e-8ada-4c55-e0fc-9c4e02b6f83c"
      },
      "outputs": [
        {
          "output_type": "stream",
          "name": "stdout",
          "text": [
            "         name   type  HP   evolution pokedex\n",
            "0   Bulbasaur  grass NaN     Ivysaur     yes\n",
            "1  Charmander   fire NaN  Charmeleon      no\n",
            "2    Squirtle  water NaN   Wartortle     yes\n",
            "3    Caterpie    bug NaN     Metapod      no\n"
          ]
        }
      ],
      "source": [
        "import pandas as pd\n",
        "data={\n",
        "    'evolution':['Ivysaur','Charmeleon', 'Wartortle', 'Metapod'],\n",
        "    'hp':[45, 39, 44, 45],\n",
        "    'name':['Bulbasaur', 'Charmander', 'Squirtle', 'Caterpie'],\n",
        "    'pokedex':['yes', 'no', 'yes', 'no'],\n",
        "    'type':['grass', 'fire', 'water', 'bug']\n",
        "}\n",
        "pokemon=pd.DataFrame(data)\n",
        "\n",
        "pokemon=pokemon.reindex(columns=['name','type','HP','evolution','pokedex'])\n",
        "print(pokemon)"
      ]
    },
    {
      "cell_type": "markdown",
      "metadata": {
        "id": "bQAuJzGwTCxZ"
      },
      "source": [
        "### Step 5. Add another column called place, and insert what you have in mind."
      ]
    },
    {
      "cell_type": "code",
      "execution_count": 5,
      "metadata": {
        "colab": {
          "base_uri": "https://localhost:8080/"
        },
        "id": "cF-qwG9GTCxZ",
        "outputId": "6d711c67-e0ec-4a3b-d7ee-1a3be825e3e5"
      },
      "outputs": [
        {
          "output_type": "stream",
          "name": "stdout",
          "text": [
            "         name   type  HP   evolution pokedex     place\n",
            "0   Bulbasaur  grass NaN     Ivysaur     yes   chelsea\n",
            "1  Charmander   fire NaN  Charmeleon      no     hills\n",
            "2    Squirtle  water NaN   Wartortle     yes  mountain\n",
            "3    Caterpie    bug NaN     Metapod      no     river\n"
          ]
        }
      ],
      "source": [
        "import pandas as pd\n",
        "data={\n",
        "    'evolution':['Ivysaur','Charmeleon', 'Wartortle', 'Metapod'],\n",
        "    'hp':[45, 39, 44, 45],\n",
        "    'name':['Bulbasaur', 'Charmander', 'Squirtle', 'Caterpie'],\n",
        "    'pokedex':['yes', 'no', 'yes', 'no'],\n",
        "    'type':['grass', 'fire', 'water', 'bug']\n",
        "}\n",
        "pokemon=pd.DataFrame(data)\n",
        "\n",
        "pokemon=pokemon.reindex(columns=['name','type','HP','evolution','pokedex'])\n",
        "\n",
        "pokemon['place']=['chelsea','hills','mountain','river']\n",
        "\n",
        "print(pokemon)"
      ]
    },
    {
      "cell_type": "markdown",
      "metadata": {
        "id": "7oO8JkD7TCxZ"
      },
      "source": [
        "### Step 6. Present the type of each column"
      ]
    },
    {
      "cell_type": "code",
      "execution_count": 7,
      "metadata": {
        "colab": {
          "base_uri": "https://localhost:8080/"
        },
        "id": "4tZCtkPETCxZ",
        "outputId": "c3c13973-dc9c-4fef-9b9e-f3b5e0249b58"
      },
      "outputs": [
        {
          "output_type": "stream",
          "name": "stdout",
          "text": [
            "name          object\n",
            "type          object\n",
            "HP           float64\n",
            "evolution     object\n",
            "pokedex       object\n",
            "place         object\n",
            "dtype: object\n"
          ]
        }
      ],
      "source": [
        "import pandas as pd\n",
        "data={\n",
        "    'evolution':['Ivysaur','Charmeleon', 'Wartortle', 'Metapod'],\n",
        "    'hp':[45, 39, 44, 45],\n",
        "    'name':['Bulbasaur', 'Charmander', 'Squirtle', 'Caterpie'],\n",
        "    'pokedex':['yes', 'no', 'yes', 'no'],\n",
        "    'type':['grass', 'fire', 'water', 'bug']\n",
        "}\n",
        "pokemon=pd.DataFrame(data)\n",
        "\n",
        "pokemon=pokemon.reindex(columns=['name','type','HP','evolution','pokedex'])\n",
        "\n",
        "pokemon['place']=['chelsea','hills','mountain','river']\n",
        "\n",
        "print(pokemon.dtypes)"
      ]
    },
    {
      "cell_type": "markdown",
      "metadata": {
        "id": "G5DKfbERTCxZ"
      },
      "source": [
        "### BONUS: Create your own question and answer it."
      ]
    },
    {
      "cell_type": "markdown",
      "source": [
        "print out only the contents of the two middle collums"
      ],
      "metadata": {
        "id": "NuoNeAHSdyKL"
      }
    },
    {
      "cell_type": "code",
      "source": [
        "import pandas as pd\n",
        "data={\n",
        "     'evolution':['Ivysaur','Charmeleon', 'Wartortle', 'Metapod'],\n",
        "    'hp':[45, 39, 44, 45],\n",
        "    'name':['Bulbasaur', 'Charmander', 'Squirtle', 'Caterpie'],\n",
        "    'pokedex':['yes', 'no', 'yes', 'no'],\n",
        "    'type':['grass', 'fire', 'water', 'bug']\n",
        "}\n",
        "df=pd.DataFrame(data)\n",
        "print(df)\n",
        "subset =df.iloc[:,1:3]\n",
        "print(subset)"
      ],
      "metadata": {
        "colab": {
          "base_uri": "https://localhost:8080/"
        },
        "id": "aUNXqaWvd9n2",
        "outputId": "3a484269-9cba-4720-e352-0953340ae58f"
      },
      "execution_count": 13,
      "outputs": [
        {
          "output_type": "stream",
          "name": "stdout",
          "text": [
            "    evolution  hp        name pokedex   type\n",
            "0     Ivysaur  45   Bulbasaur     yes  grass\n",
            "1  Charmeleon  39  Charmander      no   fire\n",
            "2   Wartortle  44    Squirtle     yes  water\n",
            "3     Metapod  45    Caterpie      no    bug\n",
            "   hp        name\n",
            "0  45   Bulbasaur\n",
            "1  39  Charmander\n",
            "2  44    Squirtle\n",
            "3  45    Caterpie\n"
          ]
        }
      ]
    },
    {
      "cell_type": "code",
      "source": [],
      "metadata": {
        "id": "Ut5B-X3BfD3K"
      },
      "execution_count": null,
      "outputs": []
    }
  ],
  "metadata": {
    "kernelspec": {
      "display_name": "Python 2",
      "language": "python",
      "name": "python2"
    },
    "language_info": {
      "codemirror_mode": {
        "name": "ipython",
        "version": 2
      },
      "file_extension": ".py",
      "mimetype": "text/x-python",
      "name": "python",
      "nbconvert_exporter": "python",
      "pygments_lexer": "ipython2",
      "version": "2.7.11"
    },
    "colab": {
      "provenance": [],
      "include_colab_link": true
    }
  },
  "nbformat": 4,
  "nbformat_minor": 0
}