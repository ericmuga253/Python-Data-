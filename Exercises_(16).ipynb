{
  "cells": [
    {
      "cell_type": "markdown",
      "metadata": {
        "id": "view-in-github",
        "colab_type": "text"
      },
      "source": [
        "<a href=\"https://colab.research.google.com/github/ericmuga253/Python-Data-/blob/main/Exercises_(16).ipynb\" target=\"_parent\"><img src=\"https://colab.research.google.com/assets/colab-badge.svg\" alt=\"Open In Colab\"/></a>"
      ]
    },
    {
      "cell_type": "markdown",
      "metadata": {
        "id": "Ce5YMMcrJE0D"
      },
      "source": [
        "# Ex2 - Getting and Knowing your Data"
      ]
    },
    {
      "cell_type": "markdown",
      "metadata": {
        "id": "ge__s22sJE0F"
      },
      "source": [
        "This time we are going to pull data directly from the internet.\n",
        "Special thanks to: https://github.com/justmarkham for sharing the dataset and materials.\n",
        "\n",
        "### Step 1. Import the necessary libraries"
      ]
    },
    {
      "cell_type": "code",
      "execution_count": 1,
      "metadata": {
        "id": "J6Iw0n-lJE0G"
      },
      "outputs": [],
      "source": [
        "import pandas as pd\n",
        "import numpy as np"
      ]
    },
    {
      "cell_type": "markdown",
      "metadata": {
        "id": "eOhnQ5BZJE0H"
      },
      "source": [
        "### Step 2. Import the dataset from this [address](https://raw.githubusercontent.com/justmarkham/DAT8/master/data/chipotle.tsv)."
      ]
    },
    {
      "cell_type": "code",
      "source": [
        "url=('https://raw.githubusercontent.com/justmarkham/DAT8/master/data/chipotle.tsv')\n"
      ],
      "metadata": {
        "id": "yGUO0nFw0U9u"
      },
      "execution_count": 2,
      "outputs": []
    },
    {
      "cell_type": "markdown",
      "metadata": {
        "id": "yVu7lcVcJE0H"
      },
      "source": [
        "### Step 3. Assign it to a variable called chipo."
      ]
    },
    {
      "cell_type": "code",
      "source": [
        "chipo=pd.read_csv(url,sep='\\t')\n",
        "chipo.head()"
      ],
      "metadata": {
        "colab": {
          "base_uri": "https://localhost:8080/",
          "height": 206
        },
        "id": "NdHRtTfe0buv",
        "outputId": "5c7405ed-bac2-432d-929d-9491fc785b80"
      },
      "execution_count": 3,
      "outputs": [
        {
          "output_type": "execute_result",
          "data": {
            "text/plain": [
              "   order_id  quantity                              item_name  \\\n",
              "0         1         1           Chips and Fresh Tomato Salsa   \n",
              "1         1         1                                   Izze   \n",
              "2         1         1                       Nantucket Nectar   \n",
              "3         1         1  Chips and Tomatillo-Green Chili Salsa   \n",
              "4         2         2                           Chicken Bowl   \n",
              "\n",
              "                                  choice_description item_price  \n",
              "0                                                NaN     $2.39   \n",
              "1                                       [Clementine]     $3.39   \n",
              "2                                            [Apple]     $3.39   \n",
              "3                                                NaN     $2.39   \n",
              "4  [Tomatillo-Red Chili Salsa (Hot), [Black Beans...    $16.98   "
            ],
            "text/html": [
              "\n",
              "  <div id=\"df-49f82910-3a83-4086-bbe1-25bf8fbef19a\" class=\"colab-df-container\">\n",
              "    <div>\n",
              "<style scoped>\n",
              "    .dataframe tbody tr th:only-of-type {\n",
              "        vertical-align: middle;\n",
              "    }\n",
              "\n",
              "    .dataframe tbody tr th {\n",
              "        vertical-align: top;\n",
              "    }\n",
              "\n",
              "    .dataframe thead th {\n",
              "        text-align: right;\n",
              "    }\n",
              "</style>\n",
              "<table border=\"1\" class=\"dataframe\">\n",
              "  <thead>\n",
              "    <tr style=\"text-align: right;\">\n",
              "      <th></th>\n",
              "      <th>order_id</th>\n",
              "      <th>quantity</th>\n",
              "      <th>item_name</th>\n",
              "      <th>choice_description</th>\n",
              "      <th>item_price</th>\n",
              "    </tr>\n",
              "  </thead>\n",
              "  <tbody>\n",
              "    <tr>\n",
              "      <th>0</th>\n",
              "      <td>1</td>\n",
              "      <td>1</td>\n",
              "      <td>Chips and Fresh Tomato Salsa</td>\n",
              "      <td>NaN</td>\n",
              "      <td>$2.39</td>\n",
              "    </tr>\n",
              "    <tr>\n",
              "      <th>1</th>\n",
              "      <td>1</td>\n",
              "      <td>1</td>\n",
              "      <td>Izze</td>\n",
              "      <td>[Clementine]</td>\n",
              "      <td>$3.39</td>\n",
              "    </tr>\n",
              "    <tr>\n",
              "      <th>2</th>\n",
              "      <td>1</td>\n",
              "      <td>1</td>\n",
              "      <td>Nantucket Nectar</td>\n",
              "      <td>[Apple]</td>\n",
              "      <td>$3.39</td>\n",
              "    </tr>\n",
              "    <tr>\n",
              "      <th>3</th>\n",
              "      <td>1</td>\n",
              "      <td>1</td>\n",
              "      <td>Chips and Tomatillo-Green Chili Salsa</td>\n",
              "      <td>NaN</td>\n",
              "      <td>$2.39</td>\n",
              "    </tr>\n",
              "    <tr>\n",
              "      <th>4</th>\n",
              "      <td>2</td>\n",
              "      <td>2</td>\n",
              "      <td>Chicken Bowl</td>\n",
              "      <td>[Tomatillo-Red Chili Salsa (Hot), [Black Beans...</td>\n",
              "      <td>$16.98</td>\n",
              "    </tr>\n",
              "  </tbody>\n",
              "</table>\n",
              "</div>\n",
              "    <div class=\"colab-df-buttons\">\n",
              "\n",
              "  <div class=\"colab-df-container\">\n",
              "    <button class=\"colab-df-convert\" onclick=\"convertToInteractive('df-49f82910-3a83-4086-bbe1-25bf8fbef19a')\"\n",
              "            title=\"Convert this dataframe to an interactive table.\"\n",
              "            style=\"display:none;\">\n",
              "\n",
              "  <svg xmlns=\"http://www.w3.org/2000/svg\" height=\"24px\" viewBox=\"0 -960 960 960\">\n",
              "    <path d=\"M120-120v-720h720v720H120Zm60-500h600v-160H180v160Zm220 220h160v-160H400v160Zm0 220h160v-160H400v160ZM180-400h160v-160H180v160Zm440 0h160v-160H620v160ZM180-180h160v-160H180v160Zm440 0h160v-160H620v160Z\"/>\n",
              "  </svg>\n",
              "    </button>\n",
              "\n",
              "  <style>\n",
              "    .colab-df-container {\n",
              "      display:flex;\n",
              "      gap: 12px;\n",
              "    }\n",
              "\n",
              "    .colab-df-convert {\n",
              "      background-color: #E8F0FE;\n",
              "      border: none;\n",
              "      border-radius: 50%;\n",
              "      cursor: pointer;\n",
              "      display: none;\n",
              "      fill: #1967D2;\n",
              "      height: 32px;\n",
              "      padding: 0 0 0 0;\n",
              "      width: 32px;\n",
              "    }\n",
              "\n",
              "    .colab-df-convert:hover {\n",
              "      background-color: #E2EBFA;\n",
              "      box-shadow: 0px 1px 2px rgba(60, 64, 67, 0.3), 0px 1px 3px 1px rgba(60, 64, 67, 0.15);\n",
              "      fill: #174EA6;\n",
              "    }\n",
              "\n",
              "    .colab-df-buttons div {\n",
              "      margin-bottom: 4px;\n",
              "    }\n",
              "\n",
              "    [theme=dark] .colab-df-convert {\n",
              "      background-color: #3B4455;\n",
              "      fill: #D2E3FC;\n",
              "    }\n",
              "\n",
              "    [theme=dark] .colab-df-convert:hover {\n",
              "      background-color: #434B5C;\n",
              "      box-shadow: 0px 1px 3px 1px rgba(0, 0, 0, 0.15);\n",
              "      filter: drop-shadow(0px 1px 2px rgba(0, 0, 0, 0.3));\n",
              "      fill: #FFFFFF;\n",
              "    }\n",
              "  </style>\n",
              "\n",
              "    <script>\n",
              "      const buttonEl =\n",
              "        document.querySelector('#df-49f82910-3a83-4086-bbe1-25bf8fbef19a button.colab-df-convert');\n",
              "      buttonEl.style.display =\n",
              "        google.colab.kernel.accessAllowed ? 'block' : 'none';\n",
              "\n",
              "      async function convertToInteractive(key) {\n",
              "        const element = document.querySelector('#df-49f82910-3a83-4086-bbe1-25bf8fbef19a');\n",
              "        const dataTable =\n",
              "          await google.colab.kernel.invokeFunction('convertToInteractive',\n",
              "                                                    [key], {});\n",
              "        if (!dataTable) return;\n",
              "\n",
              "        const docLinkHtml = 'Like what you see? Visit the ' +\n",
              "          '<a target=\"_blank\" href=https://colab.research.google.com/notebooks/data_table.ipynb>data table notebook</a>'\n",
              "          + ' to learn more about interactive tables.';\n",
              "        element.innerHTML = '';\n",
              "        dataTable['output_type'] = 'display_data';\n",
              "        await google.colab.output.renderOutput(dataTable, element);\n",
              "        const docLink = document.createElement('div');\n",
              "        docLink.innerHTML = docLinkHtml;\n",
              "        element.appendChild(docLink);\n",
              "      }\n",
              "    </script>\n",
              "  </div>\n",
              "\n",
              "\n",
              "<div id=\"df-f84b7059-be5c-4667-9db2-8b13193b5b6e\">\n",
              "  <button class=\"colab-df-quickchart\" onclick=\"quickchart('df-f84b7059-be5c-4667-9db2-8b13193b5b6e')\"\n",
              "            title=\"Suggest charts\"\n",
              "            style=\"display:none;\">\n",
              "\n",
              "<svg xmlns=\"http://www.w3.org/2000/svg\" height=\"24px\"viewBox=\"0 0 24 24\"\n",
              "     width=\"24px\">\n",
              "    <g>\n",
              "        <path d=\"M19 3H5c-1.1 0-2 .9-2 2v14c0 1.1.9 2 2 2h14c1.1 0 2-.9 2-2V5c0-1.1-.9-2-2-2zM9 17H7v-7h2v7zm4 0h-2V7h2v10zm4 0h-2v-4h2v4z\"/>\n",
              "    </g>\n",
              "</svg>\n",
              "  </button>\n",
              "\n",
              "<style>\n",
              "  .colab-df-quickchart {\n",
              "      --bg-color: #E8F0FE;\n",
              "      --fill-color: #1967D2;\n",
              "      --hover-bg-color: #E2EBFA;\n",
              "      --hover-fill-color: #174EA6;\n",
              "      --disabled-fill-color: #AAA;\n",
              "      --disabled-bg-color: #DDD;\n",
              "  }\n",
              "\n",
              "  [theme=dark] .colab-df-quickchart {\n",
              "      --bg-color: #3B4455;\n",
              "      --fill-color: #D2E3FC;\n",
              "      --hover-bg-color: #434B5C;\n",
              "      --hover-fill-color: #FFFFFF;\n",
              "      --disabled-bg-color: #3B4455;\n",
              "      --disabled-fill-color: #666;\n",
              "  }\n",
              "\n",
              "  .colab-df-quickchart {\n",
              "    background-color: var(--bg-color);\n",
              "    border: none;\n",
              "    border-radius: 50%;\n",
              "    cursor: pointer;\n",
              "    display: none;\n",
              "    fill: var(--fill-color);\n",
              "    height: 32px;\n",
              "    padding: 0;\n",
              "    width: 32px;\n",
              "  }\n",
              "\n",
              "  .colab-df-quickchart:hover {\n",
              "    background-color: var(--hover-bg-color);\n",
              "    box-shadow: 0 1px 2px rgba(60, 64, 67, 0.3), 0 1px 3px 1px rgba(60, 64, 67, 0.15);\n",
              "    fill: var(--button-hover-fill-color);\n",
              "  }\n",
              "\n",
              "  .colab-df-quickchart-complete:disabled,\n",
              "  .colab-df-quickchart-complete:disabled:hover {\n",
              "    background-color: var(--disabled-bg-color);\n",
              "    fill: var(--disabled-fill-color);\n",
              "    box-shadow: none;\n",
              "  }\n",
              "\n",
              "  .colab-df-spinner {\n",
              "    border: 2px solid var(--fill-color);\n",
              "    border-color: transparent;\n",
              "    border-bottom-color: var(--fill-color);\n",
              "    animation:\n",
              "      spin 1s steps(1) infinite;\n",
              "  }\n",
              "\n",
              "  @keyframes spin {\n",
              "    0% {\n",
              "      border-color: transparent;\n",
              "      border-bottom-color: var(--fill-color);\n",
              "      border-left-color: var(--fill-color);\n",
              "    }\n",
              "    20% {\n",
              "      border-color: transparent;\n",
              "      border-left-color: var(--fill-color);\n",
              "      border-top-color: var(--fill-color);\n",
              "    }\n",
              "    30% {\n",
              "      border-color: transparent;\n",
              "      border-left-color: var(--fill-color);\n",
              "      border-top-color: var(--fill-color);\n",
              "      border-right-color: var(--fill-color);\n",
              "    }\n",
              "    40% {\n",
              "      border-color: transparent;\n",
              "      border-right-color: var(--fill-color);\n",
              "      border-top-color: var(--fill-color);\n",
              "    }\n",
              "    60% {\n",
              "      border-color: transparent;\n",
              "      border-right-color: var(--fill-color);\n",
              "    }\n",
              "    80% {\n",
              "      border-color: transparent;\n",
              "      border-right-color: var(--fill-color);\n",
              "      border-bottom-color: var(--fill-color);\n",
              "    }\n",
              "    90% {\n",
              "      border-color: transparent;\n",
              "      border-bottom-color: var(--fill-color);\n",
              "    }\n",
              "  }\n",
              "</style>\n",
              "\n",
              "  <script>\n",
              "    async function quickchart(key) {\n",
              "      const quickchartButtonEl =\n",
              "        document.querySelector('#' + key + ' button');\n",
              "      quickchartButtonEl.disabled = true;  // To prevent multiple clicks.\n",
              "      quickchartButtonEl.classList.add('colab-df-spinner');\n",
              "      try {\n",
              "        const charts = await google.colab.kernel.invokeFunction(\n",
              "            'suggestCharts', [key], {});\n",
              "      } catch (error) {\n",
              "        console.error('Error during call to suggestCharts:', error);\n",
              "      }\n",
              "      quickchartButtonEl.classList.remove('colab-df-spinner');\n",
              "      quickchartButtonEl.classList.add('colab-df-quickchart-complete');\n",
              "    }\n",
              "    (() => {\n",
              "      let quickchartButtonEl =\n",
              "        document.querySelector('#df-f84b7059-be5c-4667-9db2-8b13193b5b6e button');\n",
              "      quickchartButtonEl.style.display =\n",
              "        google.colab.kernel.accessAllowed ? 'block' : 'none';\n",
              "    })();\n",
              "  </script>\n",
              "</div>\n",
              "\n",
              "    </div>\n",
              "  </div>\n"
            ],
            "application/vnd.google.colaboratory.intrinsic+json": {
              "type": "dataframe",
              "variable_name": "chipo",
              "summary": "{\n  \"name\": \"chipo\",\n  \"rows\": 4622,\n  \"fields\": [\n    {\n      \"column\": \"order_id\",\n      \"properties\": {\n        \"dtype\": \"number\",\n        \"std\": 528,\n        \"min\": 1,\n        \"max\": 1834,\n        \"num_unique_values\": 1834,\n        \"samples\": [\n          644,\n          333,\n          991\n        ],\n        \"semantic_type\": \"\",\n        \"description\": \"\"\n      }\n    },\n    {\n      \"column\": \"quantity\",\n      \"properties\": {\n        \"dtype\": \"number\",\n        \"std\": 0,\n        \"min\": 1,\n        \"max\": 15,\n        \"num_unique_values\": 9,\n        \"samples\": [\n          8,\n          2,\n          15\n        ],\n        \"semantic_type\": \"\",\n        \"description\": \"\"\n      }\n    },\n    {\n      \"column\": \"item_name\",\n      \"properties\": {\n        \"dtype\": \"category\",\n        \"num_unique_values\": 50,\n        \"samples\": [\n          \"Barbacoa Burrito\",\n          \"Crispy Tacos\",\n          \"Chips and Roasted Chili Corn Salsa\"\n        ],\n        \"semantic_type\": \"\",\n        \"description\": \"\"\n      }\n    },\n    {\n      \"column\": \"choice_description\",\n      \"properties\": {\n        \"dtype\": \"category\",\n        \"num_unique_values\": 1043,\n        \"samples\": [\n          \"[Roasted Chili Corn Salsa, [Black Beans, Sour Cream, Cheese, Guacamole]]\",\n          \"[Tomatillo Red Chili Salsa, [Guacamole, Cheese]]\",\n          \"[Fresh Tomato Salsa, [Rice, Cheese, Sour Cream, Guacamole, Lettuce]]\"\n        ],\n        \"semantic_type\": \"\",\n        \"description\": \"\"\n      }\n    },\n    {\n      \"column\": \"item_price\",\n      \"properties\": {\n        \"dtype\": \"category\",\n        \"num_unique_values\": 78,\n        \"samples\": [\n          \"$23.50 \",\n          \"$2.39 \",\n          \"$7.40 \"\n        ],\n        \"semantic_type\": \"\",\n        \"description\": \"\"\n      }\n    }\n  ]\n}"
            }
          },
          "metadata": {},
          "execution_count": 3
        }
      ]
    },
    {
      "cell_type": "markdown",
      "metadata": {
        "id": "7mUk9lAtJE0H"
      },
      "source": [
        "### Step 4. See the first 10 entries"
      ]
    },
    {
      "cell_type": "code",
      "execution_count": 4,
      "metadata": {
        "scrolled": false,
        "id": "PBE3M1RiJE0H",
        "colab": {
          "base_uri": "https://localhost:8080/",
          "height": 363
        },
        "outputId": "0a3f3c23-df8d-483d-c42f-7309848fdd8a"
      },
      "outputs": [
        {
          "output_type": "execute_result",
          "data": {
            "text/plain": [
              "   order_id  quantity                              item_name  \\\n",
              "0         1         1           Chips and Fresh Tomato Salsa   \n",
              "1         1         1                                   Izze   \n",
              "2         1         1                       Nantucket Nectar   \n",
              "3         1         1  Chips and Tomatillo-Green Chili Salsa   \n",
              "4         2         2                           Chicken Bowl   \n",
              "5         3         1                           Chicken Bowl   \n",
              "6         3         1                          Side of Chips   \n",
              "7         4         1                          Steak Burrito   \n",
              "8         4         1                       Steak Soft Tacos   \n",
              "9         5         1                          Steak Burrito   \n",
              "\n",
              "                                  choice_description item_price  \n",
              "0                                                NaN     $2.39   \n",
              "1                                       [Clementine]     $3.39   \n",
              "2                                            [Apple]     $3.39   \n",
              "3                                                NaN     $2.39   \n",
              "4  [Tomatillo-Red Chili Salsa (Hot), [Black Beans...    $16.98   \n",
              "5  [Fresh Tomato Salsa (Mild), [Rice, Cheese, Sou...    $10.98   \n",
              "6                                                NaN     $1.69   \n",
              "7  [Tomatillo Red Chili Salsa, [Fajita Vegetables...    $11.75   \n",
              "8  [Tomatillo Green Chili Salsa, [Pinto Beans, Ch...     $9.25   \n",
              "9  [Fresh Tomato Salsa, [Rice, Black Beans, Pinto...     $9.25   "
            ],
            "text/html": [
              "\n",
              "  <div id=\"df-fc376d79-2bde-4a8a-940d-36fe42ad33dd\" class=\"colab-df-container\">\n",
              "    <div>\n",
              "<style scoped>\n",
              "    .dataframe tbody tr th:only-of-type {\n",
              "        vertical-align: middle;\n",
              "    }\n",
              "\n",
              "    .dataframe tbody tr th {\n",
              "        vertical-align: top;\n",
              "    }\n",
              "\n",
              "    .dataframe thead th {\n",
              "        text-align: right;\n",
              "    }\n",
              "</style>\n",
              "<table border=\"1\" class=\"dataframe\">\n",
              "  <thead>\n",
              "    <tr style=\"text-align: right;\">\n",
              "      <th></th>\n",
              "      <th>order_id</th>\n",
              "      <th>quantity</th>\n",
              "      <th>item_name</th>\n",
              "      <th>choice_description</th>\n",
              "      <th>item_price</th>\n",
              "    </tr>\n",
              "  </thead>\n",
              "  <tbody>\n",
              "    <tr>\n",
              "      <th>0</th>\n",
              "      <td>1</td>\n",
              "      <td>1</td>\n",
              "      <td>Chips and Fresh Tomato Salsa</td>\n",
              "      <td>NaN</td>\n",
              "      <td>$2.39</td>\n",
              "    </tr>\n",
              "    <tr>\n",
              "      <th>1</th>\n",
              "      <td>1</td>\n",
              "      <td>1</td>\n",
              "      <td>Izze</td>\n",
              "      <td>[Clementine]</td>\n",
              "      <td>$3.39</td>\n",
              "    </tr>\n",
              "    <tr>\n",
              "      <th>2</th>\n",
              "      <td>1</td>\n",
              "      <td>1</td>\n",
              "      <td>Nantucket Nectar</td>\n",
              "      <td>[Apple]</td>\n",
              "      <td>$3.39</td>\n",
              "    </tr>\n",
              "    <tr>\n",
              "      <th>3</th>\n",
              "      <td>1</td>\n",
              "      <td>1</td>\n",
              "      <td>Chips and Tomatillo-Green Chili Salsa</td>\n",
              "      <td>NaN</td>\n",
              "      <td>$2.39</td>\n",
              "    </tr>\n",
              "    <tr>\n",
              "      <th>4</th>\n",
              "      <td>2</td>\n",
              "      <td>2</td>\n",
              "      <td>Chicken Bowl</td>\n",
              "      <td>[Tomatillo-Red Chili Salsa (Hot), [Black Beans...</td>\n",
              "      <td>$16.98</td>\n",
              "    </tr>\n",
              "    <tr>\n",
              "      <th>5</th>\n",
              "      <td>3</td>\n",
              "      <td>1</td>\n",
              "      <td>Chicken Bowl</td>\n",
              "      <td>[Fresh Tomato Salsa (Mild), [Rice, Cheese, Sou...</td>\n",
              "      <td>$10.98</td>\n",
              "    </tr>\n",
              "    <tr>\n",
              "      <th>6</th>\n",
              "      <td>3</td>\n",
              "      <td>1</td>\n",
              "      <td>Side of Chips</td>\n",
              "      <td>NaN</td>\n",
              "      <td>$1.69</td>\n",
              "    </tr>\n",
              "    <tr>\n",
              "      <th>7</th>\n",
              "      <td>4</td>\n",
              "      <td>1</td>\n",
              "      <td>Steak Burrito</td>\n",
              "      <td>[Tomatillo Red Chili Salsa, [Fajita Vegetables...</td>\n",
              "      <td>$11.75</td>\n",
              "    </tr>\n",
              "    <tr>\n",
              "      <th>8</th>\n",
              "      <td>4</td>\n",
              "      <td>1</td>\n",
              "      <td>Steak Soft Tacos</td>\n",
              "      <td>[Tomatillo Green Chili Salsa, [Pinto Beans, Ch...</td>\n",
              "      <td>$9.25</td>\n",
              "    </tr>\n",
              "    <tr>\n",
              "      <th>9</th>\n",
              "      <td>5</td>\n",
              "      <td>1</td>\n",
              "      <td>Steak Burrito</td>\n",
              "      <td>[Fresh Tomato Salsa, [Rice, Black Beans, Pinto...</td>\n",
              "      <td>$9.25</td>\n",
              "    </tr>\n",
              "  </tbody>\n",
              "</table>\n",
              "</div>\n",
              "    <div class=\"colab-df-buttons\">\n",
              "\n",
              "  <div class=\"colab-df-container\">\n",
              "    <button class=\"colab-df-convert\" onclick=\"convertToInteractive('df-fc376d79-2bde-4a8a-940d-36fe42ad33dd')\"\n",
              "            title=\"Convert this dataframe to an interactive table.\"\n",
              "            style=\"display:none;\">\n",
              "\n",
              "  <svg xmlns=\"http://www.w3.org/2000/svg\" height=\"24px\" viewBox=\"0 -960 960 960\">\n",
              "    <path d=\"M120-120v-720h720v720H120Zm60-500h600v-160H180v160Zm220 220h160v-160H400v160Zm0 220h160v-160H400v160ZM180-400h160v-160H180v160Zm440 0h160v-160H620v160ZM180-180h160v-160H180v160Zm440 0h160v-160H620v160Z\"/>\n",
              "  </svg>\n",
              "    </button>\n",
              "\n",
              "  <style>\n",
              "    .colab-df-container {\n",
              "      display:flex;\n",
              "      gap: 12px;\n",
              "    }\n",
              "\n",
              "    .colab-df-convert {\n",
              "      background-color: #E8F0FE;\n",
              "      border: none;\n",
              "      border-radius: 50%;\n",
              "      cursor: pointer;\n",
              "      display: none;\n",
              "      fill: #1967D2;\n",
              "      height: 32px;\n",
              "      padding: 0 0 0 0;\n",
              "      width: 32px;\n",
              "    }\n",
              "\n",
              "    .colab-df-convert:hover {\n",
              "      background-color: #E2EBFA;\n",
              "      box-shadow: 0px 1px 2px rgba(60, 64, 67, 0.3), 0px 1px 3px 1px rgba(60, 64, 67, 0.15);\n",
              "      fill: #174EA6;\n",
              "    }\n",
              "\n",
              "    .colab-df-buttons div {\n",
              "      margin-bottom: 4px;\n",
              "    }\n",
              "\n",
              "    [theme=dark] .colab-df-convert {\n",
              "      background-color: #3B4455;\n",
              "      fill: #D2E3FC;\n",
              "    }\n",
              "\n",
              "    [theme=dark] .colab-df-convert:hover {\n",
              "      background-color: #434B5C;\n",
              "      box-shadow: 0px 1px 3px 1px rgba(0, 0, 0, 0.15);\n",
              "      filter: drop-shadow(0px 1px 2px rgba(0, 0, 0, 0.3));\n",
              "      fill: #FFFFFF;\n",
              "    }\n",
              "  </style>\n",
              "\n",
              "    <script>\n",
              "      const buttonEl =\n",
              "        document.querySelector('#df-fc376d79-2bde-4a8a-940d-36fe42ad33dd button.colab-df-convert');\n",
              "      buttonEl.style.display =\n",
              "        google.colab.kernel.accessAllowed ? 'block' : 'none';\n",
              "\n",
              "      async function convertToInteractive(key) {\n",
              "        const element = document.querySelector('#df-fc376d79-2bde-4a8a-940d-36fe42ad33dd');\n",
              "        const dataTable =\n",
              "          await google.colab.kernel.invokeFunction('convertToInteractive',\n",
              "                                                    [key], {});\n",
              "        if (!dataTable) return;\n",
              "\n",
              "        const docLinkHtml = 'Like what you see? Visit the ' +\n",
              "          '<a target=\"_blank\" href=https://colab.research.google.com/notebooks/data_table.ipynb>data table notebook</a>'\n",
              "          + ' to learn more about interactive tables.';\n",
              "        element.innerHTML = '';\n",
              "        dataTable['output_type'] = 'display_data';\n",
              "        await google.colab.output.renderOutput(dataTable, element);\n",
              "        const docLink = document.createElement('div');\n",
              "        docLink.innerHTML = docLinkHtml;\n",
              "        element.appendChild(docLink);\n",
              "      }\n",
              "    </script>\n",
              "  </div>\n",
              "\n",
              "\n",
              "<div id=\"df-4a62c06f-0168-42d9-9a39-e6113ff6a22f\">\n",
              "  <button class=\"colab-df-quickchart\" onclick=\"quickchart('df-4a62c06f-0168-42d9-9a39-e6113ff6a22f')\"\n",
              "            title=\"Suggest charts\"\n",
              "            style=\"display:none;\">\n",
              "\n",
              "<svg xmlns=\"http://www.w3.org/2000/svg\" height=\"24px\"viewBox=\"0 0 24 24\"\n",
              "     width=\"24px\">\n",
              "    <g>\n",
              "        <path d=\"M19 3H5c-1.1 0-2 .9-2 2v14c0 1.1.9 2 2 2h14c1.1 0 2-.9 2-2V5c0-1.1-.9-2-2-2zM9 17H7v-7h2v7zm4 0h-2V7h2v10zm4 0h-2v-4h2v4z\"/>\n",
              "    </g>\n",
              "</svg>\n",
              "  </button>\n",
              "\n",
              "<style>\n",
              "  .colab-df-quickchart {\n",
              "      --bg-color: #E8F0FE;\n",
              "      --fill-color: #1967D2;\n",
              "      --hover-bg-color: #E2EBFA;\n",
              "      --hover-fill-color: #174EA6;\n",
              "      --disabled-fill-color: #AAA;\n",
              "      --disabled-bg-color: #DDD;\n",
              "  }\n",
              "\n",
              "  [theme=dark] .colab-df-quickchart {\n",
              "      --bg-color: #3B4455;\n",
              "      --fill-color: #D2E3FC;\n",
              "      --hover-bg-color: #434B5C;\n",
              "      --hover-fill-color: #FFFFFF;\n",
              "      --disabled-bg-color: #3B4455;\n",
              "      --disabled-fill-color: #666;\n",
              "  }\n",
              "\n",
              "  .colab-df-quickchart {\n",
              "    background-color: var(--bg-color);\n",
              "    border: none;\n",
              "    border-radius: 50%;\n",
              "    cursor: pointer;\n",
              "    display: none;\n",
              "    fill: var(--fill-color);\n",
              "    height: 32px;\n",
              "    padding: 0;\n",
              "    width: 32px;\n",
              "  }\n",
              "\n",
              "  .colab-df-quickchart:hover {\n",
              "    background-color: var(--hover-bg-color);\n",
              "    box-shadow: 0 1px 2px rgba(60, 64, 67, 0.3), 0 1px 3px 1px rgba(60, 64, 67, 0.15);\n",
              "    fill: var(--button-hover-fill-color);\n",
              "  }\n",
              "\n",
              "  .colab-df-quickchart-complete:disabled,\n",
              "  .colab-df-quickchart-complete:disabled:hover {\n",
              "    background-color: var(--disabled-bg-color);\n",
              "    fill: var(--disabled-fill-color);\n",
              "    box-shadow: none;\n",
              "  }\n",
              "\n",
              "  .colab-df-spinner {\n",
              "    border: 2px solid var(--fill-color);\n",
              "    border-color: transparent;\n",
              "    border-bottom-color: var(--fill-color);\n",
              "    animation:\n",
              "      spin 1s steps(1) infinite;\n",
              "  }\n",
              "\n",
              "  @keyframes spin {\n",
              "    0% {\n",
              "      border-color: transparent;\n",
              "      border-bottom-color: var(--fill-color);\n",
              "      border-left-color: var(--fill-color);\n",
              "    }\n",
              "    20% {\n",
              "      border-color: transparent;\n",
              "      border-left-color: var(--fill-color);\n",
              "      border-top-color: var(--fill-color);\n",
              "    }\n",
              "    30% {\n",
              "      border-color: transparent;\n",
              "      border-left-color: var(--fill-color);\n",
              "      border-top-color: var(--fill-color);\n",
              "      border-right-color: var(--fill-color);\n",
              "    }\n",
              "    40% {\n",
              "      border-color: transparent;\n",
              "      border-right-color: var(--fill-color);\n",
              "      border-top-color: var(--fill-color);\n",
              "    }\n",
              "    60% {\n",
              "      border-color: transparent;\n",
              "      border-right-color: var(--fill-color);\n",
              "    }\n",
              "    80% {\n",
              "      border-color: transparent;\n",
              "      border-right-color: var(--fill-color);\n",
              "      border-bottom-color: var(--fill-color);\n",
              "    }\n",
              "    90% {\n",
              "      border-color: transparent;\n",
              "      border-bottom-color: var(--fill-color);\n",
              "    }\n",
              "  }\n",
              "</style>\n",
              "\n",
              "  <script>\n",
              "    async function quickchart(key) {\n",
              "      const quickchartButtonEl =\n",
              "        document.querySelector('#' + key + ' button');\n",
              "      quickchartButtonEl.disabled = true;  // To prevent multiple clicks.\n",
              "      quickchartButtonEl.classList.add('colab-df-spinner');\n",
              "      try {\n",
              "        const charts = await google.colab.kernel.invokeFunction(\n",
              "            'suggestCharts', [key], {});\n",
              "      } catch (error) {\n",
              "        console.error('Error during call to suggestCharts:', error);\n",
              "      }\n",
              "      quickchartButtonEl.classList.remove('colab-df-spinner');\n",
              "      quickchartButtonEl.classList.add('colab-df-quickchart-complete');\n",
              "    }\n",
              "    (() => {\n",
              "      let quickchartButtonEl =\n",
              "        document.querySelector('#df-4a62c06f-0168-42d9-9a39-e6113ff6a22f button');\n",
              "      quickchartButtonEl.style.display =\n",
              "        google.colab.kernel.accessAllowed ? 'block' : 'none';\n",
              "    })();\n",
              "  </script>\n",
              "</div>\n",
              "\n",
              "    </div>\n",
              "  </div>\n"
            ],
            "application/vnd.google.colaboratory.intrinsic+json": {
              "type": "dataframe",
              "variable_name": "chipo",
              "summary": "{\n  \"name\": \"chipo\",\n  \"rows\": 4622,\n  \"fields\": [\n    {\n      \"column\": \"order_id\",\n      \"properties\": {\n        \"dtype\": \"number\",\n        \"std\": 528,\n        \"min\": 1,\n        \"max\": 1834,\n        \"num_unique_values\": 1834,\n        \"samples\": [\n          644,\n          333,\n          991\n        ],\n        \"semantic_type\": \"\",\n        \"description\": \"\"\n      }\n    },\n    {\n      \"column\": \"quantity\",\n      \"properties\": {\n        \"dtype\": \"number\",\n        \"std\": 0,\n        \"min\": 1,\n        \"max\": 15,\n        \"num_unique_values\": 9,\n        \"samples\": [\n          8,\n          2,\n          15\n        ],\n        \"semantic_type\": \"\",\n        \"description\": \"\"\n      }\n    },\n    {\n      \"column\": \"item_name\",\n      \"properties\": {\n        \"dtype\": \"category\",\n        \"num_unique_values\": 50,\n        \"samples\": [\n          \"Barbacoa Burrito\",\n          \"Crispy Tacos\",\n          \"Chips and Roasted Chili Corn Salsa\"\n        ],\n        \"semantic_type\": \"\",\n        \"description\": \"\"\n      }\n    },\n    {\n      \"column\": \"choice_description\",\n      \"properties\": {\n        \"dtype\": \"category\",\n        \"num_unique_values\": 1043,\n        \"samples\": [\n          \"[Roasted Chili Corn Salsa, [Black Beans, Sour Cream, Cheese, Guacamole]]\",\n          \"[Tomatillo Red Chili Salsa, [Guacamole, Cheese]]\",\n          \"[Fresh Tomato Salsa, [Rice, Cheese, Sour Cream, Guacamole, Lettuce]]\"\n        ],\n        \"semantic_type\": \"\",\n        \"description\": \"\"\n      }\n    },\n    {\n      \"column\": \"item_price\",\n      \"properties\": {\n        \"dtype\": \"category\",\n        \"num_unique_values\": 78,\n        \"samples\": [\n          \"$23.50 \",\n          \"$2.39 \",\n          \"$7.40 \"\n        ],\n        \"semantic_type\": \"\",\n        \"description\": \"\"\n      }\n    }\n  ]\n}"
            }
          },
          "metadata": {},
          "execution_count": 4
        }
      ],
      "source": [
        "chipo.head(10)"
      ]
    },
    {
      "cell_type": "markdown",
      "metadata": {
        "id": "66jSQ8zvJE0I"
      },
      "source": [
        "### Step 5. What is the number of observations in the dataset?"
      ]
    },
    {
      "cell_type": "code",
      "execution_count": 5,
      "metadata": {
        "id": "2-okgwq4JE0I",
        "colab": {
          "base_uri": "https://localhost:8080/"
        },
        "outputId": "43663897-3fb6-4349-de80-6550b1448bb4"
      },
      "outputs": [
        {
          "output_type": "execute_result",
          "data": {
            "text/plain": [
              "(4622, 5)"
            ]
          },
          "metadata": {},
          "execution_count": 5
        }
      ],
      "source": [
        "# Solution 1\n",
        "chipo.shape"
      ]
    },
    {
      "cell_type": "code",
      "execution_count": 6,
      "metadata": {
        "id": "iylTGd3JJE0I",
        "colab": {
          "base_uri": "https://localhost:8080/"
        },
        "outputId": "dea575e3-a6b1-4b7a-d19b-6f88fc07a117"
      },
      "outputs": [
        {
          "output_type": "execute_result",
          "data": {
            "text/plain": [
              "23110"
            ]
          },
          "metadata": {},
          "execution_count": 6
        }
      ],
      "source": [
        "# Solution 2\n",
        "\n",
        "chipo.size"
      ]
    },
    {
      "cell_type": "markdown",
      "metadata": {
        "id": "EV3YB4yWJE0J"
      },
      "source": [
        "### Step 6. What is the number of columns in the dataset?"
      ]
    },
    {
      "cell_type": "code",
      "execution_count": 7,
      "metadata": {
        "id": "Ubx_TX1XJE0J",
        "colab": {
          "base_uri": "https://localhost:8080/"
        },
        "outputId": "d1705179-c926-4db0-dbfe-dd5c765120be"
      },
      "outputs": [
        {
          "output_type": "execute_result",
          "data": {
            "text/plain": [
              "5"
            ]
          },
          "metadata": {},
          "execution_count": 7
        }
      ],
      "source": [
        "chipo.shape[1]"
      ]
    },
    {
      "cell_type": "markdown",
      "metadata": {
        "id": "2AyTnxTuJE0J"
      },
      "source": [
        "### Step 7. Print the name of all the columns."
      ]
    },
    {
      "cell_type": "code",
      "execution_count": 8,
      "metadata": {
        "id": "dJY3eZP8JE0J",
        "colab": {
          "base_uri": "https://localhost:8080/"
        },
        "outputId": "e92e0d29-7a82-4873-8c80-5fa20d052a17"
      },
      "outputs": [
        {
          "output_type": "execute_result",
          "data": {
            "text/plain": [
              "Index(['order_id', 'quantity', 'item_name', 'choice_description',\n",
              "       'item_price'],\n",
              "      dtype='object')"
            ]
          },
          "metadata": {},
          "execution_count": 8
        }
      ],
      "source": [
        "chipo.columns"
      ]
    },
    {
      "cell_type": "markdown",
      "metadata": {
        "id": "AuNp_LkIJE0J"
      },
      "source": [
        "### Step 8. How is the dataset indexed?"
      ]
    },
    {
      "cell_type": "code",
      "execution_count": 14,
      "metadata": {
        "id": "Ygd3Y2o_JE0K",
        "colab": {
          "base_uri": "https://localhost:8080/"
        },
        "outputId": "20a4f7c3-e870-4e4c-f61d-f44ba7bffd39"
      },
      "outputs": [
        {
          "output_type": "execute_result",
          "data": {
            "text/plain": [
              "RangeIndex(start=0, stop=4622, step=1)"
            ]
          },
          "metadata": {},
          "execution_count": 14
        }
      ],
      "source": [
        "chipo.index"
      ]
    },
    {
      "cell_type": "markdown",
      "metadata": {
        "id": "KCuBHe1kJE0K"
      },
      "source": [
        "### Step 9. Which was the most-ordered item?"
      ]
    },
    {
      "cell_type": "code",
      "execution_count": 9,
      "metadata": {
        "id": "UK3ciT2zJE0K",
        "colab": {
          "base_uri": "https://localhost:8080/",
          "height": 112
        },
        "outputId": "f2b2b713-8eb7-488c-d4bc-b90c2256c70a"
      },
      "outputs": [
        {
          "output_type": "execute_result",
          "data": {
            "text/plain": [
              "              order_id  quantity  \\\n",
              "item_name                          \n",
              "Chicken Bowl    713926       761   \n",
              "\n",
              "                                             choice_description  \\\n",
              "item_name                                                         \n",
              "Chicken Bowl  [Tomatillo-Red Chili Salsa (Hot), [Black Beans...   \n",
              "\n",
              "                                                     item_price  \n",
              "item_name                                                        \n",
              "Chicken Bowl  $16.98 $10.98 $11.25 $8.75 $8.49 $11.25 $8.75 ...  "
            ],
            "text/html": [
              "\n",
              "  <div id=\"df-b4830bcc-2e4e-4f97-8554-909ae23dc258\" class=\"colab-df-container\">\n",
              "    <div>\n",
              "<style scoped>\n",
              "    .dataframe tbody tr th:only-of-type {\n",
              "        vertical-align: middle;\n",
              "    }\n",
              "\n",
              "    .dataframe tbody tr th {\n",
              "        vertical-align: top;\n",
              "    }\n",
              "\n",
              "    .dataframe thead th {\n",
              "        text-align: right;\n",
              "    }\n",
              "</style>\n",
              "<table border=\"1\" class=\"dataframe\">\n",
              "  <thead>\n",
              "    <tr style=\"text-align: right;\">\n",
              "      <th></th>\n",
              "      <th>order_id</th>\n",
              "      <th>quantity</th>\n",
              "      <th>choice_description</th>\n",
              "      <th>item_price</th>\n",
              "    </tr>\n",
              "    <tr>\n",
              "      <th>item_name</th>\n",
              "      <th></th>\n",
              "      <th></th>\n",
              "      <th></th>\n",
              "      <th></th>\n",
              "    </tr>\n",
              "  </thead>\n",
              "  <tbody>\n",
              "    <tr>\n",
              "      <th>Chicken Bowl</th>\n",
              "      <td>713926</td>\n",
              "      <td>761</td>\n",
              "      <td>[Tomatillo-Red Chili Salsa (Hot), [Black Beans...</td>\n",
              "      <td>$16.98 $10.98 $11.25 $8.75 $8.49 $11.25 $8.75 ...</td>\n",
              "    </tr>\n",
              "  </tbody>\n",
              "</table>\n",
              "</div>\n",
              "    <div class=\"colab-df-buttons\">\n",
              "\n",
              "  <div class=\"colab-df-container\">\n",
              "    <button class=\"colab-df-convert\" onclick=\"convertToInteractive('df-b4830bcc-2e4e-4f97-8554-909ae23dc258')\"\n",
              "            title=\"Convert this dataframe to an interactive table.\"\n",
              "            style=\"display:none;\">\n",
              "\n",
              "  <svg xmlns=\"http://www.w3.org/2000/svg\" height=\"24px\" viewBox=\"0 -960 960 960\">\n",
              "    <path d=\"M120-120v-720h720v720H120Zm60-500h600v-160H180v160Zm220 220h160v-160H400v160Zm0 220h160v-160H400v160ZM180-400h160v-160H180v160Zm440 0h160v-160H620v160ZM180-180h160v-160H180v160Zm440 0h160v-160H620v160Z\"/>\n",
              "  </svg>\n",
              "    </button>\n",
              "\n",
              "  <style>\n",
              "    .colab-df-container {\n",
              "      display:flex;\n",
              "      gap: 12px;\n",
              "    }\n",
              "\n",
              "    .colab-df-convert {\n",
              "      background-color: #E8F0FE;\n",
              "      border: none;\n",
              "      border-radius: 50%;\n",
              "      cursor: pointer;\n",
              "      display: none;\n",
              "      fill: #1967D2;\n",
              "      height: 32px;\n",
              "      padding: 0 0 0 0;\n",
              "      width: 32px;\n",
              "    }\n",
              "\n",
              "    .colab-df-convert:hover {\n",
              "      background-color: #E2EBFA;\n",
              "      box-shadow: 0px 1px 2px rgba(60, 64, 67, 0.3), 0px 1px 3px 1px rgba(60, 64, 67, 0.15);\n",
              "      fill: #174EA6;\n",
              "    }\n",
              "\n",
              "    .colab-df-buttons div {\n",
              "      margin-bottom: 4px;\n",
              "    }\n",
              "\n",
              "    [theme=dark] .colab-df-convert {\n",
              "      background-color: #3B4455;\n",
              "      fill: #D2E3FC;\n",
              "    }\n",
              "\n",
              "    [theme=dark] .colab-df-convert:hover {\n",
              "      background-color: #434B5C;\n",
              "      box-shadow: 0px 1px 3px 1px rgba(0, 0, 0, 0.15);\n",
              "      filter: drop-shadow(0px 1px 2px rgba(0, 0, 0, 0.3));\n",
              "      fill: #FFFFFF;\n",
              "    }\n",
              "  </style>\n",
              "\n",
              "    <script>\n",
              "      const buttonEl =\n",
              "        document.querySelector('#df-b4830bcc-2e4e-4f97-8554-909ae23dc258 button.colab-df-convert');\n",
              "      buttonEl.style.display =\n",
              "        google.colab.kernel.accessAllowed ? 'block' : 'none';\n",
              "\n",
              "      async function convertToInteractive(key) {\n",
              "        const element = document.querySelector('#df-b4830bcc-2e4e-4f97-8554-909ae23dc258');\n",
              "        const dataTable =\n",
              "          await google.colab.kernel.invokeFunction('convertToInteractive',\n",
              "                                                    [key], {});\n",
              "        if (!dataTable) return;\n",
              "\n",
              "        const docLinkHtml = 'Like what you see? Visit the ' +\n",
              "          '<a target=\"_blank\" href=https://colab.research.google.com/notebooks/data_table.ipynb>data table notebook</a>'\n",
              "          + ' to learn more about interactive tables.';\n",
              "        element.innerHTML = '';\n",
              "        dataTable['output_type'] = 'display_data';\n",
              "        await google.colab.output.renderOutput(dataTable, element);\n",
              "        const docLink = document.createElement('div');\n",
              "        docLink.innerHTML = docLinkHtml;\n",
              "        element.appendChild(docLink);\n",
              "      }\n",
              "    </script>\n",
              "  </div>\n",
              "\n",
              "\n",
              "    </div>\n",
              "  </div>\n"
            ],
            "application/vnd.google.colaboratory.intrinsic+json": {
              "type": "dataframe",
              "variable_name": "group",
              "summary": "{\n  \"name\": \"group\",\n  \"rows\": 50,\n  \"fields\": [\n    {\n      \"column\": \"item_name\",\n      \"properties\": {\n        \"dtype\": \"string\",\n        \"num_unique_values\": 50,\n        \"samples\": [\n          \"Veggie Burrito\",\n          \"Veggie Soft Tacos\",\n          \"Barbacoa Soft Tacos\"\n        ],\n        \"semantic_type\": \"\",\n        \"description\": \"\"\n      }\n    },\n    {\n      \"column\": \"order_id\",\n      \"properties\": {\n        \"dtype\": \"number\",\n        \"std\": 142559,\n        \"min\": 279,\n        \"max\": 713926,\n        \"num_unique_values\": 50,\n        \"samples\": [\n          80962,\n          5520,\n          18725\n        ],\n        \"semantic_type\": \"\",\n        \"description\": \"\"\n      }\n    },\n    {\n      \"column\": \"quantity\",\n      \"properties\": {\n        \"dtype\": \"number\",\n        \"std\": 159,\n        \"min\": 1,\n        \"max\": 761,\n        \"num_unique_values\": 40,\n        \"samples\": [\n          56,\n          71,\n          87\n        ],\n        \"semantic_type\": \"\",\n        \"description\": \"\"\n      }\n    },\n    {\n      \"column\": \"choice_description\",\n      \"properties\": {\n        \"dtype\": \"string\",\n        \"num_unique_values\": 39,\n        \"samples\": [\n          \"[Braised Carnitas, Pinto Beans, [Sour Cream, Cheese, Cilantro-Lime Rice]][Adobo-Marinated and Grilled Steak, [Sour Cream, Salsa, Cheese, Cilantro-Lime Rice, Guacamole]]\",\n          \"[Adobo-Marinated and Grilled Steak][Adobo-Marinated and Grilled Chicken]\",\n          \"[Coke][Sprite][Coke][Coke][Lemonade][Sprite][Diet Coke][Coke][Coke][Coke][Sprite][Coke][Coke][Coke][Diet Coke][Lemonade][Coke][Diet Coke][Diet Coke][Diet Coke][Diet Coke][Nestea][Diet Coke][Coke][Coke][Lemonade][Coke][Coke][Diet Coke][Diet Coke][Lemonade][Lemonade][Diet Coke][Coke][Sprite][Coke][Sprite][Coke][Sprite][Nestea][Lemonade][Diet Coke][Coke][Sprite][Coke][Diet Coke][Sprite][Diet Coke][Coke][Lemonade][Lemonade][Diet Coke][Coke][Diet Coke][Diet Coke][Coke][Diet Coke][Coke][Coke][Diet Coke][Sprite][Diet Coke][Coke][Diet Coke][Diet Coke][Diet Coke][Diet Coke][Coke][Diet Coke][Diet Coke][Lemonade][Lemonade][Diet Coke][Coke][Diet Coke][Coke][Coke][Diet Coke][Coke][Coke][Lemonade][Coke][Diet Coke][Diet Coke][Diet Coke][Diet Coke][Diet Coke][Diet Coke][Coke][Nestea][Sprite][Diet Coke][Diet Coke][Lemonade][Coke][Sprite][Diet Coke][Coke][Coke][Lemonade][Diet Coke][Sprite][Diet Coke][Diet Coke][Lemonade][Sprite][Lemonade][Diet Coke][Lemonade][Sprite][Diet Coke][Coke][Coke][Coke][Coke][Diet Coke][Diet Coke][Sprite][Coke][Diet Coke][Coke][Lemonade][Diet Coke][Coke][Coke][Sprite][Diet Coke][Sprite][Diet Coke][Coke][Diet Coke][Sprite][Diet Coke][Sprite][Lemonade][Nestea][Diet Coke][Lemonade][Coke][Coke][Sprite][Sprite][Nestea][Nestea][Coke][Sprite][Coke][Coke][Diet Coke][Coke][Diet Coke][Sprite][Diet Coke][Coke][Sprite][Coke][Coke][Coke][Diet Coke][Diet Coke][Diet Coke][Nestea][Lemonade][Sprite][Diet Coke][Nestea][Diet Coke][Coke][Diet Coke][Sprite][Coke][Coke][Coke][Diet Coke][Coke][Diet Coke][Sprite][Diet Coke][Sprite][Coke][Diet Coke][Diet Coke][Coke][Diet Coke][Coke][Diet Coke][Coke][Diet Coke][Diet Coke][Sprite][Diet Coke][Sprite][Sprite][Nestea][Sprite][Sprite][Sprite][Nestea][Diet Coke][Diet Coke][Lemonade][Nestea][Coke][Diet Coke][Coke][Coke][Sprite][Diet Coke][Diet Coke][Coke][Coke][Sprite][Diet Coke][Diet Coke][Sprite][Coke][Diet Coke][Lemonade][Diet Coke][Sprite][Sprite][Diet Coke][Nestea][Coke][Coke][Lemonade][Nestea][Coke][Coke][Nestea][Nestea][Diet Coke][Lemonade][Coke][Coke][Diet Coke][Coke][Diet Coke][Lemonade][Coke][Lemonade][Sprite][Lemonade][Coke][Nestea][Coke][Sprite][Sprite][Diet Coke][Coke][Sprite][Coke][Coke][Coke][Diet Coke][Coke][Diet Coke][Coke][Diet Coke][Sprite][Nestea][Coke][Coke][Sprite][Coke][Coke][Coke][Lemonade][Sprite][Coke][Coke][Sprite][Coke][Diet Coke][Coke][Coke][Lemonade][Lemonade][Diet Coke][Diet Coke][Coke][Sprite][Lemonade][Sprite][Coke][Sprite][Diet Coke][Sprite][Sprite][Coke][Diet Coke][Sprite][Coke][Sprite][Diet Coke][Coke][Diet Coke][Nestea][Diet Coke][Coke][Sprite]\"\n        ],\n        \"semantic_type\": \"\",\n        \"description\": \"\"\n      }\n    },\n    {\n      \"column\": \"item_price\",\n      \"properties\": {\n        \"dtype\": \"string\",\n        \"num_unique_values\": 49,\n        \"samples\": [\n          \"$11.25 $8.49 $11.25 $11.25 $10.98 $8.49 $8.49 $11.25 $8.49 $8.49 $8.75 $8.49 $8.49 $8.49 $8.49 $8.49 $8.49 $8.75 $8.49 $11.25 $8.49 $8.49 $8.49 $11.25 $8.49 $11.25 $8.49 $11.25 $8.49 $8.75 $11.25 $8.49 $8.49 $8.49 $8.75 $10.98 $8.75 $8.49 $8.49 $8.75 $8.49 $11.25 $8.49 $11.25 $10.98 $11.25 $11.25 $11.25 $8.75 $8.75 $8.75 $8.75 $8.75 $11.25 $11.25 $11.25 $10.98 $8.75 $11.25 $8.75 $8.49 $8.49 $11.25 $8.49 $8.75 $11.25 $8.49 $11.25 $8.49 $8.75 $11.25 $8.75 $8.75 $8.49 $11.25 $8.49 $8.49 $11.25 $11.25 $33.75 $8.49 $11.25 $8.49 $8.49 $8.49 $8.49 $8.49 $8.49 $11.25 $11.25 $11.25 $11.25 $8.75 $11.25 $11.25 \",\n          \"$7.40 $7.40 \",\n          \"$8.99 \"\n        ],\n        \"semantic_type\": \"\",\n        \"description\": \"\"\n      }\n    }\n  ]\n}"
            }
          },
          "metadata": {},
          "execution_count": 9
        }
      ],
      "source": [
        "group=chipo.groupby('item_name')\n",
        "group=group.sum()\n",
        "group=group.sort_values(['quantity'],ascending=False)\n",
        "group.head(1)"
      ]
    },
    {
      "cell_type": "code",
      "source": [
        "group.head()"
      ],
      "metadata": {
        "colab": {
          "base_uri": "https://localhost:8080/",
          "height": 237
        },
        "id": "MnCOMSqKJ82M",
        "outputId": "85485f18-ed2a-4383-8248-406abacad1c2"
      },
      "execution_count": 10,
      "outputs": [
        {
          "output_type": "execute_result",
          "data": {
            "text/plain": [
              "                     order_id  quantity  \\\n",
              "item_name                                 \n",
              "Chicken Bowl           713926       761   \n",
              "Chicken Burrito        497303       591   \n",
              "Chips and Guacamole    449959       506   \n",
              "Steak Burrito          328437       386   \n",
              "Canned Soft Drink      304753       351   \n",
              "\n",
              "                                                    choice_description  \\\n",
              "item_name                                                                \n",
              "Chicken Bowl         [Tomatillo-Red Chili Salsa (Hot), [Black Beans...   \n",
              "Chicken Burrito      [Tomatillo-Green Chili Salsa (Medium), [Pinto ...   \n",
              "Chips and Guacamole                                                  0   \n",
              "Steak Burrito        [Tomatillo Red Chili Salsa, [Fajita Vegetables...   \n",
              "Canned Soft Drink    [Coke][Sprite][Coke][Coke][Lemonade][Sprite][D...   \n",
              "\n",
              "                                                            item_price  \n",
              "item_name                                                               \n",
              "Chicken Bowl         $16.98 $10.98 $11.25 $8.75 $8.49 $11.25 $8.75 ...  \n",
              "Chicken Burrito      $8.49 $8.49 $10.98 $8.49 $10.98 $10.98 $8.75 $...  \n",
              "Chips and Guacamole  $4.45 $4.45 $4.45 $4.45 $4.45 $3.99 $4.45 $3.9...  \n",
              "Steak Burrito        $11.75 $9.25 $8.99 $11.75 $8.99 $8.99 $8.99 $8...  \n",
              "Canned Soft Drink    $1.25 $1.25 $1.25 $1.25 $1.25 $1.25 $1.25 $1.2...  "
            ],
            "text/html": [
              "\n",
              "  <div id=\"df-c45d22b0-5c0d-4574-8fa5-ca3a09522da6\" class=\"colab-df-container\">\n",
              "    <div>\n",
              "<style scoped>\n",
              "    .dataframe tbody tr th:only-of-type {\n",
              "        vertical-align: middle;\n",
              "    }\n",
              "\n",
              "    .dataframe tbody tr th {\n",
              "        vertical-align: top;\n",
              "    }\n",
              "\n",
              "    .dataframe thead th {\n",
              "        text-align: right;\n",
              "    }\n",
              "</style>\n",
              "<table border=\"1\" class=\"dataframe\">\n",
              "  <thead>\n",
              "    <tr style=\"text-align: right;\">\n",
              "      <th></th>\n",
              "      <th>order_id</th>\n",
              "      <th>quantity</th>\n",
              "      <th>choice_description</th>\n",
              "      <th>item_price</th>\n",
              "    </tr>\n",
              "    <tr>\n",
              "      <th>item_name</th>\n",
              "      <th></th>\n",
              "      <th></th>\n",
              "      <th></th>\n",
              "      <th></th>\n",
              "    </tr>\n",
              "  </thead>\n",
              "  <tbody>\n",
              "    <tr>\n",
              "      <th>Chicken Bowl</th>\n",
              "      <td>713926</td>\n",
              "      <td>761</td>\n",
              "      <td>[Tomatillo-Red Chili Salsa (Hot), [Black Beans...</td>\n",
              "      <td>$16.98 $10.98 $11.25 $8.75 $8.49 $11.25 $8.75 ...</td>\n",
              "    </tr>\n",
              "    <tr>\n",
              "      <th>Chicken Burrito</th>\n",
              "      <td>497303</td>\n",
              "      <td>591</td>\n",
              "      <td>[Tomatillo-Green Chili Salsa (Medium), [Pinto ...</td>\n",
              "      <td>$8.49 $8.49 $10.98 $8.49 $10.98 $10.98 $8.75 $...</td>\n",
              "    </tr>\n",
              "    <tr>\n",
              "      <th>Chips and Guacamole</th>\n",
              "      <td>449959</td>\n",
              "      <td>506</td>\n",
              "      <td>0</td>\n",
              "      <td>$4.45 $4.45 $4.45 $4.45 $4.45 $3.99 $4.45 $3.9...</td>\n",
              "    </tr>\n",
              "    <tr>\n",
              "      <th>Steak Burrito</th>\n",
              "      <td>328437</td>\n",
              "      <td>386</td>\n",
              "      <td>[Tomatillo Red Chili Salsa, [Fajita Vegetables...</td>\n",
              "      <td>$11.75 $9.25 $8.99 $11.75 $8.99 $8.99 $8.99 $8...</td>\n",
              "    </tr>\n",
              "    <tr>\n",
              "      <th>Canned Soft Drink</th>\n",
              "      <td>304753</td>\n",
              "      <td>351</td>\n",
              "      <td>[Coke][Sprite][Coke][Coke][Lemonade][Sprite][D...</td>\n",
              "      <td>$1.25 $1.25 $1.25 $1.25 $1.25 $1.25 $1.25 $1.2...</td>\n",
              "    </tr>\n",
              "  </tbody>\n",
              "</table>\n",
              "</div>\n",
              "    <div class=\"colab-df-buttons\">\n",
              "\n",
              "  <div class=\"colab-df-container\">\n",
              "    <button class=\"colab-df-convert\" onclick=\"convertToInteractive('df-c45d22b0-5c0d-4574-8fa5-ca3a09522da6')\"\n",
              "            title=\"Convert this dataframe to an interactive table.\"\n",
              "            style=\"display:none;\">\n",
              "\n",
              "  <svg xmlns=\"http://www.w3.org/2000/svg\" height=\"24px\" viewBox=\"0 -960 960 960\">\n",
              "    <path d=\"M120-120v-720h720v720H120Zm60-500h600v-160H180v160Zm220 220h160v-160H400v160Zm0 220h160v-160H400v160ZM180-400h160v-160H180v160Zm440 0h160v-160H620v160ZM180-180h160v-160H180v160Zm440 0h160v-160H620v160Z\"/>\n",
              "  </svg>\n",
              "    </button>\n",
              "\n",
              "  <style>\n",
              "    .colab-df-container {\n",
              "      display:flex;\n",
              "      gap: 12px;\n",
              "    }\n",
              "\n",
              "    .colab-df-convert {\n",
              "      background-color: #E8F0FE;\n",
              "      border: none;\n",
              "      border-radius: 50%;\n",
              "      cursor: pointer;\n",
              "      display: none;\n",
              "      fill: #1967D2;\n",
              "      height: 32px;\n",
              "      padding: 0 0 0 0;\n",
              "      width: 32px;\n",
              "    }\n",
              "\n",
              "    .colab-df-convert:hover {\n",
              "      background-color: #E2EBFA;\n",
              "      box-shadow: 0px 1px 2px rgba(60, 64, 67, 0.3), 0px 1px 3px 1px rgba(60, 64, 67, 0.15);\n",
              "      fill: #174EA6;\n",
              "    }\n",
              "\n",
              "    .colab-df-buttons div {\n",
              "      margin-bottom: 4px;\n",
              "    }\n",
              "\n",
              "    [theme=dark] .colab-df-convert {\n",
              "      background-color: #3B4455;\n",
              "      fill: #D2E3FC;\n",
              "    }\n",
              "\n",
              "    [theme=dark] .colab-df-convert:hover {\n",
              "      background-color: #434B5C;\n",
              "      box-shadow: 0px 1px 3px 1px rgba(0, 0, 0, 0.15);\n",
              "      filter: drop-shadow(0px 1px 2px rgba(0, 0, 0, 0.3));\n",
              "      fill: #FFFFFF;\n",
              "    }\n",
              "  </style>\n",
              "\n",
              "    <script>\n",
              "      const buttonEl =\n",
              "        document.querySelector('#df-c45d22b0-5c0d-4574-8fa5-ca3a09522da6 button.colab-df-convert');\n",
              "      buttonEl.style.display =\n",
              "        google.colab.kernel.accessAllowed ? 'block' : 'none';\n",
              "\n",
              "      async function convertToInteractive(key) {\n",
              "        const element = document.querySelector('#df-c45d22b0-5c0d-4574-8fa5-ca3a09522da6');\n",
              "        const dataTable =\n",
              "          await google.colab.kernel.invokeFunction('convertToInteractive',\n",
              "                                                    [key], {});\n",
              "        if (!dataTable) return;\n",
              "\n",
              "        const docLinkHtml = 'Like what you see? Visit the ' +\n",
              "          '<a target=\"_blank\" href=https://colab.research.google.com/notebooks/data_table.ipynb>data table notebook</a>'\n",
              "          + ' to learn more about interactive tables.';\n",
              "        element.innerHTML = '';\n",
              "        dataTable['output_type'] = 'display_data';\n",
              "        await google.colab.output.renderOutput(dataTable, element);\n",
              "        const docLink = document.createElement('div');\n",
              "        docLink.innerHTML = docLinkHtml;\n",
              "        element.appendChild(docLink);\n",
              "      }\n",
              "    </script>\n",
              "  </div>\n",
              "\n",
              "\n",
              "<div id=\"df-0933c71f-e0db-499e-9091-ecc43d6facdd\">\n",
              "  <button class=\"colab-df-quickchart\" onclick=\"quickchart('df-0933c71f-e0db-499e-9091-ecc43d6facdd')\"\n",
              "            title=\"Suggest charts\"\n",
              "            style=\"display:none;\">\n",
              "\n",
              "<svg xmlns=\"http://www.w3.org/2000/svg\" height=\"24px\"viewBox=\"0 0 24 24\"\n",
              "     width=\"24px\">\n",
              "    <g>\n",
              "        <path d=\"M19 3H5c-1.1 0-2 .9-2 2v14c0 1.1.9 2 2 2h14c1.1 0 2-.9 2-2V5c0-1.1-.9-2-2-2zM9 17H7v-7h2v7zm4 0h-2V7h2v10zm4 0h-2v-4h2v4z\"/>\n",
              "    </g>\n",
              "</svg>\n",
              "  </button>\n",
              "\n",
              "<style>\n",
              "  .colab-df-quickchart {\n",
              "      --bg-color: #E8F0FE;\n",
              "      --fill-color: #1967D2;\n",
              "      --hover-bg-color: #E2EBFA;\n",
              "      --hover-fill-color: #174EA6;\n",
              "      --disabled-fill-color: #AAA;\n",
              "      --disabled-bg-color: #DDD;\n",
              "  }\n",
              "\n",
              "  [theme=dark] .colab-df-quickchart {\n",
              "      --bg-color: #3B4455;\n",
              "      --fill-color: #D2E3FC;\n",
              "      --hover-bg-color: #434B5C;\n",
              "      --hover-fill-color: #FFFFFF;\n",
              "      --disabled-bg-color: #3B4455;\n",
              "      --disabled-fill-color: #666;\n",
              "  }\n",
              "\n",
              "  .colab-df-quickchart {\n",
              "    background-color: var(--bg-color);\n",
              "    border: none;\n",
              "    border-radius: 50%;\n",
              "    cursor: pointer;\n",
              "    display: none;\n",
              "    fill: var(--fill-color);\n",
              "    height: 32px;\n",
              "    padding: 0;\n",
              "    width: 32px;\n",
              "  }\n",
              "\n",
              "  .colab-df-quickchart:hover {\n",
              "    background-color: var(--hover-bg-color);\n",
              "    box-shadow: 0 1px 2px rgba(60, 64, 67, 0.3), 0 1px 3px 1px rgba(60, 64, 67, 0.15);\n",
              "    fill: var(--button-hover-fill-color);\n",
              "  }\n",
              "\n",
              "  .colab-df-quickchart-complete:disabled,\n",
              "  .colab-df-quickchart-complete:disabled:hover {\n",
              "    background-color: var(--disabled-bg-color);\n",
              "    fill: var(--disabled-fill-color);\n",
              "    box-shadow: none;\n",
              "  }\n",
              "\n",
              "  .colab-df-spinner {\n",
              "    border: 2px solid var(--fill-color);\n",
              "    border-color: transparent;\n",
              "    border-bottom-color: var(--fill-color);\n",
              "    animation:\n",
              "      spin 1s steps(1) infinite;\n",
              "  }\n",
              "\n",
              "  @keyframes spin {\n",
              "    0% {\n",
              "      border-color: transparent;\n",
              "      border-bottom-color: var(--fill-color);\n",
              "      border-left-color: var(--fill-color);\n",
              "    }\n",
              "    20% {\n",
              "      border-color: transparent;\n",
              "      border-left-color: var(--fill-color);\n",
              "      border-top-color: var(--fill-color);\n",
              "    }\n",
              "    30% {\n",
              "      border-color: transparent;\n",
              "      border-left-color: var(--fill-color);\n",
              "      border-top-color: var(--fill-color);\n",
              "      border-right-color: var(--fill-color);\n",
              "    }\n",
              "    40% {\n",
              "      border-color: transparent;\n",
              "      border-right-color: var(--fill-color);\n",
              "      border-top-color: var(--fill-color);\n",
              "    }\n",
              "    60% {\n",
              "      border-color: transparent;\n",
              "      border-right-color: var(--fill-color);\n",
              "    }\n",
              "    80% {\n",
              "      border-color: transparent;\n",
              "      border-right-color: var(--fill-color);\n",
              "      border-bottom-color: var(--fill-color);\n",
              "    }\n",
              "    90% {\n",
              "      border-color: transparent;\n",
              "      border-bottom-color: var(--fill-color);\n",
              "    }\n",
              "  }\n",
              "</style>\n",
              "\n",
              "  <script>\n",
              "    async function quickchart(key) {\n",
              "      const quickchartButtonEl =\n",
              "        document.querySelector('#' + key + ' button');\n",
              "      quickchartButtonEl.disabled = true;  // To prevent multiple clicks.\n",
              "      quickchartButtonEl.classList.add('colab-df-spinner');\n",
              "      try {\n",
              "        const charts = await google.colab.kernel.invokeFunction(\n",
              "            'suggestCharts', [key], {});\n",
              "      } catch (error) {\n",
              "        console.error('Error during call to suggestCharts:', error);\n",
              "      }\n",
              "      quickchartButtonEl.classList.remove('colab-df-spinner');\n",
              "      quickchartButtonEl.classList.add('colab-df-quickchart-complete');\n",
              "    }\n",
              "    (() => {\n",
              "      let quickchartButtonEl =\n",
              "        document.querySelector('#df-0933c71f-e0db-499e-9091-ecc43d6facdd button');\n",
              "      quickchartButtonEl.style.display =\n",
              "        google.colab.kernel.accessAllowed ? 'block' : 'none';\n",
              "    })();\n",
              "  </script>\n",
              "</div>\n",
              "\n",
              "    </div>\n",
              "  </div>\n"
            ],
            "application/vnd.google.colaboratory.intrinsic+json": {
              "type": "dataframe",
              "variable_name": "group",
              "summary": "{\n  \"name\": \"group\",\n  \"rows\": 50,\n  \"fields\": [\n    {\n      \"column\": \"item_name\",\n      \"properties\": {\n        \"dtype\": \"string\",\n        \"num_unique_values\": 50,\n        \"samples\": [\n          \"Veggie Burrito\",\n          \"Veggie Soft Tacos\",\n          \"Barbacoa Soft Tacos\"\n        ],\n        \"semantic_type\": \"\",\n        \"description\": \"\"\n      }\n    },\n    {\n      \"column\": \"order_id\",\n      \"properties\": {\n        \"dtype\": \"number\",\n        \"std\": 142559,\n        \"min\": 279,\n        \"max\": 713926,\n        \"num_unique_values\": 50,\n        \"samples\": [\n          80962,\n          5520,\n          18725\n        ],\n        \"semantic_type\": \"\",\n        \"description\": \"\"\n      }\n    },\n    {\n      \"column\": \"quantity\",\n      \"properties\": {\n        \"dtype\": \"number\",\n        \"std\": 159,\n        \"min\": 1,\n        \"max\": 761,\n        \"num_unique_values\": 40,\n        \"samples\": [\n          56,\n          71,\n          87\n        ],\n        \"semantic_type\": \"\",\n        \"description\": \"\"\n      }\n    },\n    {\n      \"column\": \"choice_description\",\n      \"properties\": {\n        \"dtype\": \"string\",\n        \"num_unique_values\": 39,\n        \"samples\": [\n          \"[Braised Carnitas, Pinto Beans, [Sour Cream, Cheese, Cilantro-Lime Rice]][Adobo-Marinated and Grilled Steak, [Sour Cream, Salsa, Cheese, Cilantro-Lime Rice, Guacamole]]\",\n          \"[Adobo-Marinated and Grilled Steak][Adobo-Marinated and Grilled Chicken]\",\n          \"[Coke][Sprite][Coke][Coke][Lemonade][Sprite][Diet Coke][Coke][Coke][Coke][Sprite][Coke][Coke][Coke][Diet Coke][Lemonade][Coke][Diet Coke][Diet Coke][Diet Coke][Diet Coke][Nestea][Diet Coke][Coke][Coke][Lemonade][Coke][Coke][Diet Coke][Diet Coke][Lemonade][Lemonade][Diet Coke][Coke][Sprite][Coke][Sprite][Coke][Sprite][Nestea][Lemonade][Diet Coke][Coke][Sprite][Coke][Diet Coke][Sprite][Diet Coke][Coke][Lemonade][Lemonade][Diet Coke][Coke][Diet Coke][Diet Coke][Coke][Diet Coke][Coke][Coke][Diet Coke][Sprite][Diet Coke][Coke][Diet Coke][Diet Coke][Diet Coke][Diet Coke][Coke][Diet Coke][Diet Coke][Lemonade][Lemonade][Diet Coke][Coke][Diet Coke][Coke][Coke][Diet Coke][Coke][Coke][Lemonade][Coke][Diet Coke][Diet Coke][Diet Coke][Diet Coke][Diet Coke][Diet Coke][Coke][Nestea][Sprite][Diet Coke][Diet Coke][Lemonade][Coke][Sprite][Diet Coke][Coke][Coke][Lemonade][Diet Coke][Sprite][Diet Coke][Diet Coke][Lemonade][Sprite][Lemonade][Diet Coke][Lemonade][Sprite][Diet Coke][Coke][Coke][Coke][Coke][Diet Coke][Diet Coke][Sprite][Coke][Diet Coke][Coke][Lemonade][Diet Coke][Coke][Coke][Sprite][Diet Coke][Sprite][Diet Coke][Coke][Diet Coke][Sprite][Diet Coke][Sprite][Lemonade][Nestea][Diet Coke][Lemonade][Coke][Coke][Sprite][Sprite][Nestea][Nestea][Coke][Sprite][Coke][Coke][Diet Coke][Coke][Diet Coke][Sprite][Diet Coke][Coke][Sprite][Coke][Coke][Coke][Diet Coke][Diet Coke][Diet Coke][Nestea][Lemonade][Sprite][Diet Coke][Nestea][Diet Coke][Coke][Diet Coke][Sprite][Coke][Coke][Coke][Diet Coke][Coke][Diet Coke][Sprite][Diet Coke][Sprite][Coke][Diet Coke][Diet Coke][Coke][Diet Coke][Coke][Diet Coke][Coke][Diet Coke][Diet Coke][Sprite][Diet Coke][Sprite][Sprite][Nestea][Sprite][Sprite][Sprite][Nestea][Diet Coke][Diet Coke][Lemonade][Nestea][Coke][Diet Coke][Coke][Coke][Sprite][Diet Coke][Diet Coke][Coke][Coke][Sprite][Diet Coke][Diet Coke][Sprite][Coke][Diet Coke][Lemonade][Diet Coke][Sprite][Sprite][Diet Coke][Nestea][Coke][Coke][Lemonade][Nestea][Coke][Coke][Nestea][Nestea][Diet Coke][Lemonade][Coke][Coke][Diet Coke][Coke][Diet Coke][Lemonade][Coke][Lemonade][Sprite][Lemonade][Coke][Nestea][Coke][Sprite][Sprite][Diet Coke][Coke][Sprite][Coke][Coke][Coke][Diet Coke][Coke][Diet Coke][Coke][Diet Coke][Sprite][Nestea][Coke][Coke][Sprite][Coke][Coke][Coke][Lemonade][Sprite][Coke][Coke][Sprite][Coke][Diet Coke][Coke][Coke][Lemonade][Lemonade][Diet Coke][Diet Coke][Coke][Sprite][Lemonade][Sprite][Coke][Sprite][Diet Coke][Sprite][Sprite][Coke][Diet Coke][Sprite][Coke][Sprite][Diet Coke][Coke][Diet Coke][Nestea][Diet Coke][Coke][Sprite]\"\n        ],\n        \"semantic_type\": \"\",\n        \"description\": \"\"\n      }\n    },\n    {\n      \"column\": \"item_price\",\n      \"properties\": {\n        \"dtype\": \"string\",\n        \"num_unique_values\": 49,\n        \"samples\": [\n          \"$11.25 $8.49 $11.25 $11.25 $10.98 $8.49 $8.49 $11.25 $8.49 $8.49 $8.75 $8.49 $8.49 $8.49 $8.49 $8.49 $8.49 $8.75 $8.49 $11.25 $8.49 $8.49 $8.49 $11.25 $8.49 $11.25 $8.49 $11.25 $8.49 $8.75 $11.25 $8.49 $8.49 $8.49 $8.75 $10.98 $8.75 $8.49 $8.49 $8.75 $8.49 $11.25 $8.49 $11.25 $10.98 $11.25 $11.25 $11.25 $8.75 $8.75 $8.75 $8.75 $8.75 $11.25 $11.25 $11.25 $10.98 $8.75 $11.25 $8.75 $8.49 $8.49 $11.25 $8.49 $8.75 $11.25 $8.49 $11.25 $8.49 $8.75 $11.25 $8.75 $8.75 $8.49 $11.25 $8.49 $8.49 $11.25 $11.25 $33.75 $8.49 $11.25 $8.49 $8.49 $8.49 $8.49 $8.49 $8.49 $11.25 $11.25 $11.25 $11.25 $8.75 $11.25 $11.25 \",\n          \"$7.40 $7.40 \",\n          \"$8.99 \"\n        ],\n        \"semantic_type\": \"\",\n        \"description\": \"\"\n      }\n    }\n  ]\n}"
            }
          },
          "metadata": {},
          "execution_count": 10
        }
      ]
    },
    {
      "cell_type": "markdown",
      "metadata": {
        "id": "3wpTzL-PJE0K"
      },
      "source": [
        "### Step 10. For the most-ordered item, how many items were ordered?"
      ]
    },
    {
      "cell_type": "code",
      "execution_count": 15,
      "metadata": {
        "id": "SkhfcXtKJE0K",
        "colab": {
          "base_uri": "https://localhost:8080/",
          "height": 112
        },
        "outputId": "ba6280a5-7362-46b7-ca2a-a5dbe916d758"
      },
      "outputs": [
        {
          "output_type": "execute_result",
          "data": {
            "text/plain": [
              "              order_id  quantity  \\\n",
              "item_name                          \n",
              "Chicken Bowl    713926       761   \n",
              "\n",
              "                                             choice_description  \\\n",
              "item_name                                                         \n",
              "Chicken Bowl  [Tomatillo-Red Chili Salsa (Hot), [Black Beans...   \n",
              "\n",
              "                                                     item_price  \n",
              "item_name                                                        \n",
              "Chicken Bowl  $16.98 $10.98 $11.25 $8.75 $8.49 $11.25 $8.75 ...  "
            ],
            "text/html": [
              "\n",
              "  <div id=\"df-a104acf4-4e17-4c1e-acd2-257b321fc10c\" class=\"colab-df-container\">\n",
              "    <div>\n",
              "<style scoped>\n",
              "    .dataframe tbody tr th:only-of-type {\n",
              "        vertical-align: middle;\n",
              "    }\n",
              "\n",
              "    .dataframe tbody tr th {\n",
              "        vertical-align: top;\n",
              "    }\n",
              "\n",
              "    .dataframe thead th {\n",
              "        text-align: right;\n",
              "    }\n",
              "</style>\n",
              "<table border=\"1\" class=\"dataframe\">\n",
              "  <thead>\n",
              "    <tr style=\"text-align: right;\">\n",
              "      <th></th>\n",
              "      <th>order_id</th>\n",
              "      <th>quantity</th>\n",
              "      <th>choice_description</th>\n",
              "      <th>item_price</th>\n",
              "    </tr>\n",
              "    <tr>\n",
              "      <th>item_name</th>\n",
              "      <th></th>\n",
              "      <th></th>\n",
              "      <th></th>\n",
              "      <th></th>\n",
              "    </tr>\n",
              "  </thead>\n",
              "  <tbody>\n",
              "    <tr>\n",
              "      <th>Chicken Bowl</th>\n",
              "      <td>713926</td>\n",
              "      <td>761</td>\n",
              "      <td>[Tomatillo-Red Chili Salsa (Hot), [Black Beans...</td>\n",
              "      <td>$16.98 $10.98 $11.25 $8.75 $8.49 $11.25 $8.75 ...</td>\n",
              "    </tr>\n",
              "  </tbody>\n",
              "</table>\n",
              "</div>\n",
              "    <div class=\"colab-df-buttons\">\n",
              "\n",
              "  <div class=\"colab-df-container\">\n",
              "    <button class=\"colab-df-convert\" onclick=\"convertToInteractive('df-a104acf4-4e17-4c1e-acd2-257b321fc10c')\"\n",
              "            title=\"Convert this dataframe to an interactive table.\"\n",
              "            style=\"display:none;\">\n",
              "\n",
              "  <svg xmlns=\"http://www.w3.org/2000/svg\" height=\"24px\" viewBox=\"0 -960 960 960\">\n",
              "    <path d=\"M120-120v-720h720v720H120Zm60-500h600v-160H180v160Zm220 220h160v-160H400v160Zm0 220h160v-160H400v160ZM180-400h160v-160H180v160Zm440 0h160v-160H620v160ZM180-180h160v-160H180v160Zm440 0h160v-160H620v160Z\"/>\n",
              "  </svg>\n",
              "    </button>\n",
              "\n",
              "  <style>\n",
              "    .colab-df-container {\n",
              "      display:flex;\n",
              "      gap: 12px;\n",
              "    }\n",
              "\n",
              "    .colab-df-convert {\n",
              "      background-color: #E8F0FE;\n",
              "      border: none;\n",
              "      border-radius: 50%;\n",
              "      cursor: pointer;\n",
              "      display: none;\n",
              "      fill: #1967D2;\n",
              "      height: 32px;\n",
              "      padding: 0 0 0 0;\n",
              "      width: 32px;\n",
              "    }\n",
              "\n",
              "    .colab-df-convert:hover {\n",
              "      background-color: #E2EBFA;\n",
              "      box-shadow: 0px 1px 2px rgba(60, 64, 67, 0.3), 0px 1px 3px 1px rgba(60, 64, 67, 0.15);\n",
              "      fill: #174EA6;\n",
              "    }\n",
              "\n",
              "    .colab-df-buttons div {\n",
              "      margin-bottom: 4px;\n",
              "    }\n",
              "\n",
              "    [theme=dark] .colab-df-convert {\n",
              "      background-color: #3B4455;\n",
              "      fill: #D2E3FC;\n",
              "    }\n",
              "\n",
              "    [theme=dark] .colab-df-convert:hover {\n",
              "      background-color: #434B5C;\n",
              "      box-shadow: 0px 1px 3px 1px rgba(0, 0, 0, 0.15);\n",
              "      filter: drop-shadow(0px 1px 2px rgba(0, 0, 0, 0.3));\n",
              "      fill: #FFFFFF;\n",
              "    }\n",
              "  </style>\n",
              "\n",
              "    <script>\n",
              "      const buttonEl =\n",
              "        document.querySelector('#df-a104acf4-4e17-4c1e-acd2-257b321fc10c button.colab-df-convert');\n",
              "      buttonEl.style.display =\n",
              "        google.colab.kernel.accessAllowed ? 'block' : 'none';\n",
              "\n",
              "      async function convertToInteractive(key) {\n",
              "        const element = document.querySelector('#df-a104acf4-4e17-4c1e-acd2-257b321fc10c');\n",
              "        const dataTable =\n",
              "          await google.colab.kernel.invokeFunction('convertToInteractive',\n",
              "                                                    [key], {});\n",
              "        if (!dataTable) return;\n",
              "\n",
              "        const docLinkHtml = 'Like what you see? Visit the ' +\n",
              "          '<a target=\"_blank\" href=https://colab.research.google.com/notebooks/data_table.ipynb>data table notebook</a>'\n",
              "          + ' to learn more about interactive tables.';\n",
              "        element.innerHTML = '';\n",
              "        dataTable['output_type'] = 'display_data';\n",
              "        await google.colab.output.renderOutput(dataTable, element);\n",
              "        const docLink = document.createElement('div');\n",
              "        docLink.innerHTML = docLinkHtml;\n",
              "        element.appendChild(docLink);\n",
              "      }\n",
              "    </script>\n",
              "  </div>\n",
              "\n",
              "\n",
              "    </div>\n",
              "  </div>\n"
            ],
            "application/vnd.google.colaboratory.intrinsic+json": {
              "type": "dataframe",
              "variable_name": "group",
              "summary": "{\n  \"name\": \"group\",\n  \"rows\": 50,\n  \"fields\": [\n    {\n      \"column\": \"item_name\",\n      \"properties\": {\n        \"dtype\": \"string\",\n        \"num_unique_values\": 50,\n        \"samples\": [\n          \"Veggie Burrito\",\n          \"Veggie Soft Tacos\",\n          \"Barbacoa Soft Tacos\"\n        ],\n        \"semantic_type\": \"\",\n        \"description\": \"\"\n      }\n    },\n    {\n      \"column\": \"order_id\",\n      \"properties\": {\n        \"dtype\": \"number\",\n        \"std\": 142559,\n        \"min\": 279,\n        \"max\": 713926,\n        \"num_unique_values\": 50,\n        \"samples\": [\n          80962,\n          5520,\n          18725\n        ],\n        \"semantic_type\": \"\",\n        \"description\": \"\"\n      }\n    },\n    {\n      \"column\": \"quantity\",\n      \"properties\": {\n        \"dtype\": \"number\",\n        \"std\": 159,\n        \"min\": 1,\n        \"max\": 761,\n        \"num_unique_values\": 40,\n        \"samples\": [\n          56,\n          71,\n          87\n        ],\n        \"semantic_type\": \"\",\n        \"description\": \"\"\n      }\n    },\n    {\n      \"column\": \"choice_description\",\n      \"properties\": {\n        \"dtype\": \"string\",\n        \"num_unique_values\": 39,\n        \"samples\": [\n          \"[Braised Carnitas, Pinto Beans, [Sour Cream, Cheese, Cilantro-Lime Rice]][Adobo-Marinated and Grilled Steak, [Sour Cream, Salsa, Cheese, Cilantro-Lime Rice, Guacamole]]\",\n          \"[Adobo-Marinated and Grilled Steak][Adobo-Marinated and Grilled Chicken]\",\n          \"[Coke][Sprite][Coke][Coke][Lemonade][Sprite][Diet Coke][Coke][Coke][Coke][Sprite][Coke][Coke][Coke][Diet Coke][Lemonade][Coke][Diet Coke][Diet Coke][Diet Coke][Diet Coke][Nestea][Diet Coke][Coke][Coke][Lemonade][Coke][Coke][Diet Coke][Diet Coke][Lemonade][Lemonade][Diet Coke][Coke][Sprite][Coke][Sprite][Coke][Sprite][Nestea][Lemonade][Diet Coke][Coke][Sprite][Coke][Diet Coke][Sprite][Diet Coke][Coke][Lemonade][Lemonade][Diet Coke][Coke][Diet Coke][Diet Coke][Coke][Diet Coke][Coke][Coke][Diet Coke][Sprite][Diet Coke][Coke][Diet Coke][Diet Coke][Diet Coke][Diet Coke][Coke][Diet Coke][Diet Coke][Lemonade][Lemonade][Diet Coke][Coke][Diet Coke][Coke][Coke][Diet Coke][Coke][Coke][Lemonade][Coke][Diet Coke][Diet Coke][Diet Coke][Diet Coke][Diet Coke][Diet Coke][Coke][Nestea][Sprite][Diet Coke][Diet Coke][Lemonade][Coke][Sprite][Diet Coke][Coke][Coke][Lemonade][Diet Coke][Sprite][Diet Coke][Diet Coke][Lemonade][Sprite][Lemonade][Diet Coke][Lemonade][Sprite][Diet Coke][Coke][Coke][Coke][Coke][Diet Coke][Diet Coke][Sprite][Coke][Diet Coke][Coke][Lemonade][Diet Coke][Coke][Coke][Sprite][Diet Coke][Sprite][Diet Coke][Coke][Diet Coke][Sprite][Diet Coke][Sprite][Lemonade][Nestea][Diet Coke][Lemonade][Coke][Coke][Sprite][Sprite][Nestea][Nestea][Coke][Sprite][Coke][Coke][Diet Coke][Coke][Diet Coke][Sprite][Diet Coke][Coke][Sprite][Coke][Coke][Coke][Diet Coke][Diet Coke][Diet Coke][Nestea][Lemonade][Sprite][Diet Coke][Nestea][Diet Coke][Coke][Diet Coke][Sprite][Coke][Coke][Coke][Diet Coke][Coke][Diet Coke][Sprite][Diet Coke][Sprite][Coke][Diet Coke][Diet Coke][Coke][Diet Coke][Coke][Diet Coke][Coke][Diet Coke][Diet Coke][Sprite][Diet Coke][Sprite][Sprite][Nestea][Sprite][Sprite][Sprite][Nestea][Diet Coke][Diet Coke][Lemonade][Nestea][Coke][Diet Coke][Coke][Coke][Sprite][Diet Coke][Diet Coke][Coke][Coke][Sprite][Diet Coke][Diet Coke][Sprite][Coke][Diet Coke][Lemonade][Diet Coke][Sprite][Sprite][Diet Coke][Nestea][Coke][Coke][Lemonade][Nestea][Coke][Coke][Nestea][Nestea][Diet Coke][Lemonade][Coke][Coke][Diet Coke][Coke][Diet Coke][Lemonade][Coke][Lemonade][Sprite][Lemonade][Coke][Nestea][Coke][Sprite][Sprite][Diet Coke][Coke][Sprite][Coke][Coke][Coke][Diet Coke][Coke][Diet Coke][Coke][Diet Coke][Sprite][Nestea][Coke][Coke][Sprite][Coke][Coke][Coke][Lemonade][Sprite][Coke][Coke][Sprite][Coke][Diet Coke][Coke][Coke][Lemonade][Lemonade][Diet Coke][Diet Coke][Coke][Sprite][Lemonade][Sprite][Coke][Sprite][Diet Coke][Sprite][Sprite][Coke][Diet Coke][Sprite][Coke][Sprite][Diet Coke][Coke][Diet Coke][Nestea][Diet Coke][Coke][Sprite]\"\n        ],\n        \"semantic_type\": \"\",\n        \"description\": \"\"\n      }\n    },\n    {\n      \"column\": \"item_price\",\n      \"properties\": {\n        \"dtype\": \"string\",\n        \"num_unique_values\": 49,\n        \"samples\": [\n          \"$11.25 $8.49 $11.25 $11.25 $10.98 $8.49 $8.49 $11.25 $8.49 $8.49 $8.75 $8.49 $8.49 $8.49 $8.49 $8.49 $8.49 $8.75 $8.49 $11.25 $8.49 $8.49 $8.49 $11.25 $8.49 $11.25 $8.49 $11.25 $8.49 $8.75 $11.25 $8.49 $8.49 $8.49 $8.75 $10.98 $8.75 $8.49 $8.49 $8.75 $8.49 $11.25 $8.49 $11.25 $10.98 $11.25 $11.25 $11.25 $8.75 $8.75 $8.75 $8.75 $8.75 $11.25 $11.25 $11.25 $10.98 $8.75 $11.25 $8.75 $8.49 $8.49 $11.25 $8.49 $8.75 $11.25 $8.49 $11.25 $8.49 $8.75 $11.25 $8.75 $8.75 $8.49 $11.25 $8.49 $8.49 $11.25 $11.25 $33.75 $8.49 $11.25 $8.49 $8.49 $8.49 $8.49 $8.49 $8.49 $11.25 $11.25 $11.25 $11.25 $8.75 $11.25 $11.25 \",\n          \"$7.40 $7.40 \",\n          \"$8.99 \"\n        ],\n        \"semantic_type\": \"\",\n        \"description\": \"\"\n      }\n    }\n  ]\n}"
            }
          },
          "metadata": {},
          "execution_count": 15
        }
      ],
      "source": [
        "group.head(1)"
      ]
    },
    {
      "cell_type": "markdown",
      "metadata": {
        "id": "jVN_EdIdJE0K"
      },
      "source": [
        "### Step 11. What was the most ordered item in the choice_description column?"
      ]
    },
    {
      "cell_type": "code",
      "execution_count": 19,
      "metadata": {
        "id": "VHtxor91JE0L",
        "colab": {
          "base_uri": "https://localhost:8080/"
        },
        "outputId": "7535e057-6262-470a-baa6-19d9df5fbb4b"
      },
      "outputs": [
        {
          "output_type": "stream",
          "name": "stdout",
          "text": [
            "[Diet Coke]\n"
          ]
        }
      ],
      "source": [
        "most_ordered = chipo.groupby('choice_description')['quantity'].sum()\n",
        "# print(most_ordered)\n",
        "print(most_ordered.idxmax())"
      ]
    },
    {
      "cell_type": "markdown",
      "metadata": {
        "id": "niBrOVUJJE0L"
      },
      "source": [
        "### Step 12. How many items were orderd in total?"
      ]
    },
    {
      "cell_type": "code",
      "execution_count": 20,
      "metadata": {
        "id": "ox5B7TitJE0L",
        "colab": {
          "base_uri": "https://localhost:8080/"
        },
        "outputId": "a896836e-9c24-4cc7-8251-8a0a714615e7"
      },
      "outputs": [
        {
          "output_type": "stream",
          "name": "stdout",
          "text": [
            "4972\n"
          ]
        }
      ],
      "source": [
        "print(chipo.quantity.sum())"
      ]
    },
    {
      "cell_type": "markdown",
      "metadata": {
        "id": "2jJf9io1JE0L"
      },
      "source": [
        "### Step 13. Turn the item price into a float"
      ]
    },
    {
      "cell_type": "markdown",
      "metadata": {
        "id": "J3FAxNXTJE0L"
      },
      "source": [
        "#### Step 13.a. Check the item price type"
      ]
    },
    {
      "cell_type": "code",
      "execution_count": 27,
      "metadata": {
        "id": "vt7jTYQYJE0L",
        "colab": {
          "base_uri": "https://localhost:8080/"
        },
        "outputId": "9717bff5-a452-48e4-de79-85087e0fe73f"
      },
      "outputs": [
        {
          "output_type": "execute_result",
          "data": {
            "text/plain": [
              "dtype('O')"
            ]
          },
          "metadata": {},
          "execution_count": 27
        }
      ],
      "source": [
        "chipo['item_price'].dtypes"
      ]
    },
    {
      "cell_type": "markdown",
      "metadata": {
        "id": "fWkhvf7rJE0M"
      },
      "source": [
        "#### Step 13.b. Create a lambda function and change the type of item price"
      ]
    },
    {
      "cell_type": "code",
      "source": [
        "chipo['item_price'] = chipo['item_price'].apply(lambda x: float(x.replace('$', '')))\n"
      ],
      "metadata": {
        "id": "D5ueyo7NU8r4"
      },
      "execution_count": 31,
      "outputs": []
    },
    {
      "cell_type": "code",
      "execution_count": 11,
      "metadata": {
        "collapsed": true,
        "id": "aAJcklsAJE0M"
      },
      "outputs": [],
      "source": []
    },
    {
      "cell_type": "markdown",
      "metadata": {
        "id": "XdIVgKn2JE0M"
      },
      "source": [
        "#### Step 13.c. Check the item price type"
      ]
    },
    {
      "cell_type": "code",
      "execution_count": 32,
      "metadata": {
        "id": "PSZNhn5IJE0M",
        "colab": {
          "base_uri": "https://localhost:8080/"
        },
        "outputId": "90d00f6d-cad6-485a-cc0b-2de9b1cb8380"
      },
      "outputs": [
        {
          "output_type": "execute_result",
          "data": {
            "text/plain": [
              "dtype('float64')"
            ]
          },
          "metadata": {},
          "execution_count": 32
        }
      ],
      "source": [
        "chipo[\"item_price\"].dtypes"
      ]
    },
    {
      "cell_type": "markdown",
      "metadata": {
        "id": "U26vQvZBJE0M"
      },
      "source": [
        "### Step 14. How much was the revenue for the period in the dataset?"
      ]
    },
    {
      "cell_type": "code",
      "execution_count": 36,
      "metadata": {
        "id": "vGklQ2YEJE0M",
        "colab": {
          "base_uri": "https://localhost:8080/"
        },
        "outputId": "e92f0923-c4af-4a5e-dbc1-0e0268aec215"
      },
      "outputs": [
        {
          "output_type": "stream",
          "name": "stdout",
          "text": [
            "34500.16\n"
          ]
        }
      ],
      "source": [
        "revenue=chipo['item_price'].sum()\n",
        "print(revenue)"
      ]
    },
    {
      "cell_type": "markdown",
      "metadata": {
        "id": "SdT1xOGlJE0M"
      },
      "source": [
        "### Step 15. How many orders were made in the period?"
      ]
    },
    {
      "cell_type": "code",
      "execution_count": 35,
      "metadata": {
        "id": "tWi095IVJE0N",
        "colab": {
          "base_uri": "https://localhost:8080/"
        },
        "outputId": "b00bb0fd-e53f-4c24-e171-3f9a59e9ab40"
      },
      "outputs": [
        {
          "output_type": "stream",
          "name": "stdout",
          "text": [
            "4972\n"
          ]
        }
      ],
      "source": [
        "total_orders=chipo['quantity'].sum()\n",
        "print(total_orders)"
      ]
    },
    {
      "cell_type": "markdown",
      "metadata": {
        "id": "kA7QjxeSJE0N"
      },
      "source": [
        "### Step 16. What is the average revenue amount per order?"
      ]
    },
    {
      "cell_type": "code",
      "execution_count": 37,
      "metadata": {
        "id": "BHqlvlUCJE0N",
        "colab": {
          "base_uri": "https://localhost:8080/"
        },
        "outputId": "bfc2c1cf-2f5d-4894-8dd0-af726814b509"
      },
      "outputs": [
        {
          "output_type": "stream",
          "name": "stdout",
          "text": [
            "6.938889782783589\n"
          ]
        }
      ],
      "source": [
        "# Solution 1\n",
        "\n",
        "average_revenue_amount_per_order=revenue/total_orders\n",
        "print(average_revenue_amount_per_order)"
      ]
    },
    {
      "cell_type": "code",
      "execution_count": 38,
      "metadata": {
        "id": "hmTbsX1TJE0N",
        "colab": {
          "base_uri": "https://localhost:8080/"
        },
        "outputId": "2757e6f8-59d1-4104-c783-f99320d62dd8"
      },
      "outputs": [
        {
          "output_type": "execute_result",
          "data": {
            "text/plain": [
              "63.743589743589745"
            ]
          },
          "metadata": {},
          "execution_count": 38
        }
      ],
      "source": [
        "# Solution 2\n",
        "\n",
        "grouped_chipo=chipo.groupby('item_price')['quantity'].sum()\n",
        "grouped_chipo.mean()"
      ]
    },
    {
      "cell_type": "markdown",
      "metadata": {
        "id": "dEWjRoUEJE0O"
      },
      "source": [
        "### Step 17. How many different items are sold?"
      ]
    },
    {
      "cell_type": "code",
      "execution_count": 39,
      "metadata": {
        "id": "BIlTqCvGJE0O",
        "colab": {
          "base_uri": "https://localhost:8080/"
        },
        "outputId": "69ab6e8e-9311-4ccb-8821-f42809f7f72b"
      },
      "outputs": [
        {
          "output_type": "execute_result",
          "data": {
            "text/plain": [
              "50"
            ]
          },
          "metadata": {},
          "execution_count": 39
        }
      ],
      "source": [
        "chipo['item_name'].nunique()"
      ]
    },
    {
      "cell_type": "code",
      "source": [],
      "metadata": {
        "id": "i8PtQaeBZP-C"
      },
      "execution_count": null,
      "outputs": []
    }
  ],
  "metadata": {
    "anaconda-cloud": {},
    "kernelspec": {
      "display_name": "Python [default]",
      "language": "python",
      "name": "python2"
    },
    "language_info": {
      "codemirror_mode": {
        "name": "ipython",
        "version": 2
      },
      "file_extension": ".py",
      "mimetype": "text/x-python",
      "name": "python",
      "nbconvert_exporter": "python",
      "pygments_lexer": "ipython2",
      "version": "2.7.12"
    },
    "colab": {
      "provenance": [],
      "include_colab_link": true
    }
  },
  "nbformat": 4,
  "nbformat_minor": 0
}