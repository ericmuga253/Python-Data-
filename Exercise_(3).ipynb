{
  "cells": [
    {
      "cell_type": "markdown",
      "metadata": {
        "id": "view-in-github",
        "colab_type": "text"
      },
      "source": [
        "<a href=\"https://colab.research.google.com/github/ericmuga253/Python-Data-/blob/main/Exercise_(3).ipynb\" target=\"_parent\"><img src=\"https://colab.research.google.com/assets/colab-badge.svg\" alt=\"Open In Colab\"/></a>"
      ]
    },
    {
      "cell_type": "markdown",
      "metadata": {
        "id": "dKff23RM8ku2"
      },
      "source": [
        "# Ex - GroupBy"
      ]
    },
    {
      "cell_type": "markdown",
      "metadata": {
        "id": "ohkR1av78ku5"
      },
      "source": [
        "### Introduction:\n",
        "\n",
        "GroupBy can be summarized as Split-Apply-Combine.\n",
        "\n",
        "Special thanks to: https://github.com/justmarkham for sharing the dataset and materials.\n",
        "\n",
        "Check out this [Diagram](http://i.imgur.com/yjNkiwL.png)  \n",
        "### Step 1. Import the necessary libraries"
      ]
    },
    {
      "cell_type": "code",
      "execution_count": null,
      "metadata": {
        "id": "9mm7utZB8ku6"
      },
      "outputs": [],
      "source": [
        "import pandas as pd"
      ]
    },
    {
      "cell_type": "markdown",
      "metadata": {
        "id": "jEUkaz7q8ku7"
      },
      "source": [
        "### Step 2. Import the dataset from this [address](https://raw.githubusercontent.com/justmarkham/DAT8/master/data/drinks.csv)."
      ]
    },
    {
      "cell_type": "markdown",
      "metadata": {
        "id": "o2MLC42q8ku7"
      },
      "source": [
        "### Step 3. Assign it to a variable called drinks."
      ]
    },
    {
      "cell_type": "code",
      "execution_count": null,
      "metadata": {
        "colab": {
          "base_uri": "https://localhost:8080/"
        },
        "id": "Oko6RiUh8ku7",
        "outputId": "9b63d224-9164-473a-fd50-ece7ee7a5760"
      },
      "outputs": [
        {
          "output_type": "stream",
          "name": "stdout",
          "text": [
            "  % Total    % Received % Xferd  Average Speed   Time    Time     Time  Current\n",
            "                                 Dload  Upload   Total   Spent    Left  Speed\n",
            "\r  0     0    0     0    0     0      0      0 --:--:-- --:--:-- --:--:--     0\r100  4973  100  4973    0     0  25495      0 --:--:-- --:--:-- --:--:-- 25634\n"
          ]
        }
      ],
      "source": [
        "!curl -O https://raw.githubusercontent.com/justmarkham/DAT8/master/data/drinks.csv"
      ]
    },
    {
      "cell_type": "code",
      "source": [
        "drinks=pd.read_csv('/content/drinks.csv')\n",
        "print(drinks)"
      ],
      "metadata": {
        "colab": {
          "base_uri": "https://localhost:8080/"
        },
        "id": "zJr-RbEC9PSL",
        "outputId": "b491e77e-c98c-47b6-dc1b-512ab28aea9d"
      },
      "execution_count": null,
      "outputs": [
        {
          "output_type": "stream",
          "name": "stdout",
          "text": [
            "         country  beer_servings  spirit_servings  wine_servings  \\\n",
            "0    Afghanistan              0                0              0   \n",
            "1        Albania             89              132             54   \n",
            "2        Algeria             25                0             14   \n",
            "3        Andorra            245              138            312   \n",
            "4         Angola            217               57             45   \n",
            "..           ...            ...              ...            ...   \n",
            "188    Venezuela            333              100              3   \n",
            "189      Vietnam            111                2              1   \n",
            "190        Yemen              6                0              0   \n",
            "191       Zambia             32               19              4   \n",
            "192     Zimbabwe             64               18              4   \n",
            "\n",
            "     total_litres_of_pure_alcohol continent  \n",
            "0                             0.0        AS  \n",
            "1                             4.9        EU  \n",
            "2                             0.7        AF  \n",
            "3                            12.4        EU  \n",
            "4                             5.9        AF  \n",
            "..                            ...       ...  \n",
            "188                           7.7        SA  \n",
            "189                           2.0        AS  \n",
            "190                           0.1        AS  \n",
            "191                           2.5        AF  \n",
            "192                           4.7        AF  \n",
            "\n",
            "[193 rows x 6 columns]\n"
          ]
        }
      ]
    },
    {
      "cell_type": "markdown",
      "metadata": {
        "id": "8gyeRDUo8ku7"
      },
      "source": [
        "### Step 4. Which continent drinks more beer on average?"
      ]
    },
    {
      "cell_type": "code",
      "execution_count": null,
      "metadata": {
        "colab": {
          "base_uri": "https://localhost:8080/"
        },
        "id": "SGJYz5oI8ku8",
        "outputId": "acf6e2c8-9efb-4229-9a6a-acedc7ba1de9"
      },
      "outputs": [
        {
          "output_type": "stream",
          "name": "stdout",
          "text": [
            "continent drinks more beer on average: 117\n"
          ]
        }
      ],
      "source": [
        "# print(drinks)\n",
        "# drinks.set_index('continent',inplace=True)\n",
        "# continent_that_drink_most_beer=drinks[index].idxmax()\n",
        "index_with_max_value = drinks['beer_servings'].idxmax()\n",
        "print('continent drinks more beer on average:', index_with_max_value)\n"
      ]
    },
    {
      "cell_type": "code",
      "source": [
        "drinks.columns"
      ],
      "metadata": {
        "colab": {
          "base_uri": "https://localhost:8080/"
        },
        "id": "76ZW80GUJ75a",
        "outputId": "cf229bea-bbcb-4dbd-e8ca-9a8a436e73df"
      },
      "execution_count": null,
      "outputs": [
        {
          "output_type": "execute_result",
          "data": {
            "text/plain": [
              "Index(['beer_servings', 'spirit_servings', 'wine_servings',\n",
              "       'total_litres_of_pure_alcohol'],\n",
              "      dtype='object')"
            ]
          },
          "metadata": {},
          "execution_count": 69
        }
      ]
    },
    {
      "cell_type": "markdown",
      "metadata": {
        "id": "iZXzOF978ku8"
      },
      "source": [
        "### Step 5. For each continent print the statistics for wine consumption."
      ]
    },
    {
      "cell_type": "code",
      "execution_count": null,
      "metadata": {
        "colab": {
          "base_uri": "https://localhost:8080/"
        },
        "id": "aI3OJt0E8ku8",
        "outputId": "43739f7f-a50b-4c50-d8a8-d8f451e6f986"
      },
      "outputs": [
        {
          "output_type": "execute_result",
          "data": {
            "text/plain": [
              "0        0\n",
              "1       54\n",
              "2       14\n",
              "3      312\n",
              "4       45\n",
              "      ... \n",
              "188      3\n",
              "189      1\n",
              "190      0\n",
              "191      4\n",
              "192      4\n",
              "Name: wine_servings, Length: 193, dtype: int64"
            ]
          },
          "metadata": {},
          "execution_count": 12
        }
      ],
      "source": [
        "drinks['wine_servings']"
      ]
    },
    {
      "cell_type": "markdown",
      "metadata": {
        "id": "bDbvgF-28ku8"
      },
      "source": [
        "### Step 6. Print the mean alcohol consumption per continent for every column"
      ]
    },
    {
      "cell_type": "code",
      "execution_count": null,
      "metadata": {
        "colab": {
          "base_uri": "https://localhost:8080/"
        },
        "id": "KXXd17OJ8ku9",
        "outputId": "ef8185fe-254a-47a4-f845-f54fe432f234"
      },
      "outputs": [
        {
          "output_type": "stream",
          "name": "stdout",
          "text": [
            "         country  beer_servings  spirit_servings  wine_servings  \\\n",
            "0    Afghanistan              0                0              0   \n",
            "1        Albania             89              132             54   \n",
            "2        Algeria             25                0             14   \n",
            "3        Andorra            245              138            312   \n",
            "4         Angola            217               57             45   \n",
            "..           ...            ...              ...            ...   \n",
            "188    Venezuela            333              100              3   \n",
            "189      Vietnam            111                2              1   \n",
            "190        Yemen              6                0              0   \n",
            "191       Zambia             32               19              4   \n",
            "192     Zimbabwe             64               18              4   \n",
            "\n",
            "     total_litres_of_pure_alcohol continent  \n",
            "0                             0.0        AS  \n",
            "1                             4.9        EU  \n",
            "2                             0.7        AF  \n",
            "3                            12.4        EU  \n",
            "4                             5.9        AF  \n",
            "..                            ...       ...  \n",
            "188                           7.7        SA  \n",
            "189                           2.0        AS  \n",
            "190                           0.1        AS  \n",
            "191                           2.5        AF  \n",
            "192                           4.7        AF  \n",
            "\n",
            "[193 rows x 6 columns]\n"
          ]
        }
      ],
      "source": [
        "print(drinks)"
      ]
    },
    {
      "cell_type": "markdown",
      "metadata": {
        "id": "Kjh4vLTh8ku9"
      },
      "source": [
        "### Step 7. Print the median alcohol consumption per continent for every column"
      ]
    },
    {
      "cell_type": "markdown",
      "metadata": {
        "id": "e0MjBTvk8ku-"
      },
      "source": [
        "### Step 8. Print the mean, min and max values for spirit consumption.\n",
        "#### This time output a DataFrame"
      ]
    },
    {
      "cell_type": "code",
      "execution_count": null,
      "metadata": {
        "id": "TmpGtZlZ8ku-"
      },
      "outputs": [],
      "source": []
    }
  ],
  "metadata": {
    "kernelspec": {
      "display_name": "Python 2",
      "language": "python",
      "name": "python2"
    },
    "language_info": {
      "codemirror_mode": {
        "name": "ipython",
        "version": 2
      },
      "file_extension": ".py",
      "mimetype": "text/x-python",
      "name": "python",
      "nbconvert_exporter": "python",
      "pygments_lexer": "ipython2",
      "version": "2.7.16"
    },
    "colab": {
      "provenance": [],
      "include_colab_link": true
    }
  },
  "nbformat": 4,
  "nbformat_minor": 0
}